{
 "cells": [
  {
   "cell_type": "markdown",
   "metadata": {},
   "source": [
    "# Redes Neurais Quânticas"
   ]
  },
  {
   "cell_type": "markdown",
   "metadata": {},
   "source": [
    "## Introdução"
   ]
  },
  {
   "cell_type": "markdown",
   "metadata": {},
   "source": [
    "\n",
    "As redes neurais artificiais são modelos computacionais para aprendizagem de máquina que ganharam significativa força nos últimos anos devido ao aumento do volume de dados e na capacidade de processamento de placas dedicadas. Esta tecnologia vem impactando todas as áreas de produção como agricultura, saúde, mineração, transportes, dentre outras. Dentre as possibilidade de plataformas para realização da computação das redes neurais artificiais, os computadores quânticos têm se mostrado uma possibilidade factível para gerar valor para essa área.\n",
    "\n",
    "Uma propriedade da Mecânica Quântica é a de processar e armazenar grandes vetores e matrizes complexas e realizar operações lineares em tais vetores, resultando em um aumento exponencial na capacidade de desenvolvimento de redes neurais diretamente implementadas em um computador quântico.\n",
    "\n",
    "O modelo mais simples de rede neural artificial foi proposto por Rosenblatt em 1957, uma vetor de valores reais I com dimensão m, que representa o input de informações, e um vetor  de valores reais W que representa os pesos da rede. O output da rede é dado pelo produto interno entre os vetores I e W que resulta numa probabilidade associada a uma decisão binária (sim/não). Nas implementações mais simples I e W possuem valores binários e apesar de serem limitados, são a base das redes neurais mais complexas que existem hoje em dia.\n",
    "\n",
    "[IMAGEM REDE NEURAL]\n"
   ]
  },
  {
   "cell_type": "markdown",
   "metadata": {},
   "source": [
    "## Implementação do artigo \"An artificial neuron implemented on an actual quantum processor\""
   ]
  },
  {
   "cell_type": "markdown",
   "metadata": {},
   "source": [
    "No artigo “An artificial neuron implemented on an actual quantum processor” os autores propõem uma alternativa inspirada pela rede neural de Rosenblatt. Primeiramente os vetores de input e pesos de dimensão M são computados no computador quântico usando N qubits, de modo que M = 2^N. Isso explicita a vantagem informacional do computador quântico. Os autores também implementam um procedimento para gerar múltiplos estados de emaranhamento que permitiram diminuir os recursos computacionais necessários para gerar o algoritmo.\n",
    "    De maneira prática, o sistema quântico é inicializado numa operação unitária Ui, que representa a entrada de dados, segue para um operação unitária Uw que representa os pesos da rede neural e o resultado é extraído por meio de um bit auxiliar (ancilla) que é usado para aplicar uma porta NOT multi controlada a fim de mensurar o estado de ativação do perceptron. A mensuração da ancila produz um output do estado ativado do perceptron com probabilidade |Cm−1|^2.\n",
    "    \n",
    "    [IMAGEM CIRCUITO 1]\n"
   ]
  },
  {
   "cell_type": "code",
   "execution_count": null,
   "metadata": {},
   "outputs": [],
   "source": []
  },
  {
   "cell_type": "markdown",
   "metadata": {},
   "source": [
    "Como observado no circuito acima, vamos definir o circuito Ui que será a entrada representativa dos dados. No exemplo demonstrado no artigo foram simuladas imagens 4x4 pixels que totalizam 16 pixels, cada um representando um valor binário (branco ou preto) que será implementado no algoritmo quântico por meio de uma inversão de sinal da porta lógica Z e CnZ.\n",
    "\n",
    "[IMAGEM PORTA Z]"
   ]
  },
  {
   "cell_type": "markdown",
   "metadata": {},
   "source": [
    "## Introdução ao Qiskit"
   ]
  },
  {
   "cell_type": "markdown",
   "metadata": {},
   "source": [
    "........"
   ]
  },
  {
   "cell_type": "code",
   "execution_count": 1,
   "metadata": {},
   "outputs": [],
   "source": [
    "import qiskit as qk"
   ]
  },
  {
   "cell_type": "code",
   "execution_count": 2,
   "metadata": {},
   "outputs": [
    {
     "name": "stdout",
     "output_type": "stream",
     "text": [
      "         \n",
      "q0_0: |0>\n",
      "         \n",
      "q0_1: |0>\n",
      "         \n",
      "q0_2: |0>\n",
      "         \n",
      "q0_3: |0>\n",
      "         \n",
      "q0_4: |0>\n",
      "         \n",
      " c0_0: 0 \n",
      "         \n",
      " c0_1: 0 \n",
      "         \n",
      " c0_2: 0 \n",
      "         \n",
      " c0_3: 0 \n",
      "         \n",
      " c0_4: 0 \n",
      "         \n"
     ]
    }
   ],
   "source": [
    "#=======================#\n",
    "# INITIALIZATION\n",
    "#======================#\n",
    "\n",
    "# define nqubits (4+ancilla)\n",
    "nqubits = 5\n",
    "\n",
    "# creating a quantum register\n",
    "q = qk.QuantumRegister(nqubits)\n",
    "\n",
    "# creating a classical register \n",
    "c = qk.ClassicalRegister(nqubits)\n",
    "\n",
    "# build quantum circuit with the qubits and classical register\n",
    "circuit = qk.QuantumCircuit(q, c)\n",
    "\n",
    "# print circuit\n",
    "print(circuit)"
   ]
  },
  {
   "cell_type": "markdown",
   "metadata": {},
   "source": [
    "## Matriz Ui - Input de Dados da Rede Neural Quântica"
   ]
  },
  {
   "cell_type": "code",
   "execution_count": 3,
   "metadata": {},
   "outputs": [
    {
     "name": "stdout",
     "output_type": "stream",
     "text": [
      "         ┌───┐┌───┐         \n",
      "q0_0: |0>┤ H ├┤ Z ├────■──■─\n",
      "         ├───┤├───┤    │  │ \n",
      "q0_1: |0>┤ H ├┤ Z ├─■──┼──■─\n",
      "         ├───┤├───┤ │  │    \n",
      "q0_2: |0>┤ H ├┤ Z ├─■──■────\n",
      "         ├───┤└───┘         \n",
      "q0_3: |0>┤ H ├──────────────\n",
      "         └───┘              \n",
      "q0_4: |0>───────────────────\n",
      "                            \n",
      " c0_0: 0 ═══════════════════\n",
      "                            \n",
      " c0_1: 0 ═══════════════════\n",
      "                            \n",
      " c0_2: 0 ═══════════════════\n",
      "                            \n",
      " c0_3: 0 ═══════════════════\n",
      "                            \n",
      " c0_4: 0 ═══════════════════\n",
      "                            \n"
     ]
    }
   ],
   "source": [
    "#=======================#\n",
    "# INPUT\n",
    "#======================#\n",
    "\n",
    "# Hadamard on all qubits but ancilla\n",
    "for i in range(nqubits-1):\n",
    "    circuit.h(q[i])\n",
    "    \n",
    "# Z-gate on first 3\n",
    "for i in range(nqubits-2):\n",
    "    circuit.z(q[i])\n",
    "    \n",
    "# Controlled Z\n",
    "circuit.cz(q[1], q[2])\n",
    "circuit.cz(q[0], q[2])\n",
    "circuit.cz(q[0], q[1])\n",
    "#circuit.ccz(q[0], q[1], q[2])\n",
    "\n",
    "# print circuit\n",
    "print(circuit)"
   ]
  },
  {
   "cell_type": "markdown",
   "metadata": {},
   "source": [
    "# Uw\n",
    "\n",
    "Como dito, a primeira fase do algoritmo consiste em realizar o produto interno entre um vetor i de entrada e outro vetor w de pesos. Para realizar isso, são usados dois operadores unitários. Um deles, Uw, tem a seguinte visualização geométrica\n",
    "\n"
   ]
  },
  {
   "cell_type": "markdown",
   "metadata": {},
   "source": [
    "![](img/image01.png)"
   ]
  },
  {
   "cell_type": "markdown",
   "metadata": {},
   "source": [
    "Primeiramente, em verde, é feita uma projeção do vetor |ψi⟩ no vetor |ψw⟩. Então, Uw rotaciona |ψw⟩ até alinhá-lo com |111...11⟩ e também rotaciona |ψi⟩ na mesma proporção. O produto interno i·w é representado pela projeção de Uw|ψi⟩ no eixo |111...11⟩ "
   ]
  },
  {
   "cell_type": "markdown",
   "metadata": {},
   "source": [
    "No artigo, são sugeridas duas abordagens: Força bruta a partir de sucessivas rotações e uma abordagem utilizando hipergrafos. A segunda, sugere uma definição pouco conhecida, mas nada mirabolante. Na verdade, a noção que temos de grafos nada mais são do que um caso especial dos hipergrafos.\n"
   ]
  },
  {
   "cell_type": "markdown",
   "metadata": {},
   "source": [
    "![](img/grafohipergrafo.png)"
   ]
  },
  {
   "cell_type": "markdown",
   "metadata": {},
   "source": [
    "Nos grafos, se as arestas são relacionamentos, esses relacionamentos são de 1:1. Ou seja, um relacionamento (uma aresta) não pode sair de um vértice em direção a vários outros. Nos hipergrafos, no entanto, isso é possível. Neles, uma aresta pode direcionar-se a vários outros vértices. Por isso, diz-se que os grafos são um caso especial de hipergrafos, em que arestas ligam somente dois vértices. "
   ]
  },
  {
   "cell_type": "markdown",
   "metadata": {},
   "source": [
    "![](img/hipergrafocircuito.png)"
   ]
  }
 ],
 "metadata": {
  "kernelspec": {
   "display_name": "Python 3",
   "language": "python",
   "name": "python3"
  },
  "language_info": {
   "codemirror_mode": {
    "name": "ipython",
    "version": 3
   },
   "file_extension": ".py",
   "mimetype": "text/x-python",
   "name": "python",
   "nbconvert_exporter": "python",
   "pygments_lexer": "ipython3",
   "version": "3.6.0"
  }
 },
 "nbformat": 4,
 "nbformat_minor": 4
}
