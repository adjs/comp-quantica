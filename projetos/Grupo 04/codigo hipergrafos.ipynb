{
 "cells": [
  {
   "cell_type": "code",
   "execution_count": 172,
   "metadata": {},
   "outputs": [],
   "source": [
    "import math\n",
    "\n",
    "matrix =  [1, 1, 0, 0,\n",
    "          0, 0, 0, 0, \n",
    "          0, 0, 1, 0, \n",
    "          0, 0, 0, 0]\n",
    "\n",
    "# capture number of qubits needed for the system\n",
    "maxIndex = len(matrix)\n",
    "maxIndexRoot = int(math.sqrt(len(matrix)))"
   ]
  },
  {
   "cell_type": "code",
   "execution_count": 173,
   "metadata": {},
   "outputs": [],
   "source": [
    "# Gera uma lista de binários do tamanho da matriz\n",
    "def generateStates(size):\n",
    "    state = []\n",
    "    sizeRoot = int(math.sqrt(size))\n",
    "    for i in range(size):\n",
    "        state.append(bin(i))\n",
    "    for i in range(size):\n",
    "        state[i] = state[i][1:]\n",
    "        state[i] = state[i].replace('b', '')\n",
    "        if len (state[i]) < sizeRoot: state[i] = (add0(sizeRoot - (len (state[i])))) + state[i]\n",
    "    return state\n",
    "\n",
    "# Marca os estados de acordo com a matriz\n",
    "def markStates(state):\n",
    "    size = maxIndex\n",
    "    for i in range(size):\n",
    "        if matrix[i] == 1: state[i] = '-' + state[i]\n",
    "        else: state[i] = '+' + state[i]\n",
    "    return state\n",
    "\n",
    "# Concatena 0's a esquerda das strings\n",
    "def add0(n):\n",
    "    if n == 0:\n",
    "        return ('')\n",
    "    else:\n",
    "        return ('0' + (add0(n-1)))\n",
    "\n",
    "# Retorna quantos 1's há em uma string\n",
    "def howMany1(string):\n",
    "    count = 0\n",
    "    for i in range(len(string)):\n",
    "        if string[i] == '1': count = count +1\n",
    "    return count\n",
    "\n",
    "# \"multiplica por -1\" uma string binária\n",
    "def singFlip(string):\n",
    "    if string[0] == '-': return ('+' + string[1:])\n",
    "    else: return ('-' + string[1:])"
   ]
  },
  {
   "cell_type": "code",
   "execution_count": 174,
   "metadata": {},
   "outputs": [],
   "source": [
    "targetVector = generateStates(maxIndex)\n",
    "targetVector = markStates(targetVector)\n",
    "statusVector = generateStates(maxIndex)\n"
   ]
  },
  {
   "cell_type": "code",
   "execution_count": 179,
   "metadata": {},
   "outputs": [
    {
     "name": "stdout",
     "output_type": "stream",
     "text": [
      "['-0000', '-0001', '+0010', '+0011', '+0100', '+0101', '+0110', '+0111', '+1000', '+1001', '-1010', '+1011', '+1100', '+1101', '+1110', '+1111']\n",
      "['0000', '0001', '0010', '0011', '0100', '0101', '0110', '0111', '1000', '1001', '1010', '1011', '1100', '1101', '1110', '1111']\n",
      "No\n"
     ]
    }
   ],
   "source": [
    "print(targetVector)\n",
    "print(statusVector)\n"
   ]
  },
  {
   "cell_type": "code",
   "execution_count": null,
   "metadata": {},
   "outputs": [],
   "source": []
  },
  {
   "cell_type": "code",
   "execution_count": null,
   "metadata": {},
   "outputs": [],
   "source": []
  },
  {
   "cell_type": "code",
   "execution_count": null,
   "metadata": {},
   "outputs": [],
   "source": []
  },
  {
   "cell_type": "code",
   "execution_count": null,
   "metadata": {},
   "outputs": [],
   "source": []
  }
 ],
 "metadata": {
  "kernelspec": {
   "display_name": "Python 3",
   "language": "python",
   "name": "python3"
  },
  "language_info": {
   "codemirror_mode": {
    "name": "ipython",
    "version": 3
   },
   "file_extension": ".py",
   "mimetype": "text/x-python",
   "name": "python",
   "nbconvert_exporter": "python",
   "pygments_lexer": "ipython3",
   "version": "3.6.0"
  }
 },
 "nbformat": 4,
 "nbformat_minor": 2
}
