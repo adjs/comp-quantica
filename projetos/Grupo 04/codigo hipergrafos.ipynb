{
 "cells": [
  {
   "cell_type": "code",
   "execution_count": 468,
   "metadata": {},
   "outputs": [],
   "source": [
    "import math\n",
    "\n",
    "matrix =  [1, 1, 0, 0,\n",
    "          0, 0, 0, 0, \n",
    "          0, 0, 1, 0, \n",
    "          0, 0, 0, 0]\n",
    "\n",
    "# capture number of qubits needed for the system\n",
    "maxIndex = len(matrix)"
   ]
  },
  {
   "cell_type": "code",
   "execution_count": 469,
   "metadata": {},
   "outputs": [],
   "source": [
    "# Gera uma lista de binários do tamanho da matriz\n",
    "def generateStates(size):\n",
    "    state = []\n",
    "    sizeRoot = int(math.sqrt(size))\n",
    "    for i in range(size):\n",
    "        state.append(bin(i))\n",
    "    for i in range(size):\n",
    "        state[i] = state[i][1:]\n",
    "        state[i] = state[i].replace('b', '')\n",
    "        if len (state[i]) < sizeRoot: state[i] = (add0(sizeRoot - (len (state[i])))) + state[i]\n",
    "    return state\n",
    "\n",
    "# Marca os estados de acordo com a matriz\n",
    "def markStates(state):\n",
    "    size = maxIndex\n",
    "    for i in range(size):\n",
    "        if matrix[i] == 1: state[i] = '-' + state[i]\n",
    "        else: state[i] = '+' + state[i]\n",
    "    return state\n",
    "\n",
    "# Concatena 0's a esquerda das strings\n",
    "def add0(n):\n",
    "    if n == 0:\n",
    "        return ('')\n",
    "    else:\n",
    "        return ('0' + (add0(n-1)))\n",
    "\n",
    "# Retorna quantos 1's há em uma string\n",
    "def howMany1(string):\n",
    "    count = 0\n",
    "    for i in range(len(string)):\n",
    "        if string[i] == '1': count = count +1\n",
    "    return count\n",
    "\n",
    "# \"multiplica por -1\" uma string binária\n",
    "def singFlip(string):\n",
    "    if string[0] == '-': return ('+' + string[1:])\n",
    "    else: return ('-' + string[1:])\n",
    "\n",
    "def allPositive(state, size):\n",
    "    for i in range(size):\n",
    "        state[i] = '+' + state[i]\n",
    "    return state\n",
    "\n",
    "def whereIs1(string):\n",
    "    locations = ''\n",
    "    string = string[1:]\n",
    "    for i in range(len(string)):\n",
    "        if string[i] == '1': locations = locations + str(i)\n",
    "    return locations\n",
    "\n",
    "def flipSingOn(state, location):\n",
    "    for i in range(maxIndex):\n",
    "        if state[i][location] == '1':\n",
    "            state[i] = singFlip(state[i])\n",
    "    return state\n",
    "\n",
    "def flipSingOn2(state, qubits):\n",
    "    q0 = int(qubits[0])\n",
    "    q1 = int(qubits[1])\n",
    "    for i in range(maxIndex):\n",
    "        if state[i][q0] == '1' and state[i][q1] == '1':\n",
    "            state[i] = singFlip(state[i])\n",
    "    return state\n",
    "\n",
    "def flipSingOn3(state, qubits):\n",
    "    q0 = int(qubits[0])\n",
    "    q1 = int(qubits[1])\n",
    "    q2 = int(qubits[2])\n",
    "    for i in range(maxIndex):\n",
    "        if state[i][q0] == '1' and state[i][q1] == '1' and state[i][q2] == '1':\n",
    "            state[i] = singFlip(state[i])\n",
    "    return state\n",
    "\n",
    "def runTo1(statusVector, n):\n",
    "    theQubits = whereIs1(goalVector[n])\n",
    "    print(\"theq %\", theQubits)\n",
    "    circuit.z(q[int(theQubits[0])]) # aplica z no qubit\n",
    "    statusVector = flipSingOn(statusVector, int(theQubits[0])+1) # multiplica por -1 no vetor de status\n",
    "    return statusVector\n",
    "\n",
    "#============================\n",
    "# MULTI-CONTROLLED GATES\n",
    "#============================\n",
    "\n",
    "def ccz(circ, q1, q2, q3, aux1):\n",
    "# Apply Z-gate to a state controlled by 3 qubits\n",
    "    circ.ccx(q1, q2, aux1)\n",
    "    circ.cz(aux1, q3)\n",
    "    # cleaning the aux bit\n",
    "    circ.ccx(q1, q2, aux1)\n",
    "    return circ\n",
    "\n",
    "def cccz(circ, q1, q2, q3, q4, aux1, aux2):\n",
    "# Apply Z-gate to a state controlled by 4 qubits\n",
    "    circ.ccx(q1, q2, aux1)\n",
    "    circ.ccx(q3, aux1, aux2)\n",
    "    circ.cz(aux2, q4)\n",
    "    # cleaning the aux bits\n",
    "    circ.ccx(q1, q2, aux1)\n",
    "    circ.ccx(q3, aux1, aux2)\n",
    "    return circ\n",
    "\n",
    "def ccccx(circ, q1, q2, q3, q4, q5, aux1, aux2):\n",
    "    circ.ccx(q1, q2, aux1)\n",
    "    circ.ccx(q3, q4, aux2)\n",
    "    circ.ccx(aux2, aux1, q5)\n",
    "    # cleaning the aux bits\n",
    "    circ.ccx(q3, q4, aux2)\n",
    "    circ.ccx(q1, q2, aux1)\n",
    "    return circ"
   ]
  },
  {
   "cell_type": "code",
   "execution_count": 470,
   "metadata": {},
   "outputs": [],
   "source": [
    "goalVector = generateStates(maxIndex)\n",
    "goalVector = markStates(goalVector)\n",
    "statusVector = generateStates(maxIndex)\n",
    "statusVector = allPositive(statusVector, maxIndex)"
   ]
  },
  {
   "cell_type": "code",
   "execution_count": 471,
   "metadata": {},
   "outputs": [],
   "source": [
    "# Checando se objetivo[0] é -1\n",
    "if goalVector[0][0] == '-':\n",
    "    for i in range(maxIndex):\n",
    "        goalVector[i] = singFlip(goalVector[i])"
   ]
  },
  {
   "cell_type": "code",
   "execution_count": 472,
   "metadata": {},
   "outputs": [
    {
     "data": {
      "text/plain": [
       "<qiskit.circuit.instructionset.InstructionSet at 0x12f2ac940>"
      ]
     },
     "execution_count": 472,
     "metadata": {},
     "output_type": "execute_result"
    }
   ],
   "source": [
    "import qiskit as qk\n",
    "nqubits = int(math.sqrt(maxIndex)) + 1\n",
    "q = qk.QuantumRegister(nqubits)\n",
    "c = qk.ClassicalRegister(1)\n",
    "aux = qk.QuantumRegister(2) # Registrador auxiliar para o n-z-controlado\n",
    "circuit = qk.QuantumCircuit(q, aux, c)\n",
    "circuit.h(q)"
   ]
  },
  {
   "cell_type": "code",
   "execution_count": 473,
   "metadata": {},
   "outputs": [
    {
     "name": "stdout",
     "output_type": "stream",
     "text": [
      "['+0000', '+0001', '+0010', '+0011', '+0100', '+0101', '+0110', '+0111', '+1000', '+1001', '+1010', '+1011', '+1100', '+1101', '+1110', '+1111']\n",
      "theq % 2\n",
      "2\n",
      "theq % 1\n",
      "4\n",
      "theq % 0\n",
      "8\n",
      "['+0000', '+0001', '-0010', '-0011', '-0100', '-0101', '+0110', '+0111', '-1000', '-1001', '+1010', '+1011', '+1100', '+1101', '-1110', '-1111']\n"
     ]
    },
    {
     "data": {
      "image/png": "[encoded data removed]",
      "text/plain": [
       "<Figure size 298.592x505.68 with 1 Axes>"
      ]
     },
     "execution_count": 473,
     "metadata": {},
     "output_type": "execute_result"
    }
   ],
   "source": [
    "print(statusVector)\n",
    "# print(goalVector)\n",
    "for i in range(1,2):\n",
    "    for n in range(maxIndex):\n",
    "        if (statusVector[n] != goalVector[n]) and (howMany1(goalVector[n]) == 1):\n",
    "            runTo1(statusVector, n)\n",
    "            print(n)\n",
    "    \n",
    "#     circuit.barrier()\n",
    "#     for n in range(maxIndex):\n",
    "#         if (statusVector[n] != goalVector[n]) and (howMany1(goalVector[n]) == 2):\n",
    "#             theQubits = whereIs1(goalVector[n])\n",
    "#             circuit.cz(q[int(theQubits[0])], q[int(theQubits[1])])\n",
    "#             statusVector = flipSingOn2(statusVector, theQubits)\n",
    "# # #             statusVector = flipSingOn2(statusVector, int(theQubits[0])+1, int(theQubits[1])+1) # multiplica por -1 no vetor de status\n",
    "# #             statusVector = flipSingOn(statusVector, int(theQubits[0])+1) # multiplica por -1 no vetor de status\n",
    "# #             statusVector = flipSingOn(statusVector, int(theQubits[1])+1) # multiplica por -1 no vetor de status\n",
    "#     circuit.barrier()\n",
    "# #     for n in range(maxIndex):\n",
    "# #         if (statusVector[n] != goalVector[n]) and (howMany1(goalVector[n]) == 3):\n",
    "# #             theQubits = whereIs1(goalVector[n])\n",
    "# #             print(theQubits)\n",
    "# #             circuit = ccz(circuit, q[int(theQubits[0])], q[int(theQubits[1])], q[int(theQubits[2])], aux[0])\n",
    "# #             statusVector = flipSingOn3(statusVector, theQubits)\n",
    "# # #             statusVector = flipSingOn(statusVector, int(theQubits[0])+1) # multiplica por -1 no vetor de status\n",
    "# # #             statusVector = flipSingOn(statusVector, int(theQubits[1])+1) # multiplica por -1 no vetor de status\n",
    "# # #             statusVector = flipSingOn(statusVector, int(theQubits[2])+1) # multiplica por -1 no vetor de status\n",
    "                \n",
    "\n",
    "print(statusVector)\n",
    "# print(goalVector)\n",
    "\n",
    "circuit.draw(output='mpl')"
   ]
  },
  {
   "cell_type": "code",
   "execution_count": 474,
   "metadata": {},
   "outputs": [
    {
     "name": "stdout",
     "output_type": "stream",
     "text": [
      "['+0000', '+0001', '+0010', '+0011', '+0100', '+0101', '+0110', '+0111', '+1000', '+1001', '+1010', '+1011', '+1100', '+1101', '+1110', '+1111']\n",
      "['+0000', '-0001', '+0010', '-0011', '+0100', '-0101', '+0110', '-0111', '+1000', '-1001', '+1010', '-1011', '+1100', '-1101', '+1110', '-1111']\n"
     ]
    }
   ],
   "source": [
    "ysV = generateStates(maxIndex)\n",
    "ysV = allPositive(ysV, maxIndex)\n",
    "print(ysV)\n",
    "print(flipSingOn(ysV, 4))"
   ]
  },
  {
   "cell_type": "code",
   "execution_count": null,
   "metadata": {},
   "outputs": [],
   "source": []
  },
  {
   "cell_type": "code",
   "execution_count": null,
   "metadata": {},
   "outputs": [],
   "source": []
  }
 ],
 "metadata": {
  "kernelspec": {
   "display_name": "Python 3",
   "language": "python",
   "name": "python3"
  },
  "language_info": {
   "codemirror_mode": {
    "name": "ipython",
    "version": 3
   },
   "file_extension": ".py",
   "mimetype": "text/x-python",
   "name": "python",
   "nbconvert_exporter": "python",
   "pygments_lexer": "ipython3",
   "version": "3.6.0"
  }
 },
 "nbformat": 4,
 "nbformat_minor": 2
}
