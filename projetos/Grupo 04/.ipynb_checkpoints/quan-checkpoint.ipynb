{
 "cells": [
  {
   "cell_type": "markdown",
   "metadata": {},
   "source": [
    "# Uw\n",
    "\n",
    "Como dito, a primeira fase do algoritmo consiste em realizar o produto interno entre um vetor i de entrada e outro vetor w de pesos. Para realizar isso, são usados dois operadores unitários. Um deles, Uw, tem a seguinte visualização geométrica\n"
   ]
  },
  {
   "cell_type": "markdown",
   "metadata": {},
   "source": [
    "![](img/image01.png)"
   ]
  },
  {
   "cell_type": "markdown",
   "metadata": {},
   "source": [
    "Primeiramente, em verde, é feita uma projeção do vetor |ψi⟩ no vetor |ψw⟩. Então, Uw rotaciona |ψw⟩ até alinhá-lo com |111...11⟩ e também rotaciona |ψi⟩ na mesma proporção. O produto interno i·w é representado pela projeção de Uw|ψi⟩ no eixo |111...11⟩ "
   ]
  },
  {
   "cell_type": "markdown",
   "metadata": {},
   "source": [
    "No artigo, são sugeridas duas abordagens: Força bruta a partir de sucessivas rotações e uma abordagem utilizando hipergrafos. A segunda, sugere uma definição pouco conhecida, mas nada mirabolante. Na verdade, a noção que temos de grafos nada mais são do que um caso especial dos hipergrafos."
   ]
  },
  {
   "cell_type": "markdown",
   "metadata": {},
   "source": [
    "![](img/grafohipergrafo.png)"
   ]
  },
  {
   "cell_type": "markdown",
   "metadata": {},
   "source": [
    "Nos grafos, se as arestas são relacionamentos, esses relacionamentos são de 1:1. Ou seja, um relacionamento (uma aresta) não pode sair de um vértice em direção a vários outros. Nos hipergrafos, no entanto, isso é possível. Neles, uma aresta pode direcionar-se a vários outros vértices. Por isso, diz-se que os grafos são um caso especial de hipergrafos, em que arestas ligam somente dois vértices. "
   ]
  },
  {
   "cell_type": "markdown",
   "metadata": {},
   "source": [
    "![](img/hipergrafocircuito.png)"
   ]
  }
 ],
 "metadata": {
  "kernelspec": {
   "display_name": "Python 3",
   "language": "python",
   "name": "python3"
  },
  "language_info": {
   "codemirror_mode": {
    "name": "ipython",
    "version": 3
   },
   "file_extension": ".py",
   "mimetype": "text/x-python",
   "name": "python",
   "nbconvert_exporter": "python",
   "pygments_lexer": "ipython3",
   "version": "3.6.0"
  }
 },
 "nbformat": 4,
 "nbformat_minor": 2
}
