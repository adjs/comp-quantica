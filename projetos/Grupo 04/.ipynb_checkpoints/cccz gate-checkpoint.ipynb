{
 "cells": [
  {
   "cell_type": "code",
   "execution_count": 65,
   "metadata": {},
   "outputs": [
    {
     "ename": "ImportError",
     "evalue": "cannot import name 'Qubit'",
     "output_type": "error",
     "traceback": [
      "\u001b[0;31m---------------------------------------------------------------------------\u001b[0m",
      "\u001b[0;31mImportError\u001b[0m                               Traceback (most recent call last)",
      "\u001b[0;32m<ipython-input-65-a0824cd434ed>\u001b[0m in \u001b[0;36m<module>\u001b[0;34m\u001b[0m\n\u001b[1;32m      3\u001b[0m \u001b[0;32mfrom\u001b[0m \u001b[0mmath\u001b[0m \u001b[0;32mimport\u001b[0m \u001b[0mpi\u001b[0m\u001b[0;34m,\u001b[0m \u001b[0mceil\u001b[0m\u001b[0;34m\u001b[0m\u001b[0m\n\u001b[1;32m      4\u001b[0m \u001b[0;34m\u001b[0m\u001b[0m\n\u001b[0;32m----> 5\u001b[0;31m \u001b[0;32mfrom\u001b[0m \u001b[0mqiskit\u001b[0m\u001b[0;34m.\u001b[0m\u001b[0mcircuit\u001b[0m \u001b[0;32mimport\u001b[0m \u001b[0mQuantumCircuit\u001b[0m\u001b[0;34m,\u001b[0m \u001b[0mQuantumRegister\u001b[0m\u001b[0;34m,\u001b[0m \u001b[0mQubit\u001b[0m\u001b[0;34m\u001b[0m\u001b[0m\n\u001b[0m\u001b[1;32m      6\u001b[0m \u001b[0;34m\u001b[0m\u001b[0m\n\u001b[1;32m      7\u001b[0m \u001b[0;32mfrom\u001b[0m \u001b[0mqiskit\u001b[0m\u001b[0;34m.\u001b[0m\u001b[0maqua\u001b[0m \u001b[0;32mimport\u001b[0m \u001b[0mAquaError\u001b[0m\u001b[0;34m\u001b[0m\u001b[0m\n",
      "\u001b[0;31mImportError\u001b[0m: cannot import name 'Qubit'"
     ]
    }
   ],
   "source": [
    "import qiskit as qk\n",
    "import logging\n",
    "from math import pi, ceil\n",
    "\n",
    "from qiskit.circuit import QuantumCircuit, QuantumRegister, Qubit\n",
    "\n",
    "from qiskit.aqua import AquaError\n",
    "from .relative_phase_toffoli import rccx\n",
    "\n",
    "\n",
    "\n",
    "\n"
   ]
  },
  {
   "cell_type": "code",
   "execution_count": 62,
   "metadata": {},
   "outputs": [
    {
     "ename": "AttributeError",
     "evalue": "'QuantumCircuit' object has no attribute 'rccx'",
     "output_type": "error",
     "traceback": [
      "\u001b[0;31m---------------------------------------------------------------------------\u001b[0m",
      "\u001b[0;31mAttributeError\u001b[0m                            Traceback (most recent call last)",
      "\u001b[0;32m<ipython-input-62-3aee21d37323>\u001b[0m in \u001b[0;36m<module>\u001b[0;34m\u001b[0m\n\u001b[1;32m      6\u001b[0m \u001b[0;31m# circuit.n_qubits()\u001b[0m\u001b[0;34m\u001b[0m\u001b[0;34m\u001b[0m\u001b[0m\n\u001b[1;32m      7\u001b[0m \u001b[0;31m# circuit.AND(q[0], q[1], q[2], q[3])\u001b[0m\u001b[0;34m\u001b[0m\u001b[0;34m\u001b[0m\u001b[0m\n\u001b[0;32m----> 8\u001b[0;31m \u001b[0mcircuit\u001b[0m\u001b[0;34m.\u001b[0m\u001b[0mrccx\u001b[0m\u001b[0;34m(\u001b[0m\u001b[0mq\u001b[0m\u001b[0;34m[\u001b[0m\u001b[0;36m0\u001b[0m\u001b[0;34m]\u001b[0m\u001b[0;34m,\u001b[0m \u001b[0mq\u001b[0m\u001b[0;34m[\u001b[0m\u001b[0;36m1\u001b[0m\u001b[0;34m]\u001b[0m\u001b[0;34m,\u001b[0m \u001b[0mq\u001b[0m\u001b[0;34m[\u001b[0m\u001b[0;36m2\u001b[0m\u001b[0;34m]\u001b[0m\u001b[0;34m,\u001b[0m \u001b[0mq\u001b[0m\u001b[0;34m[\u001b[0m\u001b[0;36m3\u001b[0m\u001b[0;34m]\u001b[0m\u001b[0;34m)\u001b[0m\u001b[0;34m\u001b[0m\u001b[0m\n\u001b[0m\u001b[1;32m      9\u001b[0m \u001b[0;31m# circuit.mcrz(circuit, [q[0],q[1]], q[4])\u001b[0m\u001b[0;34m\u001b[0m\u001b[0;34m\u001b[0m\u001b[0m\n\u001b[1;32m     10\u001b[0m \u001b[0;34m\u001b[0m\u001b[0m\n",
      "\u001b[0;31mAttributeError\u001b[0m: 'QuantumCircuit' object has no attribute 'rccx'"
     ]
    }
   ],
   "source": [
    "nqubits = 5\n",
    "q = qk.QuantumRegister(nqubits)\n",
    "c = qk.ClassicalRegister(nqubits)\n",
    "circuit = qk.QuantumCircuit(q, c)\n",
    "\n",
    "# circuit.n_qubits()\n",
    "# circuit.AND(q[0], q[1], q[2], q[3])\n",
    "circuit.rccx(q[0], q[1], q[2], q[3])\n",
    "# circuit.mcrz(circuit, [q[0],q[1]], q[4])\n",
    "\n",
    "# print(circuit)"
   ]
  },
  {
   "cell_type": "code",
   "execution_count": null,
   "metadata": {},
   "outputs": [],
   "source": [
    "# circuit.h(q[4])\n",
    "# circuit.t(q[4])\n",
    "# circuit.cx(q[1], q[4])\n",
    "# circuit.tdg(q[4])\n",
    "# circuit.cx(q[0], q[4])\n",
    "# circuit.t(q[4])\n",
    "# circuit.cx(q[1], q[4])\n",
    "# circuit.tdg(q[4])\n",
    "# circuit.h(q[4])\n",
    "# circuit.cx(q[3], q[4])\n",
    "# circuit.tdg(q[4])\n",
    "# circuit.cx(q[2], q[4])\n",
    "# circuit.t(q[4])\n",
    "# circuit.cx(q[3], q[4])\n",
    "# circuit.tdg(q[4])\n",
    "# circuit.cx(q[2], q[4])\n",
    "# circuit.cx(q[2], q[3])\n",
    "# circuit.tdg(q[4])\n",
    "# circuit.cx(q[2], q[3])\n",
    "# circuit.t(q[4])\n",
    "# circuit.t(q[3])\n",
    "# circuit.t(q[2])\n",
    "# circuit.h(q[4])\n",
    "# circuit.t(q[4])\n",
    "# circuit.cx(q[1], q[4])\n",
    "# circuit.tdg(q[4])\n",
    "# circuit.cx(q[0], q[4])\n",
    "# circuit.t(q[4])\n",
    "# circuit.cx(q[1], q[4])\n",
    "# circuit.tdg(q[4])\n",
    "# circuit.h(q[4])\n",
    "# print(circuit)"
   ]
  },
  {
   "cell_type": "code",
   "execution_count": null,
   "metadata": {},
   "outputs": [],
   "source": []
  }
 ],
 "metadata": {
  "kernelspec": {
   "display_name": "Python 3",
   "language": "python",
   "name": "python3"
  },
  "language_info": {
   "codemirror_mode": {
    "name": "ipython",
    "version": 3
   },
   "file_extension": ".py",
   "mimetype": "text/x-python",
   "name": "python",
   "nbconvert_exporter": "python",
   "pygments_lexer": "ipython3",
   "version": "3.6.0"
  }
 },
 "nbformat": 4,
 "nbformat_minor": 2
}
