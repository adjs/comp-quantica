{
 "cells": [
  {
   "cell_type": "code",
   "execution_count": 105,
   "metadata": {},
   "outputs": [],
   "source": [
    "import math\n",
    "\n",
    "matrix =  [1, 1, 0, 0,\n",
    "          0, 0, 0, 0, \n",
    "          0, 0, 1, 0, \n",
    "          0, 0, 0, 0]\n",
    "\n",
    "# capture number of qubits needed for the system\n",
    "maxIndex = len(matrix)\n",
    "maxIndexRoot = int(math.sqrt(len(matrix)))"
   ]
  },
  {
   "cell_type": "code",
   "execution_count": 106,
   "metadata": {},
   "outputs": [],
   "source": [
    "# Gera uma lista de binários do tamanho da matriz\n",
    "def generateStates(size):\n",
    "    for i in range(size):\n",
    "        state.append(bin(i))\n",
    "        state[i] = state[i][1:]\n",
    "        state[i] = state[i].replace('b', '')\n",
    "        if len (state[i]) < sizeRoot: state[i] = (add0(sizeRoot - (len (state[i])))) + state[i]\n",
    "        return state\n",
    "\n",
    "# Marca os estados de acordo com a matriz\n",
    "def markState(state):\n",
    "    if matrix[i] == 1: state[i] = '-' + state[i]\n",
    "    else: state[i] = '+' + state[i]\n",
    "    return state\n",
    "\n",
    "# Concatena 0's a esquerda das strings\n",
    "def add0(n):\n",
    "    if n == 0:\n",
    "        return ('')\n",
    "    else:\n",
    "        return ('0' + (add0(n-1)))"
   ]
  },
  {
   "cell_type": "code",
   "execution_count": null,
   "metadata": {},
   "outputs": [],
   "source": []
  },
  {
   "cell_type": "code",
   "execution_count": null,
   "metadata": {},
   "outputs": [],
   "source": []
  }
 ],
 "metadata": {
  "kernelspec": {
   "display_name": "Python 3",
   "language": "python",
   "name": "python3"
  },
  "language_info": {
   "codemirror_mode": {
    "name": "ipython",
    "version": 3
   },
   "file_extension": ".py",
   "mimetype": "text/x-python",
   "name": "python",
   "nbconvert_exporter": "python",
   "pygments_lexer": "ipython3",
   "version": "3.6.0"
  }
 },
 "nbformat": 4,
 "nbformat_minor": 2
}
