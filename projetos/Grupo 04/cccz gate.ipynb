{
 "cells": [
  {
   "cell_type": "code",
   "execution_count": 54,
   "metadata": {},
   "outputs": [],
   "source": [
    "import qiskit as qk\n",
    "\n",
    "import math\n",
    "pi = math.pi"
   ]
  },
  {
   "cell_type": "code",
   "execution_count": 55,
   "metadata": {
    "scrolled": false
   },
   "outputs": [],
   "source": [
    "nqubits = 5\n",
    "q = qk.QuantumRegister(nqubits)\n",
    "aux = qk.QuantumRegister(2) # Registrador auxiliar para o n-z-controlado\n",
    "c = qk.ClassicalRegister(nqubits)\n",
    "circuit = qk.QuantumCircuit(q, aux, c)"
   ]
  },
  {
   "cell_type": "code",
   "execution_count": 57,
   "metadata": {},
   "outputs": [],
   "source": [
    "def ccz(circ, q1, q2, q3, aux1):\n",
    "# Apply Z-gate to a state controlled by 3 qubits\n",
    "    circ.ccx(q1, q2, aux1)\n",
    "    circ.cz(aux1, q3)\n",
    "    # cleaning the aux bit\n",
    "    circ.ccx(q1, q2, aux1)\n",
    "    return circ\n",
    "\n",
    "def cccz(circ, q1, q2, q3, q4, aux1, aux2):\n",
    "# Apply Z-gate to a state controlled by 4 qubits\n",
    "    circ.ccx(q1, q2, aux1)\n",
    "    circ.ccx(q3, aux1, aux2)\n",
    "    circ.cz(aux2, q4)\n",
    "    # cleaning the aux bits\n",
    "    circ.ccx(q1, q2, aux1)\n",
    "    circ.ccx(q3, aux1, aux2)\n",
    "    return circ"
   ]
  },
  {
   "cell_type": "code",
   "execution_count": 58,
   "metadata": {
    "scrolled": true
   },
   "outputs": [
    {
     "name": "stdout",
     "output_type": "stream",
     "text": [
      "          \n",
      "q18_0: |0>\n",
      "          \n",
      "q18_1: |0>\n",
      "          \n",
      "q18_2: |0>\n",
      "          \n",
      "q18_3: |0>\n",
      "          \n",
      "q18_4: |0>\n",
      "          \n",
      "q19_0: |0>\n",
      "          \n",
      "q19_1: |0>\n",
      "          \n",
      "  c9_0: 0 \n",
      "          \n",
      "  c9_1: 0 \n",
      "          \n",
      "  c9_2: 0 \n",
      "          \n",
      "  c9_3: 0 \n",
      "          \n",
      "  c9_4: 0 \n",
      "          \n"
     ]
    }
   ],
   "source": [
    "print(circuit)"
   ]
  },
  {
   "cell_type": "code",
   "execution_count": 59,
   "metadata": {},
   "outputs": [
    {
     "name": "stdout",
     "output_type": "stream",
     "text": [
      "                                 \n",
      "q18_0: |0>──■────────────■───────\n",
      "            │            │       \n",
      "q18_1: |0>──■────■───────■────■──\n",
      "            │    │       │    │  \n",
      "q18_2: |0>──┼────┼───────┼────┼──\n",
      "            │    │       │    │  \n",
      "q18_3: |0>──┼────┼───■───┼────┼──\n",
      "            │    │   │   │    │  \n",
      "q18_4: |0>──┼────┼───┼───┼────┼──\n",
      "          ┌─┴─┐  │   │ ┌─┴─┐  │  \n",
      "q19_0: |0>┤ X ├──■───┼─┤ X ├──■──\n",
      "          └───┘┌─┴─┐ │ └───┘┌─┴─┐\n",
      "q19_1: |0>─────┤ X ├─■──────┤ X ├\n",
      "               └───┘        └───┘\n",
      "  c9_0: 0 ═══════════════════════\n",
      "                                 \n",
      "  c9_1: 0 ═══════════════════════\n",
      "                                 \n",
      "  c9_2: 0 ═══════════════════════\n",
      "                                 \n",
      "  c9_3: 0 ═══════════════════════\n",
      "                                 \n",
      "  c9_4: 0 ═══════════════════════\n",
      "                                 \n"
     ]
    },
    {
     "data": {
      "text/plain": [
       "'OPENQASM 2.0;\\ninclude \"qelib1.inc\";\\nqreg q18[5];\\nqreg q19[2];\\ncreg c9[5];\\nccx q18[0],q18[1],q19[0];\\nccx q18[1],q19[0],q19[1];\\ncz q19[1],q18[3];\\nccx q18[0],q18[1],q19[0];\\nccx q18[1],q19[0],q19[1];\\n'"
      ]
     },
     "execution_count": 59,
     "metadata": {},
     "output_type": "execute_result"
    }
   ],
   "source": [
    "circuit = cccz(circuit, q[0], q[1], q[2], q[3], aux[0], aux[1])\n",
    "print(circuit)\n",
    "circuit.qasm()"
   ]
  },
  {
   "cell_type": "code",
   "execution_count": 60,
   "metadata": {},
   "outputs": [],
   "source": [
    "\n",
    "\n",
    "# ## Ui\n",
    "\n",
    "# # 3-Z q[0:2]\n",
    "# circuit.mcrz(pi, q[0:2], aux[0])\n",
    "# circuit.cz(aux[0], q[0])\n",
    "# circuit.cz(aux[0], q[1])\n",
    "# circuit.cz(aux[0], q[2])\n",
    "\n",
    "# ## Uw\n",
    "\n",
    "# # 3-Z q[1:3]\n",
    "# circuit.mcrz(pi, q[1:3], aux[1])\n",
    "# circuit.cz(aux[1], q[1])\n",
    "# circuit.cz(aux[1], q[2])\n",
    "# circuit.cz(aux[1], q[3])\n",
    "\n",
    "# # 3-Z q[0:1], q[3]\n",
    "# circuit.mcrz(pi, [q[0], q[1], q[3]], aux[1])\n",
    "# circuit.cz(aux[1], q[0])\n",
    "# circuit.cz(aux[1], q[1])\n",
    "# circuit.cz(aux[1], q[3])\n",
    "\n",
    "# # 3-Z q[0:3]\n",
    "# circuit.mcrz(pi, q[0:3], aux[1])\n",
    "# circuit.cz(aux[1], q[0])\n",
    "# circuit.cz(aux[1], q[1])\n",
    "# circuit.cz(aux[1], q[2])\n",
    "# circuit.cz(aux[1], q[3])\n",
    "\n",
    "# print(circuit)"
   ]
  }
 ],
 "metadata": {
  "kernelspec": {
   "display_name": "Python 3",
   "language": "python",
   "name": "python3"
  },
  "language_info": {
   "codemirror_mode": {
    "name": "ipython",
    "version": 3
   },
   "file_extension": ".py",
   "mimetype": "text/x-python",
   "name": "python",
   "nbconvert_exporter": "python",
   "pygments_lexer": "ipython3",
   "version": "3.6.0"
  }
 },
 "nbformat": 4,
 "nbformat_minor": 2
}
