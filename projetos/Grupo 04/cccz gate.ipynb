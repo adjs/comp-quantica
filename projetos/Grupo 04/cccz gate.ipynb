{
 "cells": [
  {
   "cell_type": "code",
   "execution_count": 1,
   "metadata": {},
   "outputs": [],
   "source": [
    "import qiskit as qk\n",
    "\n",
    "import math\n",
    "pi = math.pi"
   ]
  },
  {
   "cell_type": "code",
   "execution_count": 13,
   "metadata": {
    "scrolled": false
   },
   "outputs": [
    {
     "name": "stdout",
     "output_type": "stream",
     "text": [
      "                    \n",
      "q22_0: |0>──■───────\n",
      "            │       \n",
      "q22_1: |0>──■───────\n",
      "            │       \n",
      "q22_2: |0>──┼────■──\n",
      "            │    │  \n",
      "q22_3: |0>──┼────┼──\n",
      "            │  ┌─┴─┐\n",
      "q22_4: |0>──┼──┤ X ├\n",
      "            │  └─┬─┘\n",
      "q23_0: |0>──┼────┼──\n",
      "            │    │  \n",
      "q23_1: |0>──┼────┼──\n",
      "          ┌─┴─┐  │  \n",
      "q23_2: |0>┤ X ├──■──\n",
      "          └───┘     \n",
      " c11_0: 0 ══════════\n",
      "                    \n",
      " c11_1: 0 ══════════\n",
      "                    \n",
      " c11_2: 0 ══════════\n",
      "                    \n",
      " c11_3: 0 ══════════\n",
      "                    \n",
      " c11_4: 0 ══════════\n",
      "                    \n"
     ]
    }
   ],
   "source": [
    "nqubits = 5\n",
    "q = qk.QuantumRegister(nqubits)\n",
    "aux = qk.QuantumRegister(3) # Registrador auxiliar para o n-z-controlado\n",
    "c = qk.ClassicalRegister(nqubits)\n",
    "circuit = qk.QuantumCircuit(q, aux, c)\n",
    "\n",
    "\n",
    "\n"
   ]
  },
  {
   "cell_type": "code",
   "execution_count": null,
   "metadata": {},
   "outputs": [],
   "source": [
    "\n",
    "\n",
    "## Ui\n",
    "\n",
    "# 3-Z q[0:2]\n",
    "circuit.mcrz(pi, q[0:2], aux[0])\n",
    "circuit.cz(aux[0], q[0])\n",
    "circuit.cz(aux[0], q[1])\n",
    "circuit.cz(aux[0], q[2])\n",
    "\n",
    "## Uw\n",
    "\n",
    "# 3-Z q[1:3]\n",
    "circuit.mcrz(pi, q[1:3], aux[1])\n",
    "circuit.cz(aux[1], q[1])\n",
    "circuit.cz(aux[1], q[2])\n",
    "circuit.cz(aux[1], q[3])\n",
    "\n",
    "# 3-Z q[0:1], q[3]\n",
    "circuit.mcrz(pi, [q[0], q[1], q[3]], aux[1])\n",
    "circuit.cz(aux[1], q[0])\n",
    "circuit.cz(aux[1], q[1])\n",
    "circuit.cz(aux[1], q[3])\n",
    "\n",
    "# 3-Z q[0:3]\n",
    "circuit.mcrz(pi, q[0:3], aux[1])\n",
    "circuit.cz(aux[1], q[0])\n",
    "circuit.cz(aux[1], q[1])\n",
    "circuit.cz(aux[1], q[2])\n",
    "circuit.cz(aux[1], q[3])\n",
    "\n",
    "print(circuit)"
   ]
  }
 ],
 "metadata": {
  "kernelspec": {
   "display_name": "Python 3",
   "language": "python",
   "name": "python3"
  },
  "language_info": {
   "codemirror_mode": {
    "name": "ipython",
    "version": 3
   },
   "file_extension": ".py",
   "mimetype": "text/x-python",
   "name": "python",
   "nbconvert_exporter": "python",
   "pygments_lexer": "ipython3",
   "version": "3.6.0"
  }
 },
 "nbformat": 4,
 "nbformat_minor": 2
}
