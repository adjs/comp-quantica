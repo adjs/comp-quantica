{
  "nbformat": 4,
  "nbformat_minor": 0,
  "metadata": {
    "colab": {
      "name": "Resumo Artigo Sobre QBNN.ipynb",
      "provenance": [],
      "collapsed_sections": []
    },
    "kernelspec": {
      "display_name": "Python 3",
      "language": "python",
      "name": "python3"
    },
    "language_info": {
      "codemirror_mode": {
        "name": "ipython",
        "version": 3
      },
      "file_extension": ".py",
      "mimetype": "text/x-python",
      "name": "python",
      "nbconvert_exporter": "python",
      "pygments_lexer": "ipython3",
      "version": "3.7.3"
    }
  },
  "cells": [
    {
      "cell_type": "markdown",
      "metadata": {
        "colab_type": "text",
        "id": "q0jR_ONOvrb4"
      },
      "source": [
        "\n",
        "\n",
        "---\n",
        "\n",
        "\n",
        "## Tutorial do artigo:\n",
        "## Training and Meta-Training Binary Neural Networks with Quantum Computing\n",
        "\n",
        "\n",
        "\n",
        "### **Autores:**\n",
        "Fawaz, Abdulah, et al.\n",
        "\n",
        "\n",
        "---\n",
        "\n",
        "\n",
        "### **Grupo que criou o resumo e tutorial:**\n",
        "André, Daivid e Felipe.\n"
      ]
    },
    {
      "cell_type": "markdown",
      "metadata": {
        "colab_type": "text",
        "id": "Z_Ce99HKuFhp"
      },
      "source": [
        "### **Problema:**\n",
        "\n",
        "1. Encontrar um conjunto adequado de pesos para uma rede neural tornou-se um dos problemas mais estudados do aprendizado de máquina moderno.\n",
        "\n",
        "2. É um desafio significativo aos cientistas da computação para os quais poucas alternativas bem-sucedidas estão disponíveis. Pode ser difícil explorar espaços de pesquisa muito grandes com eficiência e, pior, a otimização pode convergir para um mínimo local longe do ideal global.\n",
        "\n",
        "3. Também é difícil entender o cenário das funções de custo, e escolher hiperparâmetros e projetar redes neurais permanece principalmente um processo manual.\n"
      ]
    },
    {
      "cell_type": "markdown",
      "metadata": {
        "colab_type": "text",
        "id": "4VVWIyZLuWx9"
      },
      "source": [
        "### **Motivação:**\n",
        "\n",
        "1. O aprendizado de máquina quântico visa encontrar uma vantagem na aplicação da computação quântica ao aprendizado de máquina.\n",
        "\n",
        "2. Alguns algoritmos quânticos prometem uma revolução no aprendizado de máquina na teoricamente.\n",
        "\n",
        "3. A principal vantagem dos qubits sobre os bits clássicos é sua capacidade de estar em superposições quânticas de estados.\n"
      ]
    },
    {
      "cell_type": "markdown",
      "metadata": {
        "id": "oBQ5k8pnmTfv",
        "colab_type": "text"
      },
      "source": [
        "### **Solução:**\n",
        "\n",
        "A chave deste método é representar todos os parâmetros a serem investigados como qubits, que são então colocados em superposição e com isso aumentar a velocidade do processamento visto que as funções podem ser aplicadas de maneira paralela quando vários qubits estão em superposição."
      ]
    },
    {
      "cell_type": "markdown",
      "metadata": {
        "colab_type": "text",
        "id": "V14D2P0_ugQ1"
      },
      "source": [
        "### **Objetivo do Tutorial:**\n",
        "\n",
        "* Neste tutorial, será apresentado como implementar um circuito quântico para que um computador quântico possa gerar um estado quântico que representa todo o cenário de custos para uma determinada rede neural e que o cenário completo da função de perda de uma rede neural pode ser representado como a saída do estado quântico por um computador quântico.\n",
        "\n",
        "* Será apresentado como um computador quântico pode treinar uma rede neural binária manipulando os estados bom base na utilização de um algoritmo conhecido como amplificação de amplitude quântica.\n",
        "\n",
        "Além disso, com pequenas adaptações, o método proposto também pode representar o cenário de meta-perdas de várias arquiteturas de redes neurais simultaneamente."
      ]
    },
    {
      "cell_type": "markdown",
      "metadata": {
        "id": "iy8L6H84t31z",
        "colab_type": "text"
      },
      "source": [
        "\n",
        "\n",
        "---\n",
        "\n",
        "\n",
        "#  Conceitos básicos sobre computação quântica!\n",
        "\n",
        "---\n",
        "\n",
        "Bits quânticos, ou **qubits**, são a unidade fundamental da informação quântica, seus valores são manipulados aplicando **portas quânticas** a eles na forma de **circuitos quânticos**.\n",
        "\n",
        "Abaixo podemos ver mais detalhes:"
      ]
    },
    {
      "cell_type": "markdown",
      "metadata": {
        "id": "qYG7BSqaust-",
        "colab_type": "text"
      },
      "source": [
        "### Qubits:\n",
        "\n",
        "  Eles **são fundamentalmente diferentes** dos bits clássicos. Enquanto os bits clássicos são completamente descritos como estando em um dos dois estados, **0 ou 1**, o **estado de um qubit** não pode ser completamente descrito por **apenas um único número.** Pode estar no estado 0, no estado 1 ou em uma superposição quântica de ambos.\n",
        "  \n",
        "  Matematicamente, o estado de um qubit é um vetor bidimensional com elementos complexos e uma norma unitária.\n",
        "  \n",
        "* ###  **Estado de um qubit:**\n",
        "\n",
        "    Um estado puro qubit é uma superposição linear de dois estados. Isto significa que o qubit pode ser representado como uma combinação linear de ![alt text](https://wikimedia.org/api/rest_v1/media/math/render/svg/ed066a3ad158da0ad6d6a421a606b1c8a35eb95b) e ![alt text](https://wikimedia.org/api/rest_v1/media/math/render/svg/2f53021ca18e77477ee5bd3c1523e5830189ec5c):\n",
        "    \n",
        " *    ![alt text](https://wikimedia.org/api/rest_v1/media/math/render/svg/aabd1ffc6a57b00e254e4c212d98ebbea6ccc7fc)\n",
        "    \n",
        "  Onde α e β são amplitudes probabilísticas e geralmente podem ser números complexos.\n",
        "\n",
        "  Quando nós medimos este qubit, a probabilidade de resultar ![alt text](https://wikimedia.org/api/rest_v1/media/math/render/svg/ed066a3ad158da0ad6d6a421a606b1c8a35eb95b) é ![alt text](https://wikimedia.org/api/rest_v1/media/math/render/svg/fa34618537661f2d4d710cc26e8afe891f50f7b8) e a probabilidade de resultar ![alt text](https://wikimedia.org/api/rest_v1/media/math/render/svg/2f53021ca18e77477ee5bd3c1523e5830189ec5c) é ![alt text](https://wikimedia.org/api/rest_v1/media/math/render/svg/4caecb560883af3b9c0c3a1d0e13aae75f121d0d). \n",
        "\n",
        "  Porque o quadrado das amplitudes é igual à soma das probabilidades, resulta que α e β podem ser determinados pela equação:\n",
        "    \n",
        "     * ![alt text](https://wikimedia.org/api/rest_v1/media/math/render/svg/d20d10d081d09b9a34ad569a60545eee046f6b34)\n",
        "\n",
        "  Simplesmente porque isto garante que você deve medir um estado ou outro.\n",
        "\n"
      ]
    },
    {
      "cell_type": "markdown",
      "metadata": {
        "id": "fnwd1esU3ape",
        "colab_type": "text"
      },
      "source": [
        "### Portas Quânticas:\n",
        "\n",
        "Tanto na **computação clássica** quanto na **quântica**, **portas** **manipulam os estados de bits e qubits**. Como **vetores complexos**, os estados qubit são **transformados** entre si aplicando matrizes complexas chamadas **operadores** ou simplesmente **portas quânticas.**\n",
        "\n",
        "* Essa transformação segue as regras da **álgebra linear** e um estado:\n",
        "$$|\\Psi\\rangle$$ É transformado em um **estado** diferente: $$|\\Phi\\rangle $$ por uma **porta** $$U$$ de acordo com a transformação **da matriz** $$|\\Psi\\rangle=U|\\Phi\\rangle$$\n",
        "\n",
        " Para manter o requisito estrito de uma norma de unidade, essas matrizes são restritas a serem **unitárias**.\n",
        " \n",
        "\n",
        "### Portas mais utilizadas:\n",
        "  * **Porta X (NOT):**\n",
        "\n",
        "  A porta X **inverte** o estado de um qubit de **|1⟩ a |0⟩** e vice-versa. É representada pela matriz:\n",
        "\n",
        "$$X=\\begin{bmatrix}\n",
        "0 & 1\\\\ \n",
        "1 & 0\n",
        "\\end{bmatrix} $$\n",
        "  *  ***Porta Z:***\n",
        "  \n",
        "  A porta Z atua em um único qubit. Equivale a uma rotação em torno do eixo Z. Transforma um estado arbitrário α |0⟩ + β |1⟩ no estado α |0⟩ - β |1⟩.\n",
        "$$Z=\\begin{bmatrix}\n",
        "1 & 0\\\\ \n",
        "0 & -1\n",
        "\\end{bmatrix} $$\n",
        "\n",
        "* ***H (Hadamard)***\n",
        "\n",
        "  A Porta Hadamard também não possui analógico clássico. É usado para transformar qubits do seu estado inicial:\n",
        "  \n",
        "  * **|0⟩** para o estado: ![alt text](https://wikimedia.org/api/rest_v1/media/math/render/svg/b63c1aafd4f747ae34793680ae964fd73725efe8)\n",
        "  \n",
        " * **|1⟩** para o estado: ![alt text](https://wikimedia.org/api/rest_v1/media/math/render/svg/4e428aaf74b13b0709992efede12bfa92e06247c)\n",
        "\n",
        "  A sua matriz é dada por:\n",
        "  $$H=\\frac{1}{\\sqrt{2}}\\begin{bmatrix}\n",
        "1 & 1\\\\ \n",
        "1 & -1\n",
        "\\end{bmatrix}$$\n",
        "\n",
        "* **CNOT (NOT Controlado ou cX)**\n",
        "A porta CNOT pode ser vista como uma generalização da porta XOR clássica. Ele executa um gate NOT em um qubit de destino se um qubit de controle estiver no estado | 1⟩. \n",
        "$$CNOT=\\begin{bmatrix}\n",
        "1 & 0 & 0 & 0\\\\ \n",
        "0 & 1 & 0 & 0\\\\ \n",
        "0 & 0 & 0 & 1\\\\ \n",
        "0 & 0 & 1 & 0\n",
        "\\end{bmatrix}$$"
      ]
    },
    {
      "cell_type": "markdown",
      "metadata": {
        "id": "p_eWOpH1tiae",
        "colab_type": "text"
      },
      "source": [
        "# **Hands On!**"
      ]
    },
    {
      "cell_type": "markdown",
      "metadata": {
        "id": "nzxtlWQltBue",
        "colab_type": "text"
      },
      "source": [
        "Instalando a biblioteca qiskit para realizar implementações, simulações e execuções de algortimos quânticos sobre a linguagem Python.\n",
        "\n",
        "* pip install qiskit"
      ]
    },
    {
      "cell_type": "markdown",
      "metadata": {
        "id": "rFqGD710qtPR",
        "colab_type": "text"
      },
      "source": [
        "## Passo FeedFoward da Rede\n",
        "\n"
      ]
    },
    {
      "cell_type": "code",
      "metadata": {
        "id": "L02hiKejrFkF",
        "colab_type": "code",
        "colab": {}
      },
      "source": [
        ""
      ],
      "execution_count": 0,
      "outputs": []
    },
    {
      "cell_type": "markdown",
      "metadata": {
        "colab_type": "text",
        "id": "o4oc6OeNun-1"
      },
      "source": [
        "### **Limitações**\n",
        "\n",
        "1 - Devido à inevitável questão de ser capaz apenas de simular circuitos quânticos envolvendo um pequeno número de qubits, dizem que foram forçados a se restringir a um pequeno problema construído como prova de conceito. Essa é a razão pela qual escolheram investigar uma rede neural binária tão pequena - os pesos podem ser representados usando poucos qubits. \n",
        "\n",
        "2 - Resaltaram várias vezes que esse método não se restringe a pesos ou parâmetros binarizados, e que métodos análogos usando representações de ponto flutuante seriam possíveis, com mais qubits, e o método funcionaria de forma idêntica, porém em nenhum momento apresentaram uma solução que se aproxime disse, se mantiveram apensar com as explicações binárias.\n",
        "\n",
        "(Portanto, o cerne da tarefa é construir um circuito quântico que forme um análogo quântico da rede neural escolhida. Este circuito quântico deve ter os parâmetros desejados armazenados nos valores de qubits e, dado um conjunto de pesos e dados, produzir a mesma precisão que seu equivalente clássico. Qualquer parâmetro escolhido pode ser configurado para uma superposição quântica aplicando uma única porta Hadamard.)\n"
      ]
    },
    {
      "cell_type": "markdown",
      "metadata": {
        "colab_type": "text",
        "id": "yGwFk0aousJ8"
      },
      "source": [
        "### **Resultado**\n",
        "\n",
        "O método mostra-se versátil e capaz de representar um cenário de meta-custo de todos os parâmetros e hiperparâmetros possíveis. Aplicando-o às conectividades e pesos de uma rede neural binária e simulando o algoritmo quântico em um computador clássico, mostramos ainda que esse \"estado de paisagem\" pode ser usado para treinar e meta-treinar a rede neural binária para um pequeno problema simples usando amplitude quântica amplificação, um algoritmo quântico padrão."
      ]
    },
    {
      "cell_type": "markdown",
      "metadata": {
        "colab_type": "text",
        "id": "ercP91CrWsTa"
      },
      "source": [
        "### **Possibilidade de Melhoria**\n",
        "\n",
        "O artigo faz uso de simuladores para rodar o algoritmo quântico, podemos fazê-lo roda em um computador quântico da IBM para podermos verificar se o resultado quando rodamos fora do ambiente simulado é o mesmo, e se é aplicável caso seja diferente.\n",
        "\n",
        "Tentar também criar uma prova de conceito para redes não binárias. "
      ]
    }
  ]
}