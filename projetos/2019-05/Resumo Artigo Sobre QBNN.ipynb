{
 "cells": [
  {
   "cell_type": "markdown",
   "metadata": {
    "colab_type": "text",
    "id": "q0jR_ONOvrb4"
   },
   "source": [
    "## Resumo do artigo, visando um melhor entendimento para criação de um tutorial adequado para aqueles que pretendem reproduzí-lo.\n",
    "\n",
    "### **Título:**\n",
    "## Training and Meta-Training Binary Neural Networks with Quantum Computing\n",
    "\n",
    "### **Autores:**\n",
    "Fawaz, Abdulah, et al.\n",
    "\n",
    "### **Grupo que criou o resumo e tutorial:**\n",
    "André, Daivid e Felipe\n"
   ]
  },
  {
   "cell_type": "markdown",
   "metadata": {
    "colab_type": "text",
    "id": "Z_Ce99HKuFhp"
   },
   "source": [
    "### **Problema:**\n",
    "\n",
    "1 - Encontrar um conjunto adequado de pesos para uma rede neural tornou-se um dos problemas mais estudados do aprendizado de máquina moderno.\n",
    "\n",
    "2 - É um desafio significativo aos cientistas da computação para os quais poucas alternativas bem-sucedidas estão disponíveis. Pode ser difícil explorar espaços de pesquisa muito grandes com eficiência e, pior, a otimização pode convergir para um mínimo local longe do ideal global.\n",
    "\n",
    "3 - Também é difícil entender o cenário das funções de custo, e escolher hiperparâmetros e projetar redes neurais permanece principalmente um processo manual.\n"
   ]
  },
  {
   "cell_type": "markdown",
   "metadata": {
    "colab_type": "text",
    "id": "4VVWIyZLuWx9"
   },
   "source": [
    "### **Possível solução:**\n",
    "\n",
    "1 - À medida que a lei de Moore se aproxima de seu fim, dois novos paradigmas de computação foram explorados: computadores neuromórficos e quânticos. A computação quântica é baseada em bits quânticos, obedecendo às leis da física quântica, em oposição aos bits clássicos de hoje que são baseados na física clássica. O aprendizado de máquina quântico visa encontrar uma vantagem na aplicação da computação quântica ao aprendizado de máquina.\n",
    "\n",
    "Motivação:\n",
    "\n",
    "1 - Os computadores quânticos prometem vantagens significativas em relação aos computadores clássicos para diversas aplicações diferentes.\n",
    "\n",
    "2 - Alguns algoritmos quânticos prometem uma revolução no aprendizado de máquina na teoria, mas contêm muitas lacunas na sua implementação na prática.\n",
    "\n",
    "3 - A principal vantagem dos qubits sobre os bits clássicos é sua capacidade de estar em superposições quânticas de estados. A chave deste método é representar todos os parâmetros a serem investigados como qubits, que são então colocados em superposição e com isso aumentar a velocidade do processamento visto que as funções podem ser aplicadas de maneira paralela quando vários qubits estão em superposição.\n"
   ]
  },
  {
   "cell_type": "markdown",
   "metadata": {
    "colab_type": "text",
    "id": "V14D2P0_ugQ1"
   },
   "source": [
    "### **O que foi feito!**\n",
    "\n",
    "1 - Neste artigo, é mostrado que um computador quântico pode gerar um estado quântico que representa todo o cenário de custos para uma determinada rede neural e que o cenário completo da função de perda de uma rede neural pode ser representado como a saída do estado quântico por um computador quântico.\n",
    "\n",
    "2 - Foi demonstrado explicitamente para uma rede neural binária e, além disso, apresentou-se como um computador quântico pode treinar a rede manipulando esse estado usando um algoritmo conhecido conhecido como amplificação de amplitude quântica.\n",
    "\n",
    "3 - Mostraram que, com pequenas adaptações, esse método também pode representar o cenário de meta-perdas de várias arquiteturas de redes neurais simultaneamente.\n",
    "\n",
    "4 - Pesquisaram esse cenário de meta-perda com o mesmo método para treinar e projetar simultaneamente uma rede neural binária."
   ]
  },
  {
   "cell_type": "markdown",
   "metadata": {
    "colab_type": "text",
    "id": "o4oc6OeNun-1"
   },
   "source": [
    "### **Limitações**\n",
    "\n",
    "1 - Devido à inevitável questão de ser capaz apenas de simular circuitos quânticos envolvendo um pequeno número de qubits, dizem que foram forçados a se restringir a um pequeno problema construído como prova de conceito. Essa é a razão pela qual escolheram investigar uma rede neural binária tão pequena - os pesos podem ser representados usando poucos qubits. \n",
    "\n",
    "2 - Resaltaram várias vezes que esse método não se restringe a pesos ou parâmetros binarizados, e que métodos análogos usando representações de ponto flutuante seriam possíveis, com mais qubits, e o método funcionaria de forma idêntica, porém em nenhum momento apresentaram uma solução que se aproxime disse, se mantiveram apensar com as explicações binárias.\n",
    "\n",
    "(Portanto, o cerne da tarefa é construir um circuito quântico que forme um análogo quântico da rede neural escolhida. Este circuito quântico deve ter os parâmetros desejados armazenados nos valores de qubits e, dado um conjunto de pesos e dados, produzir a mesma precisão que seu equivalente clássico. Qualquer parâmetro escolhido pode ser configurado para uma superposição quântica aplicando uma única porta Hadamard.)\n"
   ]
  },
  {
   "cell_type": "markdown",
   "metadata": {
    "colab_type": "text",
    "id": "yGwFk0aousJ8"
   },
   "source": [
    "### **Resultado**\n",
    "\n",
    "O método mostra-se versátil e capaz de representar um cenário de meta-custo de todos os parâmetros e hiperparâmetros possíveis. Aplicando-o às conectividades e pesos de uma rede neural binária e simulando o algoritmo quântico em um computador clássico, mostramos ainda que esse \"estado de paisagem\" pode ser usado para treinar e meta-treinar a rede neural binária para um pequeno problema simples usando amplitude quântica amplificação, um algoritmo quântico padrão."
   ]
  },
  {
   "cell_type": "markdown",
   "metadata": {
    "colab_type": "text",
    "id": "ercP91CrWsTa"
   },
   "source": [
    "### **Possibilidade de Melhoria**\n",
    "\n",
    "O artigo faz uso de simuladores para rodar o algoritmo quântico, podemos fazê-lo roda em um computador quântico da IBM para podermos verificar se o resultado quando rodamos fora do ambiente simulado é o mesmo, e se é aplicável caso seja diferente.\n",
    "\n",
    "Tentar também criar uma prova de conceito para redes não binárias. "
   ]
  }
 ],
 "metadata": {
  "colab": {
   "collapsed_sections": [],
   "name": "COMPQ.ipynb",
   "provenance": []
  },
  "kernelspec": {
   "display_name": "Python 3",
   "language": "python",
   "name": "python3"
  },
  "language_info": {
   "codemirror_mode": {
    "name": "ipython",
    "version": 3
   },
   "file_extension": ".py",
   "mimetype": "text/x-python",
   "name": "python",
   "nbconvert_exporter": "python",
   "pygments_lexer": "ipython3",
   "version": "3.7.3"
  }
 },
 "nbformat": 4,
 "nbformat_minor": 1
}
