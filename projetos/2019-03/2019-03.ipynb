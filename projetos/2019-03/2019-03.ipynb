{
 "cells": [
  {
   "cell_type": "markdown",
   "metadata": {},
   "source": [
    "# Implementando um classificador baseado em distância com um circuito de interferência quântica\n",
    "##### [Maria Schuld, Mark Fingerhuth, Francesco Petruccione](https://arxiv.org/abs/1703.10793)"
   ]
  },
  {
   "cell_type": "markdown",
   "metadata": {},
   "source": [
    "O classificador quântico aqui disposto utiliza a interferência quântica para medir a distância de um vetor de entrada para cada um dos vetores de treinamento e assim classificá-lo. Como prova de conceito, é montado um circuito quântico para classificar instâncias do conjuto de dados [Iris](http://archive.ics.uci.edu/ml/datasets/Iris)."
   ]
  },
  {
   "cell_type": "markdown",
   "metadata": {},
   "source": [
    "## Circuito"
   ]
  },
  {
   "cell_type": "markdown",
   "metadata": {},
   "source": [
    "![title](circuit.jpg)"
   ]
  },
  {
   "cell_type": "markdown",
   "metadata": {},
   "source": [
    "$\\newcommand{\\ket}[1]{\\left\\vert #1 \\right\\rangle}$\n",
    "$\\psi_A = \\dfrac{1}{2} \\left( \\ket{0000} + \\ket{0100} + \\ket{1000} + \\ket{1100} \\right)$"
   ]
  },
  {
   "cell_type": "markdown",
   "metadata": {},
   "source": [
    "$\\psi_B = \\dfrac{1}{2} \\left( \\ket{1000} + \\ket{1100} + \\cos{\\dfrac{\\theta}{2}}\\ket{0000} + \\sin{\\dfrac{\\theta}{2}}\\ket{0010} + \\cos{\\dfrac{\\theta}{2}}\\ket{0100} + \\sin{\\dfrac{\\theta}{2}}\\ket{0110} \\right)$"
   ]
  },
  {
   "cell_type": "markdown",
   "metadata": {},
   "source": [
    "$\\psi_C = \\dfrac{1}{2} \\left( \\ket{1100} + \\cos{\\dfrac{\\phi_0}{2}}\\ket{1000} + \\sin{\\dfrac{\\phi_0}{2}}\\ket{1010} + \\cos{\\dfrac{\\theta}{2}}\\ket{0100} + \\sin{\\dfrac{\\theta}{2}}\\ket{0110} + \\cos{\\dfrac{\\theta}{2}}\\ket{0000} + \\sin{\\dfrac{\\theta}{2}}\\ket{0010} \\right)$"
   ]
  },
  {
   "cell_type": "markdown",
   "metadata": {},
   "source": [
    "$\\psi_D = \\dfrac{1}{2} \\left( \\cos{\\dfrac{\\phi_1}{2}}\\ket{1100} + \\sin{\\dfrac{\\phi_1}{2}}\\ket{1110} + \\cos{\\dfrac{\\phi_0}{2}}\\ket{1000} + \\sin{\\dfrac{\\phi_0}{2}}\\ket{1010} + \\cos{\\dfrac{\\theta}{2}}\\ket{0100} + \\sin{\\dfrac{\\theta}{2}}\\ket{0110} + \\cos{\\dfrac{\\theta}{2}}\\ket{0000} + \\sin{\\dfrac{\\theta}{2}}\\ket{0010} \\right)$"
   ]
  },
  {
   "cell_type": "markdown",
   "metadata": {},
   "source": [
    "$\\psi_E = \\dfrac{1}{2} \\left( \\cos{\\dfrac{\\phi_1}{2}}\\ket{1101} + \\sin{\\dfrac{\\phi_1}{2}}\\ket{1111} + \\cos{\\dfrac{\\phi_0}{2}}\\ket{1000} + \\sin{\\dfrac{\\phi_0}{2}}\\ket{1010} + \\cos{\\dfrac{\\theta}{2}}\\ket{0101} + \\sin{\\dfrac{\\theta}{2}}\\ket{0111} + \\cos{\\dfrac{\\theta}{2}}\\ket{0000} + \\sin{\\dfrac{\\theta}{2}}\\ket{0010} \\right)$"
   ]
  },
  {
   "cell_type": "markdown",
   "metadata": {},
   "source": [
    "$\\psi_F = \\dfrac{1}{2} \\left( \\left( \\dfrac{\\ket{0} - \\ket{1}}{\\sqrt{2}} \\right) \\left( \\cos{\\dfrac{\\phi_1}{2}}\\ket{101} + \\sin{\\dfrac{\\phi_1}{2}}\\ket{111} + \\cos{\\dfrac{\\phi_0}{2}}\\ket{000} + \\sin{\\dfrac{\\phi_0}{2}}\\ket{010} \\right) + \\left( \\dfrac{\\ket{0} + \\ket{1}}{\\sqrt{2}} \\right) \\left( \\cos{\\dfrac{\\theta}{2}}\\ket{101} + \\sin{\\dfrac{\\theta}{2}}\\ket{111} + \\cos{\\dfrac{\\theta}{2}}\\ket{000} + \\sin{\\dfrac{\\theta}{2}}\\ket{010} \\right) \\right)$"
   ]
  },
  {
   "cell_type": "markdown",
   "metadata": {},
   "source": [
    "## Implementação"
   ]
  },
  {
   "cell_type": "code",
   "execution_count": 18,
   "metadata": {},
   "outputs": [
    {
     "name": "stdout",
     "output_type": "stream",
     "text": [
      "Requirement already satisfied: numpy in /usr/local/lib/python3.6/site-packages (1.17.2)\n",
      "Requirement already satisfied: matplotlib in /Users/emesonsantana/Library/Python/3.6/lib/python/site-packages (3.1.1)\n",
      "Requirement already satisfied: cycler>=0.10 in /Users/emesonsantana/Library/Python/3.6/lib/python/site-packages (from matplotlib) (0.10.0)\n",
      "Requirement already satisfied: pyparsing!=2.0.4,!=2.1.2,!=2.1.6,>=2.0.1 in /Users/emesonsantana/Library/Python/3.6/lib/python/site-packages (from matplotlib) (2.4.2)\n",
      "Requirement already satisfied: kiwisolver>=1.0.1 in /Users/emesonsantana/Library/Python/3.6/lib/python/site-packages (from matplotlib) (1.1.0)\n",
      "Requirement already satisfied: numpy>=1.11 in /usr/local/lib/python3.6/site-packages (from matplotlib) (1.17.2)\n",
      "Requirement already satisfied: python-dateutil>=2.1 in /usr/local/lib/python3.6/site-packages (from matplotlib) (2.8.0)\n",
      "Requirement already satisfied: six in /usr/local/lib/python3.6/site-packages (from cycler>=0.10->matplotlib) (1.12.0)\n",
      "Requirement already satisfied: setuptools in /Users/emesonsantana/Library/Python/3.6/lib/python/site-packages (from kiwisolver>=1.0.1->matplotlib) (41.4.0)\n",
      "Requirement already satisfied: qiskit in /Users/emesonsantana/Library/Python/3.6/lib/python/site-packages (0.12.1)\n",
      "Requirement already satisfied: qiskit-ibmq-provider==0.3.3 in /Users/emesonsantana/Library/Python/3.6/lib/python/site-packages (from qiskit) (0.3.3)\n",
      "Requirement already satisfied: qiskit-aer==0.3.0 in /usr/local/lib/python3.6/site-packages (from qiskit) (0.3.0)\n",
      "Requirement already satisfied: qiskit-ignis==0.2.0 in /Users/emesonsantana/Library/Python/3.6/lib/python/site-packages (from qiskit) (0.2.0)\n",
      "Requirement already satisfied: qiskit-aqua==0.6.0 in /Users/emesonsantana/Library/Python/3.6/lib/python/site-packages (from qiskit) (0.6.0)\n",
      "Requirement already satisfied: qiskit-terra==0.9.0 in /usr/local/lib/python3.6/site-packages (from qiskit) (0.9.0)\n",
      "Requirement already satisfied: requests>=2.19 in /Users/emesonsantana/Library/Python/3.6/lib/python/site-packages (from qiskit-ibmq-provider==0.3.3->qiskit) (2.22.0)\n",
      "Requirement already satisfied: nest-asyncio==1.0.0 in /Users/emesonsantana/Library/Python/3.6/lib/python/site-packages (from qiskit-ibmq-provider==0.3.3->qiskit) (1.0.0)\n",
      "Requirement already satisfied: websockets<8,>=7 in /Users/emesonsantana/Library/Python/3.6/lib/python/site-packages (from qiskit-ibmq-provider==0.3.3->qiskit) (7.0)\n",
      "Requirement already satisfied: requests-ntlm>=1.1.0 in /Users/emesonsantana/Library/Python/3.6/lib/python/site-packages (from qiskit-ibmq-provider==0.3.3->qiskit) (1.1.0)\n",
      "Requirement already satisfied: numpy>=1.13 in /usr/local/lib/python3.6/site-packages (from qiskit-aer==0.3.0->qiskit) (1.17.2)\n",
      "Requirement already satisfied: setuptools>=40.1.0 in /Users/emesonsantana/Library/Python/3.6/lib/python/site-packages (from qiskit-ignis==0.2.0->qiskit) (41.4.0)\n",
      "Requirement already satisfied: scipy!=0.19.1,>=0.19 in /usr/local/lib/python3.6/site-packages (from qiskit-ignis==0.2.0->qiskit) (1.3.1)\n",
      "Requirement already satisfied: cvxopt in /Users/emesonsantana/Library/Python/3.6/lib/python/site-packages (from qiskit-aqua==0.6.0->qiskit) (1.2.3)\n",
      "Requirement already satisfied: fastdtw in /Users/emesonsantana/Library/Python/3.6/lib/python/site-packages (from qiskit-aqua==0.6.0->qiskit) (0.3.4)\n",
      "Requirement already satisfied: dlx in /Users/emesonsantana/Library/Python/3.6/lib/python/site-packages (from qiskit-aqua==0.6.0->qiskit) (1.0.4)\n",
      "Requirement already satisfied: scikit-learn>=0.20.0 in /Users/emesonsantana/Library/Python/3.6/lib/python/site-packages (from qiskit-aqua==0.6.0->qiskit) (0.21.3)\n",
      "Requirement already satisfied: pyscf; sys_platform != \"win32\" in /Users/emesonsantana/Library/Python/3.6/lib/python/site-packages (from qiskit-aqua==0.6.0->qiskit) (1.6.4)\n",
      "Requirement already satisfied: sympy>=1.3 in /usr/local/lib/python3.6/site-packages (from qiskit-aqua==0.6.0->qiskit) (1.4)\n",
      "Requirement already satisfied: jsonschema<2.7,>=2.6 in /usr/local/lib/python3.6/site-packages (from qiskit-aqua==0.6.0->qiskit) (2.6.0)\n",
      "Requirement already satisfied: networkx>=2.2 in /usr/local/lib/python3.6/site-packages (from qiskit-aqua==0.6.0->qiskit) (2.3)\n",
      "Requirement already satisfied: psutil>=5 in /usr/local/lib/python3.6/site-packages (from qiskit-aqua==0.6.0->qiskit) (5.6.3)\n",
      "Requirement already satisfied: quandl in /Users/emesonsantana/Library/Python/3.6/lib/python/site-packages (from qiskit-aqua==0.6.0->qiskit) (3.4.8)\n",
      "Requirement already satisfied: h5py in /Users/emesonsantana/Library/Python/3.6/lib/python/site-packages (from qiskit-aqua==0.6.0->qiskit) (2.10.0)\n",
      "Requirement already satisfied: docplex in /Users/emesonsantana/Library/Python/3.6/lib/python/site-packages (from qiskit-aqua==0.6.0->qiskit) (2.10.155)\n",
      "Requirement already satisfied: ply>=3.10 in /usr/local/lib/python3.6/site-packages (from qiskit-terra==0.9.0->qiskit) (3.11)\n",
      "Requirement already satisfied: marshmallow-polyfield<4,>=3.2 in /usr/local/lib/python3.6/site-packages (from qiskit-terra==0.9.0->qiskit) (3.2)\n",
      "Requirement already satisfied: marshmallow<3,>=2.17.0 in /usr/local/lib/python3.6/site-packages (from qiskit-terra==0.9.0->qiskit) (2.20.5)\n",
      "Requirement already satisfied: urllib3!=1.25.0,!=1.25.1,<1.26,>=1.21.1 in /Users/emesonsantana/Library/Python/3.6/lib/python/site-packages (from requests>=2.19->qiskit-ibmq-provider==0.3.3->qiskit) (1.25.6)\n",
      "Requirement already satisfied: certifi>=2017.4.17 in /Users/emesonsantana/Library/Python/3.6/lib/python/site-packages (from requests>=2.19->qiskit-ibmq-provider==0.3.3->qiskit) (2019.9.11)\n",
      "Requirement already satisfied: idna<2.9,>=2.5 in /Users/emesonsantana/Library/Python/3.6/lib/python/site-packages (from requests>=2.19->qiskit-ibmq-provider==0.3.3->qiskit) (2.8)\n",
      "Requirement already satisfied: chardet<3.1.0,>=3.0.2 in /Users/emesonsantana/Library/Python/3.6/lib/python/site-packages (from requests>=2.19->qiskit-ibmq-provider==0.3.3->qiskit) (3.0.4)\n",
      "Requirement already satisfied: cryptography>=1.3 in /Users/emesonsantana/Library/Python/3.6/lib/python/site-packages (from requests-ntlm>=1.1.0->qiskit-ibmq-provider==0.3.3->qiskit) (2.7)\n",
      "Requirement already satisfied: ntlm-auth>=1.0.2 in /Users/emesonsantana/Library/Python/3.6/lib/python/site-packages (from requests-ntlm>=1.1.0->qiskit-ibmq-provider==0.3.3->qiskit) (1.4.0)\n",
      "Requirement already satisfied: joblib>=0.11 in /Users/emesonsantana/Library/Python/3.6/lib/python/site-packages (from scikit-learn>=0.20.0->qiskit-aqua==0.6.0->qiskit) (0.14.0)\n",
      "Requirement already satisfied: mpmath>=0.19 in /usr/local/lib/python3.6/site-packages (from sympy>=1.3->qiskit-aqua==0.6.0->qiskit) (1.1.0)\n",
      "Requirement already satisfied: decorator>=4.3.0 in /usr/local/lib/python3.6/site-packages (from networkx>=2.2->qiskit-aqua==0.6.0->qiskit) (4.4.0)\n",
      "Requirement already satisfied: python-dateutil in /usr/local/lib/python3.6/site-packages (from quandl->qiskit-aqua==0.6.0->qiskit) (2.8.0)\n",
      "Requirement already satisfied: pyOpenSSL in /Users/emesonsantana/Library/Python/3.6/lib/python/site-packages (from quandl->qiskit-aqua==0.6.0->qiskit) (19.0.0)\n",
      "Requirement already satisfied: ndg-httpsclient in /Users/emesonsantana/Library/Python/3.6/lib/python/site-packages (from quandl->qiskit-aqua==0.6.0->qiskit) (0.5.1)\n",
      "Requirement already satisfied: pyasn1 in /Users/emesonsantana/Library/Python/3.6/lib/python/site-packages (from quandl->qiskit-aqua==0.6.0->qiskit) (0.4.7)\n",
      "Requirement already satisfied: inflection>=0.3.1 in /Users/emesonsantana/Library/Python/3.6/lib/python/site-packages (from quandl->qiskit-aqua==0.6.0->qiskit) (0.3.1)\n",
      "Requirement already satisfied: more-itertools<=5.0.0 in /Users/emesonsantana/Library/Python/3.6/lib/python/site-packages (from quandl->qiskit-aqua==0.6.0->qiskit) (5.0.0)\n",
      "Requirement already satisfied: six in /usr/local/lib/python3.6/site-packages (from quandl->qiskit-aqua==0.6.0->qiskit) (1.12.0)\n",
      "Requirement already satisfied: pandas>=0.14 in /Users/emesonsantana/Library/Python/3.6/lib/python/site-packages (from quandl->qiskit-aqua==0.6.0->qiskit) (0.25.1)\n",
      "Requirement already satisfied: docloud>=1.0.369 in /Users/emesonsantana/Library/Python/3.6/lib/python/site-packages (from docplex->qiskit-aqua==0.6.0->qiskit) (1.0.375)\n",
      "Requirement already satisfied: cffi!=1.11.3,>=1.8 in /Users/emesonsantana/Library/Python/3.6/lib/python/site-packages (from cryptography>=1.3->requests-ntlm>=1.1.0->qiskit-ibmq-provider==0.3.3->qiskit) (1.12.3)\n",
      "Requirement already satisfied: asn1crypto>=0.21.0 in /Users/emesonsantana/Library/Python/3.6/lib/python/site-packages (from cryptography>=1.3->requests-ntlm>=1.1.0->qiskit-ibmq-provider==0.3.3->qiskit) (1.0.1)\n",
      "Requirement already satisfied: pytz>=2017.2 in /Users/emesonsantana/Library/Python/3.6/lib/python/site-packages (from pandas>=0.14->quandl->qiskit-aqua==0.6.0->qiskit) (2019.3)\n",
      "Requirement already satisfied: pycparser in /Users/emesonsantana/Library/Python/3.6/lib/python/site-packages (from cffi!=1.11.3,>=1.8->cryptography>=1.3->requests-ntlm>=1.1.0->qiskit-ibmq-provider==0.3.3->qiskit) (2.19)\n"
     ]
    },
    {
     "name": "stdout",
     "output_type": "stream",
     "text": [
      "Requirement already satisfied: scikit-learn in /Users/emesonsantana/Library/Python/3.6/lib/python/site-packages (0.21.3)\r\n",
      "Requirement already satisfied: scipy>=0.17.0 in /usr/local/lib/python3.6/site-packages (from scikit-learn) (1.3.1)\r\n",
      "Requirement already satisfied: numpy>=1.11.0 in /usr/local/lib/python3.6/site-packages (from scikit-learn) (1.17.2)\r\n",
      "Requirement already satisfied: joblib>=0.11 in /Users/emesonsantana/Library/Python/3.6/lib/python/site-packages (from scikit-learn) (0.14.0)\r\n"
     ]
    }
   ],
   "source": [
    "# Install Libs\n",
    "import sys\n",
    "!{sys.executable} -m pip install --user numpy\n",
    "!{sys.executable} -m pip install --user matplotlib\n",
    "!{sys.executable} -m pip install --user qiskit\n",
    "!{sys.executable} -m pip install --user scikit-learn"
   ]
  },
  {
   "cell_type": "code",
   "execution_count": 1,
   "metadata": {},
   "outputs": [],
   "source": [
    "# Import Libs\n",
    "import matplotlib.pyplot as plt\n",
    "%matplotlib inline\n",
    "import numpy as np\n",
    "from qiskit import *\n",
    "import qutils\n",
    "import iris\n",
    "import math"
   ]
  },
  {
   "cell_type": "code",
   "execution_count": 2,
   "metadata": {},
   "outputs": [],
   "source": [
    "# Auxiliary function definitions\n",
    "def calculate_theta(sample):        \n",
    "    if sample[0] < 0 and sample[1] < 0:\n",
    "        value = sample[1]\n",
    "        theta = math.acos(value)*2+math.pi\n",
    "    elif sample[1] < 0:\n",
    "        value = sample[1]\n",
    "        theta = math.asin(value)*2\n",
    "    else:\n",
    "        value = sample[0]\n",
    "        theta = math.acos(value)*2\n",
    "    \n",
    "    return theta"
   ]
  },
  {
   "cell_type": "code",
   "execution_count": 3,
   "metadata": {},
   "outputs": [],
   "source": [
    "# Preprocessing\n",
    "classes = [0,1]\n",
    "features = [0,1]\n",
    "input_vector_index = 28\n",
    "training_vector_indexes = [33, 85]\n",
    "\n",
    "X, y = iris.load_dataset(classes=classes, features=features)\n",
    "X = iris.preprocess(X)\n",
    "\n",
    "input_vector_theta = calculate_theta(X[input_vector_index])\n",
    "training_vector_thetas = [\n",
    "    calculate_theta(X[training_vector_indexes[0]]),\n",
    "    calculate_theta(X[training_vector_indexes[1]])\n",
    "]"
   ]
  },
  {
   "cell_type": "code",
   "execution_count": 4,
   "metadata": {},
   "outputs": [],
   "source": [
    "# Create Circuit\n",
    "q = QuantumRegister(4, 'q')\n",
    "c = ClassicalRegister(2, 'c')\n",
    "qc = QuantumCircuit(q, c)"
   ]
  },
  {
   "cell_type": "code",
   "execution_count": 5,
   "metadata": {},
   "outputs": [
    {
     "name": "stdout",
     "output_type": "stream",
     "text": [
      "0.5  |0000>   0.5  |1000>   0.5  |0100>   0.5  |1100>   \n"
     ]
    }
   ],
   "source": [
    "# Subcircuit A\n",
    "qc.h(q[[0,1]])\n",
    "\n",
    "qc.barrier()\n",
    "qutils.wavefunction(qc)"
   ]
  },
  {
   "cell_type": "code",
   "execution_count": 6,
   "metadata": {},
   "outputs": [
    {
     "name": "stdout",
     "output_type": "stream",
     "text": [
      "-0.27879  |0000>   0.5  |1000>   -0.27879  |0100>   0.5  |1100>   0.41506  |0010>   0.41506  |0110>   \n"
     ]
    }
   ],
   "source": [
    "# Subcircuit B\n",
    "ry_input = input_vector_theta / 2.0\n",
    "qc.cx(q[0], q[2])\n",
    "qc.ry((-1 * ry_input), q[2])\n",
    "qc.cx(q[0], q[2])\n",
    "qc.x(q[0])\n",
    "qc.ry(ry_input, q[2])\n",
    "\n",
    "qc.barrier()\n",
    "qutils.wavefunction(qc)"
   ]
  },
  {
   "cell_type": "code",
   "execution_count": 7,
   "metadata": {},
   "outputs": [
    {
     "name": "stdout",
     "output_type": "stream",
     "text": [
      "-0.27879  |0000>   0.00982  |1000>   -0.27879  |0100>   0.5  |1100>   0.41506  |0010>   0.4999  |1010>   0.41506  |0110>   \n"
     ]
    }
   ],
   "source": [
    "# Subcircuit C\n",
    "ry_input = training_vector_thetas[0] / 4.0\n",
    "qc.ccx(q[0], q[1], q[2])\n",
    "qc.cx(q[1], q[2])\n",
    "qc.ry(ry_input, q[2])\n",
    "qc.cx(q[1], q[2])\n",
    "qc.ry((-1 * ry_input), q[2])\n",
    "qc.ccx(q[0], q[1], q[2])\n",
    "qc.cx(q[1], q[2])\n",
    "qc.ry((-1 * ry_input), q[2])\n",
    "qc.cx(q[1], q[2])\n",
    "qc.ry(ry_input, q[2])\n",
    "\n",
    "qc.x(q[1])\n",
    "\n",
    "qc.barrier()\n",
    "qutils.wavefunction(qc)"
   ]
  },
  {
   "cell_type": "code",
   "execution_count": 8,
   "metadata": {},
   "outputs": [
    {
     "name": "stdout",
     "output_type": "stream",
     "text": [
      "-0.27879  |0000>   0.00982  |1000>   -0.27879  |0100>   0.39757  |1100>   0.41506  |0010>   0.4999  |1010>   0.41506  |0110>   0.30322  |1110>   \n"
     ]
    }
   ],
   "source": [
    "# Subcircuit D\n",
    "ry_input = training_vector_thetas[1] / 4.0\n",
    "qc.ccx(q[0], q[1], q[2])\n",
    "qc.cx(q[1], q[2])\n",
    "qc.ry(ry_input, q[2])\n",
    "qc.cx(q[1], q[2])\n",
    "qc.ry((-1 * ry_input), q[2])\n",
    "qc.ccx(q[0], q[1], q[2])\n",
    "qc.cx(q[1], q[2])\n",
    "qc.ry((-1 * ry_input), q[2])\n",
    "qc.cx(q[1], q[2])\n",
    "qc.ry(ry_input, q[2])\n",
    "\n",
    "qc.barrier()\n",
    "qutils.wavefunction(qc)"
   ]
  },
  {
   "cell_type": "code",
   "execution_count": 9,
   "metadata": {},
   "outputs": [
    {
     "name": "stdout",
     "output_type": "stream",
     "text": [
      "-0.27879  |0000>   0.00982  |1000>   0.41506  |0010>   0.4999  |1010>   -0.27879  |0101>   0.39757  |1101>   0.41506  |0111>   0.30322  |1111>   \n"
     ]
    }
   ],
   "source": [
    "# Subcircuit E\n",
    "qc.cx(q[1], q[3])\n",
    "\n",
    "qc.barrier()\n",
    "qutils.wavefunction(qc)"
   ]
  },
  {
   "cell_type": "code",
   "execution_count": 10,
   "metadata": {},
   "outputs": [
    {
     "name": "stdout",
     "output_type": "stream",
     "text": [
      "-0.19019  |0000>   -0.20408  |1000>   0.64698  |0010>   -0.05999  |1010>   0.08399  |0101>   -0.47826  |1101>   0.5079  |0111>   0.07908  |1111>   \n"
     ]
    }
   ],
   "source": [
    "# Subcircuit F\n",
    "qc.h(q[0])\n",
    "\n",
    "qutils.wavefunction(qc)"
   ]
  },
  {
   "cell_type": "code",
   "execution_count": 11,
   "metadata": {},
   "outputs": [
    {
     "name": "stdout",
     "output_type": "stream",
     "text": [
      "-0.28203  |0000>   0.9594  |0010>   \n"
     ]
    }
   ],
   "source": [
    "# Measure\n",
    "qc.measure(q[0],c[0])\n",
    "qc.barrier()\n",
    "qc.measure(q[3],c[1])\n",
    "\n",
    "qutils.wavefunction(qc)"
   ]
  },
  {
   "cell_type": "code",
   "execution_count": 12,
   "metadata": {},
   "outputs": [
    {
     "data": {
      "image/png": "[encoded data removed]",
      "text/plain": [
       "<Figure size 1661.52x686.28 with 1 Axes>"
      ]
     },
     "execution_count": 12,
     "metadata": {},
     "output_type": "execute_result"
    }
   ],
   "source": [
    "# Print circuit\n",
    "qc.draw(output = 'mpl')"
   ]
  },
  {
   "cell_type": "code",
   "execution_count": 13,
   "metadata": {},
   "outputs": [
    {
     "name": "stdout",
     "output_type": "stream",
     "text": [
      "63 |10>  443 |00>  265 |11>  253 |01>  \n"
     ]
    }
   ],
   "source": [
    "qutils.measurement(qc, shots = 1024)"
   ]
  },
  {
   "cell_type": "code",
   "execution_count": 14,
   "metadata": {},
   "outputs": [],
   "source": [
    "# Simulate\n",
    "backend = BasicAer.get_backend('qasm_simulator')\n",
    "counts = execute(qc, backend, shots=1024).result().get_counts(qc)"
   ]
  },
  {
   "cell_type": "code",
   "execution_count": 15,
   "metadata": {},
   "outputs": [
    {
     "data": {
      "image/png": "[encoded data removed]",
      "text/plain": [
       "<Figure size 504x360 with 1 Axes>"
      ]
     },
     "execution_count": 15,
     "metadata": {},
     "output_type": "execute_result"
    }
   ],
   "source": [
    "# Postselection probability\n",
    "pacc = (counts['00'] + counts['10']) / sum(counts.values())\n",
    "visualization.plot_histogram({ 'P': pacc, '1 - P': (1 - pacc) })"
   ]
  },
  {
   "cell_type": "code",
   "execution_count": 16,
   "metadata": {},
   "outputs": [
    {
     "data": {
      "image/png": "[encoded data removed]",
      "text/plain": [
       "<Figure size 504x360 with 1 Axes>"
      ]
     },
     "execution_count": 16,
     "metadata": {},
     "output_type": "execute_result"
    }
   ],
   "source": [
    "# Classification probability\n",
    "visualization.plot_histogram({ '-1': counts['00'], '1': counts['10'] })"
   ]
  },
  {
   "cell_type": "code",
   "execution_count": null,
   "metadata": {},
   "outputs": [],
   "source": []
  }
 ],
 "metadata": {
  "kernelspec": {
   "display_name": "Python 3",
   "language": "python",
   "name": "python3"
  },
  "language_info": {
   "codemirror_mode": {
    "name": "ipython",
    "version": 3
   },
   "file_extension": ".py",
   "mimetype": "text/x-python",
   "name": "python",
   "nbconvert_exporter": "python",
   "pygments_lexer": "ipython3",
   "version": "3.6.5"
  }
 },
 "nbformat": 4,
 "nbformat_minor": 2
}
