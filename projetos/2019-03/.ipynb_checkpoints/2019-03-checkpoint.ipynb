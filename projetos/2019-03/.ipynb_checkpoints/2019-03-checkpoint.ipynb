{
 "cells": [
  {
   "cell_type": "markdown",
   "metadata": {},
   "source": [
    "# Implementing a distance-based classifier with a quantum interference circuit"
   ]
  },
  {
   "cell_type": "markdown",
   "metadata": {},
   "source": [
    "## Introdução"
   ]
  },
  {
   "cell_type": "markdown",
   "metadata": {},
   "source": [
    "A ideia principal é utilizar a interferência quântica para medir a distância de um novo vetor de entrada para cada um dos vetores de treinamento disponíveis e os classificar, como prova de conceito, é montado um circuito quântico para classificar instâncias do dataset Iris. São expostos resultados preditos, simulados e a partir de execuções reais em computadores quânticos da IBM, que só permitem a implementação de 80 portas quânticas, mas simulações numéricas mostram que o classificador funciona bem o suficiente com as tarefas de referência. "
   ]
  },
  {
   "cell_type": "markdown",
   "metadata": {},
   "source": [
    "## Motivação"
   ]
  },
  {
   "cell_type": "markdown",
   "metadata": {},
   "source": [
    "A intenção do autor não é utilizar um algoritmo clássico já existente e transforma-lo em quântico, mas, montar um algoritmo que já é pensado orginalmente com noções quânticas. Por essa razão o autor mostra que não é necessário que seja um algoritmo complexo, e então monta um circuito simples e mostra que pode ser usado como um - igualmente simples - classificador."
   ]
  },
  {
   "cell_type": "markdown",
   "metadata": {},
   "source": [
    "## Como funciona"
   ]
  },
  {
   "cell_type": "markdown",
   "metadata": {},
   "source": [
    "É considerada uma tarefa de classificação de padrão não binário supervisionado que é feita por: um conjunto de dados de treinamento $ \\rho = (x^1, y^1),...,(x^M, y^M) $, de entradas $ x^m \\in \\mathbb{R}^N $ com seus respectivos rótulos de destino $ y^m \\in \\left \\{ -1, 1 \\right \\} $ de $ m = 1,...,M $, assim como uma entrada não marcada $ \\tilde{y} \\in \\left \\{ -1, 1 \\right \\} $ e então é feita uma busca para encontrar o rótulo que corresponde a nova entrada.\n",
    "\n",
    "$ \\tilde{y} = sgn \\left ( \\sum_{m=1}^{M}y^m\\left [ 1 - \\frac{1}{4M}\\left |  \\tilde{x} - x^m\\right |^2 \\right ] \\right ) $ (1)\n",
    "\n",
    "A distância medida por $ \\kappa(x, {x}') = 1 - \\frac{1}{4M}\\left | x - {x}' \\right |^2 $ pode ser interpretada por um kernel. Logo, o modelo da equação (1) pode ser interpretado como o vizinho mais próximo onde cada ponto de treinamento que contribui para o resultado, com uma importância que diminui com o quadrado da distância. O algoritmo que implementa o classificador que é apresentado na equação (1) é baseada na ideia de codificação das características das entradas para dentro das amplitudes do sistema e as manipular pelas portas do circuito. E essa operação será chamada de codificação de amplitudes. Dado um vetor clássico $ x \\in \\mathbb{R}^N $ onde, x é normalizado, e $ N = 2^n $. A codificação de amplitudes associa vetor de entrada $ x = \\left \\{x_{1},...,x_{N}  \\right \\}^T $ com as $ 2^n $ amplitudes, descrevendo um enésimo-qubit de um sistema quântico, $ \\mid\\psi _{x} \\rangle = \\sum_{i=0}^{N-1}x_{i}\\mid \\ i\\rangle $. $ | i\\rangle $ é o índice que marca a i-ésima entrada de um vetor clássico com o i-ésimo estado da base computacional.\n",
    "\n",
    "A preparação do estado é dada por:\n",
    "\n",
    "$ | \\rho \\rangle = \\frac{1}{\\sqrt{2MC}} \\sum_{m=1}^{M} | m \\rangle\\left ( | 0 \\rangle \\right | \\psi _{\\tilde{x}}  \\rangle + | 1 \\rangle | \\psi _{x^m} \\rangle)| y^m \\rangle $\n",
    "\n",
    "Onde, $ | m \\rangle $ é o índice registrador de $ m = 1,..,M $ e marca a m-ésima entrada de treinamento. O segundo registrador é uma ancilla que está num estado excitado é emaranhado com o terceiro registrador codificando o m-ésimo estado de treinamento enquanto o estado fundamental é emaranhado com o terceiro registrador codificando a nova entrada e o quarto registrador é apenas um qubit que retorna 0 se $ y^m = -1 $ e 1 se $ y^m = 1 $. E então é criado um vetor de amplitudes que que contém os treinamentos de entrada e as M cópias das novas entradas."
   ]
  },
  {
   "cell_type": "markdown",
   "metadata": {},
   "source": [
    "## Algoritmo"
   ]
  },
  {
   "cell_type": "markdown",
   "metadata": {},
   "source": []
  },
  {
   "cell_type": "markdown",
   "metadata": {},
   "source": [
    "## Implementação"
   ]
  },
  {
   "cell_type": "code",
   "execution_count": null,
   "metadata": {},
   "outputs": [],
   "source": []
  }
 ],
 "metadata": {
  "kernelspec": {
   "display_name": "Python 3",
   "language": "python",
   "name": "python3"
  },
  "language_info": {
   "codemirror_mode": {
    "name": "ipython",
    "version": 3
   },
   "file_extension": ".py",
   "mimetype": "text/x-python",
   "name": "python",
   "nbconvert_exporter": "python",
   "pygments_lexer": "ipython3",
   "version": "3.6.5"
  }
 },
 "nbformat": 4,
 "nbformat_minor": 2
}
