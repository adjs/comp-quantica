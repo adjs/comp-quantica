{
 "cells": [
  {
   "cell_type": "markdown",
   "metadata": {
    "slideshow": {
     "slide_type": "slide"
    }
   },
   "source": [
    "# Transformada Rápida de Fourier\n",
    "\n"
   ]
  },
  {
   "cell_type": "markdown",
   "metadata": {
    "slideshow": {
     "slide_type": "slide"
    }
   },
   "source": [
    "## Polinômios\n",
    "\n",
    "Um **polinômio** na variável $x$ é uma função $$A(x) = \\sum_{j=0}^{n-1} a_jx^j$$"
   ]
  },
  {
   "cell_type": "markdown",
   "metadata": {
    "slideshow": {
     "slide_type": "fragment"
    }
   },
   "source": [
    "* $a_0, \\dots, a_{n-1}$ são os **coeficientes** do polinômio\n",
    "* $A(x)$ possui grau $k$ se a_k é o último coeficiente não nulo.\n",
    "\n"
   ]
  },
  {
   "cell_type": "markdown",
   "metadata": {
    "slideshow": {
     "slide_type": "fragment"
    }
   },
   "source": [
    "### Exemplo\n",
    "$A(x) = x^2 - 1$"
   ]
  },
  {
   "cell_type": "markdown",
   "metadata": {
    "slideshow": {
     "slide_type": "slide"
    }
   },
   "source": [
    "## Operações sobre polinômios\n",
    "\n",
    "Sejam $A(x) = \\sum_{j=0}^{n-1} a_jx^j$ e $B(x) = \\sum_{j=0}^{n-1} b_jx^j$\n",
    "\n",
    "$ A(x)+B(x)=\\sum_{j=0}^{n-1} (a_j+b_j)x^j $\n",
    "\n",
    "$A(x)B(x)=C(x)$, onde\n",
    "* $C(x) = \\sum_{j=0}^{2n-2}c_jx^j$\n",
    "* $c_j = \\sum_{k=0}^j a_kb_{j-k}$"
   ]
  },
  {
   "cell_type": "markdown",
   "metadata": {
    "slideshow": {
     "slide_type": "slide"
    }
   },
   "source": [
    "## Representação de polinômios\n",
    "\n",
    "### Representação por coeficientes\n",
    "Um polinômio de grau $n-1$ $A(x) = \\sum_{j=0}^{n-1} a_jx^j$ pode ser representado por um vetor $a = (a_0, \\dots, a_{n-1})$.\n",
    "\n",
    "* Qual o custo para realizar a adição e multiplicação de polinômios representados por coeficientes?\n"
   ]
  },
  {
   "cell_type": "markdown",
   "metadata": {
    "slideshow": {
     "slide_type": "fragment"
    }
   },
   "source": [
    "### Representação por ponto-valor\n",
    "Uma representação por ponto valor é um conjunto com $n$ pontos $\\{(x_0, y_0), \\dots, (x_{n-1}, y_{n-1})\\}$, onde $y_k = A(x_k)$\n",
    "\n",
    "* Qual o custo para obter uma representação de ponto-valor a partir da representação de coeficientes?\n",
    "* Qual o procedimento e custo para somar dois polinômios representados por ponto-valor?\n",
    "* Qual o procedimento e custo para multiplicar dois polinômios utilizando a representação ponto-valor?"
   ]
  },
  {
   "cell_type": "markdown",
   "metadata": {
    "slideshow": {
     "slide_type": "slide"
    }
   },
   "source": [
    "## Interpolação\n",
    "**Interpolação** é o processo de obter a representação por coeficientes a partir da representação por ponto-valor.\n",
    "\n",
    "Dado uma representação ponto valor de um polinômio de grau $n-1$ $\\{(x_0, y_0), \\dots, (x_{n-1}, y_{n-1})\\}$, podemos encontrar os valores dos coeficientes $(a_0, \\dots, a_{n-1})$ resolvendo o sistema de equações lineares\n",
    "\n",
    "$$\n",
    "\\left\\{\n",
    "\\begin{array}{lll}\n",
    "y_0 & = & a_0 + a_1 x_0 + a_2 x_0^2 + \\cdots + a_{n-1} x_0^{n-1}\\\\\n",
    "y_1 & = & a_0 + a_1 x_1^1 + a_2 x_1^2 + \\cdots + a_{n-1} x_1^{n-1}\\\\\n",
    "\\vdots\\\\\n",
    "y_{n-1} & = & a_0 + a_1 x_{n-1}^1 + a_2 x_{n-1}^2 + \\cdots + a_{n-1} x_{n-1}^{n-1}\n",
    "\\end{array}\n",
    "\\right.\n",
    "$$\n",
    "\n",
    "**Exercícios** \n",
    "- Determine os coeficientes do polinômio representado pelos pares de ponto-valor $\\{(1,1),(2,4),(3,9)\\}$\n",
    "- Qual o custo computacional para resolução do sistema linear?"
   ]
  },
  {
   "cell_type": "markdown",
   "metadata": {
    "slideshow": {
     "slide_type": "slide"
    }
   },
   "source": [
    "## Multiplicação rápida de polinômios na forma de coeficientes\n",
    "- Multiplicação de polinômios representados na forma ponto-valor possui custo O(n).\n",
    "- Algoritmos de conversão entre as representações ponto-valor e de coeficientes com custo O(nlgn) permitiriam a multiplicação de polinômios com custo O(nlgn).\n",
    "- Para obter um algoritmo de conversão entre as representações com custo O(nlgn) serão utilizadas propriedades dos números complexos."
   ]
  },
  {
   "cell_type": "markdown",
   "metadata": {
    "slideshow": {
     "slide_type": "slide"
    }
   },
   "source": [
    "## Raízes da unidade\n",
    "\n",
    "- Uma **$n$-ésima raíz da unidade** é um número complexo $\\omega$ tal que $\\omega^n = 1$\n",
    "- Existem exatamente $n$ raízes $n$-ésimas da unidade na forma $e^{2\\pi ik/n}$, com $k = 0, \\dots, n-1$\n",
    "- $e^{ui} = cos(u) + i \\cdot sen(u)$\n",
    "- $\\omega_n = e^{2\\pi i/n}$ é a principal $n$-ésima raíz da unidade\n",
    "- Todas as outras $n$-ésimas raízes da unidade são potências da raíz principal $$\\omega_n^0, \\omega_n^1, \\dots, \\omega_n^{n-1}.$$\n",
    "\n",
    "- Exercício\n",
    "    - Determine as raízes quartas da unidade."
   ]
  },
  {
   "cell_type": "code",
   "execution_count": 9,
   "metadata": {
    "slideshow": {
     "slide_type": "fragment"
    }
   },
   "outputs": [
    {
     "name": "stdout",
     "output_type": "stream",
     "text": [
      "[(1+0j), (1+0j)]\n",
      "[(6.123233995736766e-17+1j), (1-2.4492935982947064e-16j)]\n",
      "[(-1+1.2246467991473532e-16j), (1-4.898587196589413e-16j)]\n",
      "[(-1.8369701987210297e-16-1j), (1-7.347880794884119e-16j)]\n"
     ]
    }
   ],
   "source": [
    "# n-ésimas raízes da unidade\n",
    "import numpy as np\n",
    "n = 4\n",
    "wn = np.e**(2 * np.pi * 1j/n)\n",
    "for k in range(n):\n",
    "    raiz = wn**k\n",
    "    print([raiz, raiz**n])"
   ]
  },
  {
   "cell_type": "markdown",
   "metadata": {
    "slideshow": {
     "slide_type": "slide"
    }
   },
   "source": [
    "## Transformada Discreta de Fourier\n",
    "\n",
    "- Considere o polinômio de grau $n-1$ $$A(x) = \\sum_{j=0}^{n-1} a_jx^j$$.\n",
    "- A representação na forma de coeficientes de $A$ é o vetor $(a_0, \\dots, a_{n-1})$.\n",
    "- Defina $y_k = A(w_n^k)$.\n",
    "- O vetor $(y_0, y_1, \\cdots, y_{n-1})$ é a **tranformada discreta de Fourier** do vetor $(a_0, \\dots, a_{n-1})$.\n",
    "- $y = DFT_n(a)$\n",
    "\n",
    "- Exercício\n",
    "    - Calcule a transformada discreta de Fourier do vetor $(2, 4, 6)$.\n",
    "    - Qual o custo para calcular $DFT_n(a)$?"
   ]
  },
  {
   "cell_type": "markdown",
   "metadata": {
    "slideshow": {
     "slide_type": "slide"
    }
   },
   "source": [
    "## Transformada Rápida de Fourier\n",
    "- A transformada rápido de Fourier (Fast Fourier Transform, FFT) utiliza propriedades dos números complexos para calcular $DFT_n(a)$ em tempo $O(n\\lg n)$\n",
    "- Neste curso supomos que $n$ é uma potência de 2.\n",
    "- A FFT segue uma estratégia de dividir para conquistar.\n"
   ]
  },
  {
   "cell_type": "markdown",
   "metadata": {
    "slideshow": {
     "slide_type": "fragment"
    }
   },
   "source": [
    "Dados a representação em forma de coeficientes de um vetor $(a_0, \\dots, a_{n-1})$\n",
    "\n",
    "Defina um polinômio com os coeficientes ímpares e um polinômio com os coeficientes pares.\n",
    "\n",
    "- $A^{[0](x)} = a_0 + a_2x + \\cdots + a_{n-2} x^{n/2-1}$\n",
    "- $A^{[1](x)} = a_1 + a_3x + \\cdots + a_{n-1} x^{n/2-1}$\n",
    "\n",
    "---\n",
    "- Como $A(x) = A^{[0]}(x^2) + x \\cdot A^{[1]}(x^2)$\n",
    "- O problema de avaliar o polinômio de grau $n-1$ $A(x)$ nos pontos $w_n^0, \\cdots, w_n^{n-1}$ se reduz ao problema de avaliar os polinômios de grau $n/2 - 1$ $A^{[0]}$ e $A^{[1]}$ nos pontos $(w_n^0)^2, \\cdots, (w_n^{n-1})^2$.\n",
    "- Veremos que metade dos valores $(w_n^0)^2, \\cdots, (w_n^{n-1})^2$ são iguais e os subproblemas terão metade do tamanho do problema original"
   ]
  },
  {
   "cell_type": "markdown",
   "metadata": {
    "slideshow": {
     "slide_type": "slide"
    }
   },
   "source": [
    "## Lema do cancelamento\n",
    "Para todos inteiros $n \\geq 0$, $k \\geq 0$ e $d > 0$\n",
    "$$\\omega_{dn}^{dk} = \\omega_n^k$$"
   ]
  },
  {
   "cell_type": "markdown",
   "metadata": {
    "slideshow": {
     "slide_type": "fragment"
    }
   },
   "source": [
    "**Prova**\n",
    "Use a definição de $w_n = e^{2\\pi i/n}$\n",
    "\n",
    "---\n",
    "\n",
    "**Corolário** Para qualquer inteiro $n > 0$, $$w_n^{n/2} = w_2 = -1$$\n",
    "**Prova** Exercício."
   ]
  },
  {
   "cell_type": "markdown",
   "metadata": {
    "slideshow": {
     "slide_type": "slide"
    }
   },
   "source": [
    "## Halving lemma\n",
    "\n",
    "Seja $n>0$ então o quadrado das n raízes $n$-ésimas da unidade são as $n/2$ raízes $n/2$-ésimas da unidade.\n",
    "\n",
    "---\n",
    "**Prova**\n",
    "\n",
    "$(\\omega_n^k)^2 = \\omega_n^{2k}$ e pelo lema do cancelamento $\\omega_n^{2k} = \\omega_{n/2}^k$ que é uma $n/2$-ésima raíz da unidade.\n",
    "\n",
    "- $(\\omega_n^{k+n/2})^2 = (\\omega_n^{k})^2$, pois $\\omega_n^{k+n/2} = \\omega_n^k\\omega_n^{n/2} = -\\omega_n^k$\n",
    "\n"
   ]
  },
  {
   "cell_type": "markdown",
   "metadata": {
    "slideshow": {
     "slide_type": "slide"
    }
   },
   "source": [
    "## Transformada Rápida de Fourier\n",
    "- A transformada rápido de Fourier (Fast Fourier Transform, FFT) utiliza propriedades dos números complexos para calcular $DFT_n(a)$ em tempo $O(n\\lg n)$\n",
    "- Neste curso supomos que $n$ é uma potência de 2.\n",
    "- A FFT segue uma estratégia de dividir para conquistar.\n"
   ]
  },
  {
   "cell_type": "markdown",
   "metadata": {
    "slideshow": {
     "slide_type": "fragment"
    }
   },
   "source": [
    "Dados a representação em forma de coeficientes de um vetor $(a_0, \\dots, a_{n-1})$\n",
    "\n",
    "Defina um polinômio com os coeficientes ímpares e um polinômio com os coeficientes pares.\n",
    "\n",
    "- $A^{[0](x)} = a_0 + a_2x + \\cdots + a_{n-2} x^{n/2-1}$\n",
    "- $A^{[1](x)} = a_1 + a_3x + \\cdots + a_{n-1} x^{n/2-1}$\n",
    "\n",
    "---\n",
    "- Como $A(x) = A^{[0]}(x^2) + x \\cdot A^{[1]}(x^2)$\n",
    "- O problema de avaliar o polinômio de grau $n-1$ $A(x)$ nos pontos $w_n^0, \\cdots, w_n^{n-1}$ se reduz ao problema de avaliar os polinômios de grau $n/2 - 1$ $A^{[0]}$ e $A^{[1]}$ nos pontos $(w_n^0)^2, \\cdots, (w_n^{n-1})^2$.\n",
    "- Veremos que metade dos valores $(w_n^0)^2, \\cdots, (w_n^{n-1})^2$ são iguais e os subproblemas terão metade do tamanho do problema original"
   ]
  },
  {
   "cell_type": "code",
   "execution_count": 27,
   "metadata": {
    "slideshow": {
     "slide_type": "slide"
    }
   },
   "outputs": [],
   "source": [
    "def recursive_fft(a):\n",
    "    n = len(a)\n",
    "    if n == 1:\n",
    "        return a\n",
    "    w_n = np.e ** (2 * np.pi * 1j / n)\n",
    "    w = 1\n",
    "    a0 = []\n",
    "    a1 = []\n",
    "    for k in range(n):\n",
    "        if k % 2 == 0:\n",
    "            a0.append(a[k])\n",
    "        else:\n",
    "            a1.append(a[k])\n",
    "    y0 = recursive_fft(a0)\n",
    "    y1 = recursive_fft(a1)\n",
    "    y = n * [0j]\n",
    "    for k in range(int(n/2)):\n",
    "        y[k] = y0[k] + w * y1[k]\n",
    "        y[k + int(n/2)] = y0[k] - w * y1[k]\n",
    "        w = w * w_n\n",
    "        \n",
    "    return y"
   ]
  },
  {
   "cell_type": "markdown",
   "metadata": {},
   "source": [
    "## Referências\n",
    "- Cormen, T. H., Leiserson, C. E., Rivest, R. L., & Stein, C. (2009). Introduction to algorithms. MIT press."
   ]
  }
 ],
 "metadata": {
  "celltoolbar": "Slideshow",
  "kernelspec": {
   "display_name": "Python 3",
   "language": "python",
   "name": "python3"
  },
  "language_info": {
   "codemirror_mode": {
    "name": "ipython",
    "version": 3
   },
   "file_extension": ".py",
   "mimetype": "text/x-python",
   "name": "python",
   "nbconvert_exporter": "python",
   "pygments_lexer": "ipython3",
   "version": "3.6.5"
  }
 },
 "nbformat": 4,
 "nbformat_minor": 2
}
