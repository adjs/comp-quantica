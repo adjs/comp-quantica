{
  "nbformat": 4,
  "nbformat_minor": 0,
  "metadata": {
    "colab": {
      "name": "Quantica.ipynb",
      "provenance": [],
      "include_colab_link": true
    },
    "kernelspec": {
      "name": "python3",
      "display_name": "Python 3"
    }
  },
  "cells": [
    {
      "cell_type": "markdown",
      "metadata": {
        "id": "view-in-github",
        "colab_type": "text"
      },
      "source": [
        "<a href=\"https://colab.research.google.com/github/marcelaportela/comp-quantica/blob/master/Quantica.ipynb\" target=\"_parent\"><img src=\"https://colab.research.google.com/assets/colab-badge.svg\" alt=\"Open In Colab\"/></a>"
      ]
    },
    {
      "cell_type": "markdown",
      "metadata": {
        "id": "ueWOLm0EB3ni",
        "colab_type": "text"
      },
      "source": [
        "Quantum tic-tac-toe: A teaching  metaphor for superposition in quantum mechanics (GOFF, 2019)"
      ]
    },
    {
      "cell_type": "markdown",
      "metadata": {
        "id": "crnKbVw5B2w5",
        "colab_type": "text"
      },
      "source": [
        "[Jogo Online](http://qttt.rohanp.xyz)\n",
        "\n",
        "[Git hub do criador do jogo](https://github.com/rohanp/QuantumTicTacToe)\n"
      ]
    },
    {
      "cell_type": "markdown",
      "metadata": {
        "id": "fu2KDQOXC0w-",
        "colab_type": "text"
      },
      "source": [
        "Primeiramente precisamos compreender as regras do jogo e como ele funciona. "
      ]
    },
    {
      "cell_type": "markdown",
      "metadata": {
        "id": "xe_AZ9NrIkYy",
        "colab_type": "text"
      },
      "source": [
        "Metáforas físicas: Estão divididas em metáforas básicas, metáforas avançadas e metáforas especulativas."
      ]
    },
    {
      "cell_type": "markdown",
      "metadata": {
        "id": "p_D4Rc3yC8wu",
        "colab_type": "text"
      },
      "source": [
        "A proposta seria avaliar a aprendizagem de quântica através do jogo. Para tanto é necessário uma turma de estudantes de licenciatura em física. Irei falar com meu co-orientador que faz parte do departamento de física. Ou então podemos tentar a turma de jovens e adultos que eu tenho bastante acesso. "
      ]
    },
    {
      "cell_type": "markdown",
      "metadata": {
        "id": "hBLl2fNhDYbU",
        "colab_type": "text"
      },
      "source": [
        "Estudo longitudinal, uma prova será aplicada antes do uso dos jogos e após e realizado um teste de hipótese para comprovar o aprendizado. Também serão distribuídos questionários de avaliação em relação à metodologia de ensino adotada para os estudantes e para o professor.   Essa  metodologia de avaliação de aprendizagem foi utilizada por mim  em Souza et al. (2018). Onde avaliamos a aprendizagem de história e geografia utiliizando gamificação e realidade virtual.  \n",
        "\n",
        "Referência : [Souza,Figueiredo, Monteiro, Cysneiros. 2018](http://www.editorarealize.com.br/revistas/conedu/trabalhos/TRABALHO_EV117_MD1_SA19_ID11211_18092018120959.pdf)"
      ]
    },
    {
      "cell_type": "markdown",
      "metadata": {
        "id": "rMy1BtjiEQ-W",
        "colab_type": "text"
      },
      "source": [
        "Vídeo sobre jogos quanticos:(Quantum Games — Programming on Quantum Computers Ep 9\n",
        "[Vídeo](https://youtu.be/kmCSxfrK_Mg/)\n",
        "\n"
      ]
    },
    {
      "cell_type": "markdown",
      "metadata": {
        "id": "CFq4h4_iEqrt",
        "colab_type": "text"
      },
      "source": [
        "Talvez seja possível utilizar o game QiskitBlock com realidade virtual e óculos de realidade virtual. Pesquisar. \n",
        "\n",
        "[Jogo QiskitBlock](https://community.qiskit.org/experiments/qiskit-blocks/))"
      ]
    },
    {
      "cell_type": "markdown",
      "metadata": {
        "id": "Dtb8FIm8JMj8",
        "colab_type": "text"
      },
      "source": [
        "Referências\n",
        "\n",
        "GOFF, A. Quantum tic-tac-toe: A teaching  metaphor for superposition in quantum mechanics  Am.J.Phys.,v.74, n.11, 2006."
      ]
    },
    {
      "cell_type": "code",
      "metadata": {
        "id": "vr9FiTMgJh_T",
        "colab_type": "code",
        "colab": {}
      },
      "source": [
        ""
      ],
      "execution_count": 0,
      "outputs": []
    }
  ]
}