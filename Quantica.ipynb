{
  "nbformat": 4,
  "nbformat_minor": 0,
  "metadata": {
    "colab": {
      "name": "Quantica.ipynb",
      "provenance": [],
      "collapsed_sections": [],
      "include_colab_link": true
    },
    "kernelspec": {
      "name": "python3",
      "display_name": "Python 3"
    }
  },
  "cells": [
    {
      "cell_type": "markdown",
      "metadata": {
        "id": "view-in-github",
        "colab_type": "text"
      },
      "source": [
        "<a href=\"https://colab.research.google.com/github/marcelaportela/comp-quantica/blob/master/Quantica.ipynb\" target=\"_parent\"><img src=\"https://colab.research.google.com/assets/colab-badge.svg\" alt=\"Open In Colab\"/></a>"
      ]
    },
    {
      "cell_type": "markdown",
      "metadata": {
        "id": "ueWOLm0EB3ni",
        "colab_type": "text"
      },
      "source": [
        "**Quantum tic-tac-toe: A teaching  metaphor for superposition in quantum mechanics (GOFF, 2019)**"
      ]
    },
    {
      "cell_type": "markdown",
      "metadata": {
        "id": "crnKbVw5B2w5",
        "colab_type": "text"
      },
      "source": [
        "[Jogo Online](http://qttt.rohanp.xyz)\n",
        "\n",
        "[Git hub do criador do jogo](https://github.com/rohanp/QuantumTicTacToe)\n"
      ]
    },
    {
      "cell_type": "markdown",
      "metadata": {
        "id": "fu2KDQOXC0w-",
        "colab_type": "text"
      },
      "source": [
        "Primeiramente precisamos compreender as regras do jogo e como ele funciona. "
      ]
    },
    {
      "cell_type": "markdown",
      "metadata": {
        "id": "xe_AZ9NrIkYy",
        "colab_type": "text"
      },
      "source": [
        "Metáforas físicas: Estão divididas em metáforas básicas, metáforas avançadas e metáforas especulativas."
      ]
    },
    {
      "cell_type": "markdown",
      "metadata": {
        "id": "bg2OTnodLSpr",
        "colab_type": "text"
      },
      "source": [
        "\n",
        "\n",
        "---\n",
        "\n",
        "\n",
        "**A) Metáforas Básicas**\n",
        "\n",
        "\n",
        "1.   **Estados**\n",
        "\n",
        "Em sistemas quânticos os valores de uma propriedade são em geral quantizadas:elas podem ter somente valores discretos. No jogo da velha, a posição é quantizada. \n",
        "\n",
        "Na mecânica quântica um estado é representado como um vetor. No jogo da velha clássico existem 9 possíveis estados, cada uma das 9 caselas (quadrados). O estado do jogo é a concatenação dos vetores que representam o quadrado que foi marcado, na ordem que foi marcado, utilizando a notação de Dirac: |1> representa uma marca no primeiro quadrado do jogo da velha. \n",
        "\n",
        "Exemplo: \n",
        "\n",
        "           ![Figura 2:](https://) inserir imagem\n",
        "           \n",
        "           Na igmagem 2, o jogador X marca primeiramente no centro, e depois o jogador O, marca a diagonal inferior direita, em seguida o X marca a diagonal superior esquerda. A notação de Dirac para o exemplo da figura 2 é o seguinte :\n",
        "           \n",
        "           psi = |5>|9>|1>\n",
        "\n",
        "\n",
        "2.   **Superposição**\n",
        "\n",
        "\n",
        "\n",
        "1.   **Emaranhamento**\n",
        "\n",
        "1.   **Transição para estados clássicos**\n",
        "2.   **Dualidade evolução/colapso**\n",
        "\n",
        "1.   **Princípio da correspondência**\n",
        "\n",
        "\n",
        "\n",
        "\n",
        "\n",
        "---\n",
        "\n",
        "\n",
        "**B)Metáforas Avançadas**\n",
        "\n",
        "1.   **Princípio da incerteza**\n",
        "2.   **Computação Quântica**\n",
        "\n",
        "1.   **Interferência**\n",
        "2.   **Não localidade**\n",
        "\n",
        "1.   **Decoerência**\n",
        "2.   **Não linearidade no processo de medida**\n",
        "\n",
        "\n",
        "\n",
        "---\n",
        "**C)Metáforas Especulativas**\n",
        "\n",
        "\n",
        "1.   **Terceiro tipo de causalidade**\n",
        "\n",
        "\n",
        "\n",
        "\n",
        "\n",
        "\n",
        "\n",
        "\n",
        "\n",
        "\n",
        "\n",
        "\n",
        "\n",
        "\n",
        "\n",
        "\n",
        "\n",
        "\n",
        "\n",
        "\n"
      ]
    },
    {
      "cell_type": "markdown",
      "metadata": {
        "id": "p_D4Rc3yC8wu",
        "colab_type": "text"
      },
      "source": [
        "**Proposta de estudo**\n",
        "\n",
        "A proposta seria avaliar a aprendizagem de quântica através do jogo. Realizar o experimento com a turma de Adenilton, do CIN, UFPE, de compuação Quântica. "
      ]
    },
    {
      "cell_type": "markdown",
      "metadata": {
        "id": "hBLl2fNhDYbU",
        "colab_type": "text"
      },
      "source": [
        "**Metodologia**\n",
        "\n",
        "Estudo longitudinal, uma prova será aplicada antes do uso dos jogos e após e realizado um teste de hipótese para comprovar o aprendizado. Também serão distribuídos questionários de avaliação em relação à metodologia de ensino adotada para os estudantes e para o professor.   Essa  metodologia de avaliação de aprendizagem foi utilizada por mim  em Souza et al. (2018). Onde avaliamos a aprendizagem de história e geografia utiliizando gamificação e realidade virtual.  \n",
        "\n",
        "Referência : [Souza,Figueiredo, Monteiro, Cysneiros. 2018](http://www.editorarealize.com.br/revistas/conedu/trabalhos/TRABALHO_EV117_MD1_SA19_ID11211_18092018120959.pdf)\n",
        "\n",
        "\n",
        "\n",
        "**Plano de aula:**\n",
        "\n",
        "\n",
        "*   Aplicação da prova no início da aula\n",
        "*   Aula:\n",
        "\n",
        "1.   Primeiramente se explicará as regras do jogo.\n",
        "2.   Dividir a turma em dois grupos, um grupo representando o X e outro representando o O. O grupo entra em consenso para as jogadas. \n",
        "\n",
        "1.   Dividir em duplas e jogam no computador\n",
        "2.   Ao fim, se explica as analogias do jogo com os princípios de quântica\n",
        "\n",
        "1.   Utilização do Kahoot com perguntas sobre quântica\n",
        "2.   Aplicação de questionário de satisfação sobre a metodologia de ensino\n",
        "\n",
        "\n",
        "\n",
        "*   Aplicação da mesma prova ao fim da aula.\n",
        "\n",
        "\n",
        "\n",
        "\n",
        "\n",
        "\n",
        "\n"
      ]
    },
    {
      "cell_type": "markdown",
      "metadata": {
        "id": "rMy1BtjiEQ-W",
        "colab_type": "text"
      },
      "source": [
        "Vídeo sobre jogos quanticos:(Quantum Games — Programming on Quantum Computers Ep 9\n",
        "[Vídeo](https://youtu.be/kmCSxfrK_Mg/)\n",
        "\n"
      ]
    },
    {
      "cell_type": "markdown",
      "metadata": {
        "id": "CFq4h4_iEqrt",
        "colab_type": "text"
      },
      "source": [
        " Talvez seja possível utilizar o game QiskitBlock com realidade virtual e óculos de realidade virtual. Estudos futuros \n",
        "\n",
        "[Jogo QiskitBlock](https://community.qiskit.org/experiments/qiskit-blocks/))"
      ]
    },
    {
      "cell_type": "markdown",
      "metadata": {
        "id": "Dtb8FIm8JMj8",
        "colab_type": "text"
      },
      "source": [
        "Referências\n",
        "\n",
        "GOFF, A. Quantum tic-tac-toe: A teaching  metaphor for superposition in quantum mechanics  Am.J.Phys.,v.74, n.11, 2006."
      ]
    },
    {
      "cell_type": "code",
      "metadata": {
        "id": "vr9FiTMgJh_T",
        "colab_type": "code",
        "colab": {}
      },
      "source": [
        ""
      ],
      "execution_count": 0,
      "outputs": []
    }
  ]
}