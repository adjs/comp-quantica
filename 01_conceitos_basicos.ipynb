{
 "cells": [
  {
   "cell_type": "markdown",
   "metadata": {
    "slideshow": {
     "slide_type": "slide"
    }
   },
   "source": [
    "# Computação quântica\n",
    "## Conceitos básicos \n",
    "\n",
    "- bits quânticos (qbit)\n",
    "- operadores sobre um qbit\n",
    "- Medição\n",
    "- Simulação utilizando qiskit\n",
    "- Execução em um processador quântico\n",
    "- Produto tensorial\n",
    "- Emaranhamento"
   ]
  },
  {
   "cell_type": "markdown",
   "metadata": {
    "slideshow": {
     "slide_type": "slide"
    }
   },
   "source": [
    "## Introdução\n",
    "\n",
    "* A matéria em escala subatômica apresenta um comportamento diferente do descrito na física clássica. \n",
    "    * A computação clássica processa bits que podem estar no \"estado\" 0 ou 1. \n",
    "    * A computação quântica processa bits quânticos ou **qbits** podem estar em um número contínuo de possibilidades. \n",
    "    \n",
    "* Não é claro se existe um ganho computacional ao utilizarmos a computação quântica. No entanto existe uma forte evidência deste ganho.\n",
    "    * Por exemplo, o algoritmo quântico de fatoração em tempo polinomial.\n",
    "\n",
    "\n"
   ]
  },
  {
   "cell_type": "markdown",
   "metadata": {
    "slideshow": {
     "slide_type": "skip"
    }
   },
   "source": [
    "## Introdução\n",
    "\n",
    "O principal objetivo deste curso é apresentar os conceitos da computação quântica, os principais algoritmos e métodos de programação para processadores quânticos de pequena escala.\n",
    "\n",
    "Diversas empresas, universidades e países estão realizando investimentos para a construção de um computador quântico. Apesar dos resultados teóricos, até a data desta aula ainda não existe uma aplicação prática de computadores quânticos que não possa ser realizada por computadores clássicos."
   ]
  },
  {
   "cell_type": "markdown",
   "metadata": {
    "collapsed": true,
    "slideshow": {
     "slide_type": "slide"
    }
   },
   "source": [
    "## Bits quânticos\n",
    "* Na literatura de computação quântica a notação de dirac $|\\cdot \\rangle$ é utilizada para representar vetores. Por exemplo,\n",
    "\n",
    "$$|0\\rangle = \\begin{bmatrix}1 \\\\ 0\\end{bmatrix} \\mbox{ e } |1\\rangle = \\begin{bmatrix}0 \\\\ 1\\end{bmatrix}.$$\n",
    "\n",
    "* Enquanto os bits podem estar em apenas dois possíveis estados, os bits quânticos estão no espaço vetorial $\\mathbb{C}^2$ e podem estar em uma superposição de estados (em uma combinação linear de $|0\\rangle$ e $|1\\rangle$) $$|\\psi\\rangle = \\alpha|0\\rangle + \\beta|1\\rangle,$$.\n",
    "\n",
    "    onde $\\alpha$ e $\\beta$ são denominados amplitudes de probabilidade e $|\\alpha|^2+|\\beta|^2 = 1$\n"
   ]
  },
  {
   "cell_type": "markdown",
   "metadata": {
    "collapsed": true,
    "slideshow": {
     "slide_type": "slide"
    }
   },
   "source": [
    "## Medição projetiva\n",
    "\n",
    "Os valores das amplitudes de probabilidade de um qbit não podem ser recuperados. A única informação que obtemos ao observar um qbit $|\\psi\\rangle = \\alpha|0\\rangle + \\beta|1\\rangle$ é 0 com probabilidade $|\\alpha|^2$ e 1 com probabilidade $|\\beta|^2$. Após a medição o estado do qbit colapsa e sucessivas medições retornarão o mesmo resultado.\n",
    "\n",
    "Por exemplo, considere o qbit $|\\psi\\rangle = \\frac{1}{\\sqrt{3}}|0\\rangle + \\sqrt{\\frac{2}{3}}|1\\rangle$. Ao realizar uma medição será obtido 0 com probabilidade $\\frac{1}{3}$ e neste caso o qbit irá colapsar para o estado $|\\psi\\rangle =|0\\rangle$ ou 1 com probabilidade $\\frac{2}{3}$ e neste caso o qbit irá colapsar para o estado $|\\psi\\rangle =|1\\rangle$."
   ]
  },
  {
   "cell_type": "markdown",
   "metadata": {
    "slideshow": {
     "slide_type": "slide"
    }
   },
   "source": [
    "## Operadores quânticos sobre um qbit\n",
    "* Na base computacional (ou base canônica) $\\{|0\\rangle, |1\\rangle\\}$, um operador quântico sobre um qbit pode ser representado por uma matriz unitária $2 \\times 2$. \n",
    "\n",
    "* Uma matriz $U$ é unitária se ao ser multiplicada por sua transposta conjugada $U^\\dagger$ obtiver a matriz identidade como resultado $UU^\\dagger = I$. \n",
    "\n",
    "* Toda matriz unitária $2 \\times 2$ representa um operador quântico válido.\n",
    "\n",
    "* Alguns exemplos de operadores quânticos $I$, $H$, $X$, $Z$, \n",
    "\n",
    "$$I = \\begin{bmatrix}\n",
    "1 & 0 \\\\\n",
    "0 & 1\n",
    "\\end{bmatrix}\\mbox{, } \n",
    "%\n",
    "X = \\begin{bmatrix}\n",
    "0 & 1 \\\\\n",
    "1 & 0\n",
    "\\end{bmatrix}\\mbox{, }\n",
    "%\n",
    "H = \\frac{1}{\\sqrt{2}}\\begin{bmatrix}\n",
    "1 & 1 \\\\\n",
    "1 & -1\n",
    "\\end{bmatrix}\\mbox{ e }\n",
    "Z = \\begin{bmatrix}\n",
    "1 & 0 \\\\\n",
    "0 & -1\n",
    "\\end{bmatrix}$$"
   ]
  },
  {
   "cell_type": "markdown",
   "metadata": {
    "slideshow": {
     "slide_type": "slide"
    }
   },
   "source": [
    "## Operadores quânticos sobre um qbit\n",
    "\n",
    "* Toda matriz $2 \\times 2$ unitária representa um operador quântico válido. \n",
    "* No entanto, os processadores quânticos disponíveis possuem um conjunto finito de funções para representar operadores quânticos. \n",
    "* Por exemplo, no computador ibmqx4 o conjunto de operadores sobre um qbit são\n",
    "\n",
    "$$u3(\\theta, \\phi, \\lambda) = \n",
    "\\begin{bmatrix} \n",
    "    cos(\\theta/2) & -e^{i\\lambda}sen(\\theta/2) \\\\\n",
    "    e^{i\\phi}sen(\\theta/2) & e^{i(\\lambda+\\phi)}cos(\\theta/2)\n",
    "\\end{bmatrix}\\mbox{, } \n",
    "u2(\\phi, \\lambda)=\n",
    "\\begin{bmatrix}\n",
    "1 & -e^{i\\lambda}\\\\\n",
    "e^{i\\phi} & e^{i\\phi + i\\lambda}\n",
    "\\end{bmatrix}, \n",
    "u1(\\lambda)=\n",
    "\\begin{bmatrix}\n",
    "1 & 0\\\\\n",
    "0 & e^{i\\lambda}\n",
    "\\end{bmatrix}\n",
    "$$"
   ]
  },
  {
   "cell_type": "markdown",
   "metadata": {
    "slideshow": {
     "slide_type": "slide"
    }
   },
   "source": [
    "## Simulação utilizando o numpy\n",
    "\n",
    "* Podemos pensar em um bit quântico como uma classe com um atributo vetor privado. \n",
    "* O vetor é inicializado em $|0\\rangle$ e só pode ser modificado pela ação de operadores quânticos e medições."
   ]
  },
  {
   "cell_type": "code",
   "execution_count": 1,
   "metadata": {
    "slideshow": {
     "slide_type": "fragment"
    }
   },
   "outputs": [],
   "source": [
    "import numpy as np\n",
    "import random\n",
    "class qbit:\n",
    "    def __init__(self):\n",
    "        self._vector = np.matrix([[1],[0]]) # _ indica aproximadamente variável protegida\n",
    "    def measure(self):\n",
    "        a = random.random()\n",
    "        if a < self._vector[0]**2:\n",
    "            self._vector = np.matrix([[1],[0]])\n",
    "            return 0\n",
    "        else:\n",
    "            self._vector = np.matrix([[0],[1]])\n",
    "            return 1\n",
    "    def __str__(self):\n",
    "        return str(self._vector[0]) + '|0>' + ' + ' + str(self._vector[1]) + '|1>'\n",
    "    \n"
   ]
  },
  {
   "cell_type": "code",
   "execution_count": 2,
   "metadata": {
    "slideshow": {
     "slide_type": "slide"
    }
   },
   "outputs": [],
   "source": [
    "class qop:\n",
    "    def __init__(self, matrix):\n",
    "        self.matrix = np.matrix(matrix)\n",
    "    def __mul__(self, qbit):\n",
    "        qbit._vector = self.matrix * qbit._vector\n",
    "    \n",
    "    def __str__(self):\n",
    "        return str(self.matrix)"
   ]
  },
  {
   "cell_type": "code",
   "execution_count": 3,
   "metadata": {
    "slideshow": {
     "slide_type": "slide"
    }
   },
   "outputs": [],
   "source": [
    "# inicializa um qbit\n",
    "psi = qbit() \n",
    "\n",
    "# inicializa um operador quântico\n",
    "a = (1/np.sqrt(2)) * np.matrix([[1, 1],[1, -1]])\n",
    "H = qop(a)\n",
    "\n",
    "#Aplica o operador ao bit quântico\n",
    "H * psi"
   ]
  },
  {
   "cell_type": "code",
   "execution_count": 4,
   "metadata": {
    "slideshow": {
     "slide_type": "fragment"
    }
   },
   "outputs": [
    {
     "name": "stdout",
     "output_type": "stream",
     "text": [
      "[[0.70710678]]|0> + [[0.70710678]]|1>\n"
     ]
    }
   ],
   "source": [
    "print(psi) # esta operação não é possível em qbit real"
   ]
  },
  {
   "cell_type": "code",
   "execution_count": 5,
   "metadata": {
    "slideshow": {
     "slide_type": "fragment"
    }
   },
   "outputs": [
    {
     "data": {
      "text/plain": [
       "0"
      ]
     },
     "execution_count": 5,
     "metadata": {},
     "output_type": "execute_result"
    }
   ],
   "source": [
    "# Medição do qbit\n",
    "psi.measure()"
   ]
  },
  {
   "cell_type": "code",
   "execution_count": 6,
   "metadata": {
    "slideshow": {
     "slide_type": "fragment"
    }
   },
   "outputs": [
    {
     "name": "stdout",
     "output_type": "stream",
     "text": [
      "[[1]]|0> + [[0]]|1>\n"
     ]
    }
   ],
   "source": [
    "# Estado após a medição\n",
    "print(psi) # esta operação não é possível em qbit real"
   ]
  },
  {
   "cell_type": "markdown",
   "metadata": {
    "slideshow": {
     "slide_type": "slide"
    }
   },
   "source": [
    "## Qiskit\n",
    "* O [qiskit](https://qiskit.org) fornece ferramentas para a programação de computadores quânticos na linguagem de programação python. \n",
    "* Para inicializar um qbit utilizamos a função ```QuantumRegister``` \n",
    "* Para inicializar um bit clássico utilizamos a função ```ClassicalRegister``` \n",
    "* É necessário construir um circuito quântico com a classe `python QuantumCircuit` para realizar operações sobre os qbits. \n",
    "* Estes são os objetos básicos para programar um sistema quântico.\n",
    "\n",
    "```python \n",
    "QuantumRegister(size, name=None) \n",
    "# implementa um registrador quântico como um array de qbits\n",
    "\n",
    "ClassicalRegister(size, name=None) \n",
    "# implementa um registrador clássico como um array de qbits, size inteiro, name string\n",
    "\n",
    "QuantumCircuit(*regs, name=None) \n",
    "# Cria um circuito quântico. *regs lista de ClassicalRegisters e Quantum registers e name string\n",
    "```"
   ]
  },
  {
   "cell_type": "markdown",
   "metadata": {
    "slideshow": {
     "slide_type": "slide"
    }
   },
   "source": [
    "## Qiskit\n",
    "* No código abaixo um registrador quântico `q`, um registrador clássico `c` e um circuito quântico `circuit` contendo `q` e `c` são criados. \n",
    "* Em seguida o operador Hadammard `circuit.h(q)` é aplicado no registrador `q` e uma medição do registrador `q` é realizada e seu resultado é armazenado no registrador `c`."
   ]
  },
  {
   "cell_type": "code",
   "execution_count": 7,
   "metadata": {
    "slideshow": {
     "slide_type": "fragment"
    }
   },
   "outputs": [
    {
     "data": {
      "text/plain": [
       "<qiskit.circuit.instructionset.InstructionSet at 0x1d59fd698d0>"
      ]
     },
     "execution_count": 7,
     "metadata": {},
     "output_type": "execute_result"
    }
   ],
   "source": [
    "# importar módulos\n",
    "import numpy as np\n",
    "import qiskit\n",
    "\n",
    "q = qiskit.QuantumRegister(1, 'q')\n",
    "c = qiskit.ClassicalRegister(1, 'c')\n",
    "circuit = qiskit.QuantumCircuit(q, c)\n",
    "circuit.h(q)\n",
    "circuit.measure(q, c)\n",
    "\n"
   ]
  },
  {
   "cell_type": "markdown",
   "metadata": {
    "slideshow": {
     "slide_type": "slide"
    }
   },
   "source": [
    "## Circuito\n",
    "\n",
    "* Podemos visualizar o circuito `circuit`utilizando a função `draw()` da classe `QuantumCircuit`. \n",
    "* Um circuito é lido da esquerda para direita. \n",
    "* No circuito abaixo o operador $H$ é aplicado para em seguida realizarmos uma medição."
   ]
  },
  {
   "cell_type": "code",
   "execution_count": 8,
   "metadata": {
    "slideshow": {
     "slide_type": "fragment"
    }
   },
   "outputs": [
    {
     "data": {
      "text/html": [
       "<pre style=\"word-wrap: normal;white-space: pre;line-height: 15px;\">        ┌───┐┌─┐\n",
       "q_0: |0>┤ H ├┤M├\n",
       "        └───┘└╥┘\n",
       " c_0: 0 ══════╩═\n",
       "                </pre>"
      ],
      "text/plain": [
       "<qiskit.visualization.text.TextDrawing at 0x1d5908f9080>"
      ]
     },
     "execution_count": 8,
     "metadata": {},
     "output_type": "execute_result"
    }
   ],
   "source": [
    "circuit.draw()\n"
   ]
  },
  {
   "cell_type": "markdown",
   "metadata": {
    "slideshow": {
     "slide_type": "slide"
    }
   },
   "source": [
    "## Circuito\n",
    "* Para executar um circuito quântico devemos utilizar o módulo `BasicAer`. \n",
    "* A função `BasicAer.get_backend` permite selecionar onde o circuito será executado.\n",
    "* A função `qiskit.execute` permite executar o circuito.\n"
   ]
  },
  {
   "cell_type": "code",
   "execution_count": 9,
   "metadata": {
    "slideshow": {
     "slide_type": "fragment"
    }
   },
   "outputs": [],
   "source": [
    "from qiskit import BasicAer\n",
    "backend = BasicAer.get_backend('qasm_simulator')\n",
    "job = qiskit.execute(circuit, backend, shots=1024)"
   ]
  },
  {
   "cell_type": "code",
   "execution_count": 10,
   "metadata": {
    "slideshow": {
     "slide_type": "fragment"
    }
   },
   "outputs": [
    {
     "name": "stdout",
     "output_type": "stream",
     "text": [
      "{'0': 522, '1': 502}\n"
     ]
    }
   ],
   "source": [
    "result = job.result()\n",
    "counts = result.get_counts(circuit)\n",
    "print(counts)"
   ]
  },
  {
   "cell_type": "markdown",
   "metadata": {
    "slideshow": {
     "slide_type": "slide"
    }
   },
   "source": [
    "## Executando o circuito em um processador quântico\n",
    "\n",
    "* A IBM disponibiliza protótipos de processadores quânticos com \n",
    "    * 5 qbits (ibmq_5_yorktown - ibmqx2 e ibmq_5_tenerife - ibmqx4) \n",
    "    * 14 qbits (ibmq_16_melbourne)\n",
    "* Para acessar estes computadores é necessário criar uma conta em https://quantum-computing.ibm.com/login.\n",
    "\n",
    "* Após criar uma conta é necessário acessar perfil $\\rightarrow$ my account $\\rightarrow$ copy token. Esse token é pessoal e não deve ser compartilhado. Ao executar a célula abaixo informe seu token quando solicitado para registrar este notebook."
   ]
  },
  {
   "cell_type": "code",
   "execution_count": 11,
   "metadata": {
    "slideshow": {
     "slide_type": "slide"
    }
   },
   "outputs": [
    {
     "name": "stdout",
     "output_type": "stream",
     "text": [
      "Informe seu API_TOKEN: ········\n"
     ]
    }
   ],
   "source": [
    "from qiskit import IBMQ \n",
    "import getpass\n",
    "\n",
    "MY_API_TOKEN = getpass.getpass(\"Informe seu API_TOKEN: \")"
   ]
  },
  {
   "cell_type": "code",
   "execution_count": 12,
   "metadata": {
    "slideshow": {
     "slide_type": "fragment"
    }
   },
   "outputs": [
    {
     "data": {
      "text/plain": [
       "[<IBMQSimulator('ibmq_qasm_simulator') from IBMQ(hub='ibm-q', group='open', project='main')>,\n",
       " <IBMQBackend('ibmqx4') from IBMQ(hub='ibm-q', group='open', project='main')>,\n",
       " <IBMQBackend('ibmqx2') from IBMQ(hub='ibm-q', group='open', project='main')>,\n",
       " <IBMQBackend('ibmq_16_melbourne') from IBMQ(hub='ibm-q', group='open', project='main')>]"
      ]
     },
     "execution_count": 12,
     "metadata": {},
     "output_type": "execute_result"
    }
   ],
   "source": [
    "IBMQ.enable_account(MY_API_TOKEN)\n",
    "provider = IBMQ.get_provider()\n",
    "provider.backends(operational=True)"
   ]
  },
  {
   "cell_type": "code",
   "execution_count": 13,
   "metadata": {
    "slideshow": {
     "slide_type": "slide"
    }
   },
   "outputs": [
    {
     "data": {
      "text/html": [
       "<pre style=\"word-wrap: normal;white-space: pre;line-height: 15px;\">        ┌───┐┌─┐\n",
       "q_0: |0>┤ H ├┤M├\n",
       "        └───┘└╥┘\n",
       " c_0: 0 ══════╩═\n",
       "                </pre>"
      ],
      "text/plain": [
       "<qiskit.visualization.text.TextDrawing at 0x1d5b809a470>"
      ]
     },
     "execution_count": 13,
     "metadata": {},
     "output_type": "execute_result"
    }
   ],
   "source": [
    "circuit.draw()"
   ]
  },
  {
   "cell_type": "code",
   "execution_count": 14,
   "metadata": {
    "slideshow": {
     "slide_type": "fragment"
    }
   },
   "outputs": [
    {
     "name": "stdout",
     "output_type": "stream",
     "text": [
      "{'0': 587, '1': 437}\n"
     ]
    }
   ],
   "source": [
    "qbackend = provider.get_backend('ibmqx4')\n",
    "qjob = qiskit.execute(circuit, qbackend, shots=1024)\n",
    "qresult = qjob.result()\n",
    "qcounts = qresult.get_counts(circuit)\n",
    "print(qcounts)"
   ]
  },
  {
   "cell_type": "markdown",
   "metadata": {
    "slideshow": {
     "slide_type": "slide"
    }
   },
   "source": [
    "## Exercícios\n",
    "\n",
    "1. Quantos bits podem ser armazenados em um qbit?\n",
    "1. Mostre que o operador $H$ é unitário.\n",
    "1. Mostre que $H^2 = I$\n",
    "1. Quais são os autovalores e autovetores de $H$?\n",
    "1. Determine o estado do qbit $|\\psi\\rangle = ZHX|0\\rangle$. Verifique a probabilidade de obtermos 0 ou 1 ao realizar a medição do qbit e simule as operações utilizando o qiskit para verificar sua estimativa.\n",
    "\n",
    "1. Implemente um circuito quântico que crie a partir do $|0\\rangle$ o estado $\\frac{1}{\\sqrt{7}}|0\\rangle - \\frac{\\sqrt{6}}{\\sqrt{7}}|1\\rangle$\n",
    "\n",
    "1. Utilizando o numpy, mostre que $HXH = Z$, $HYH = -Y$ e $HZH=X$"
   ]
  },
  {
   "cell_type": "markdown",
   "metadata": {
    "slideshow": {
     "slide_type": "slide"
    }
   },
   "source": [
    "## Múltiplos qbits\n",
    "\n",
    "* O produto tensorial $\\otimes$ é utilizado para representar múltiplos qbits.\n",
    "* Fundamental para compreensão da computação quântica.\n",
    "* No python, o produto tensorial é implementado na função `np.kron`"
   ]
  },
  {
   "cell_type": "markdown",
   "metadata": {
    "slideshow": {
     "slide_type": "slide"
    }
   },
   "source": [
    "## Produto tensorial\n",
    "\n",
    "Seja $A$ uma matriz $m \\times n$ e $B$ uma matriz $p \\times q$. O produto de Kronecker será a matriz\n",
    "\n",
    "$$A \\otimes B =\n",
    "\\begin{pmatrix}\n",
    "A_{11}B & A_{12}B & \\cdots & A_{1n}B \\\\\n",
    "A_{21}B & A_{22}B & \\cdots & A_{2n}B \\\\\n",
    "\\vdots & \\vdots & \\vdots & \\vdots \\\\\n",
    "A_{m1}B & A_{m2}B & \\cdots & A_{mn}B\n",
    "\\end{pmatrix}\n",
    "$$"
   ]
  },
  {
   "cell_type": "markdown",
   "metadata": {
    "slideshow": {
     "slide_type": "fragment"
    }
   },
   "source": [
    "# Produto tensorial\n",
    "\n",
    "* Sejam $|\\psi_0\\rangle = |0\\rangle$ e $|\\psi_1\\rangle = |1\\rangle$\n",
    "* Calculando o produto tensorial obtemos $|0\\rangle \\otimes |0\\rangle$, $|0\\rangle \\otimes |1\\rangle$, $|1\\rangle \\otimes |0\\rangle$ e $|1\\rangle \\otimes |1\\rangle$"
   ]
  },
  {
   "cell_type": "code",
   "execution_count": 15,
   "metadata": {
    "slideshow": {
     "slide_type": "fragment"
    }
   },
   "outputs": [],
   "source": [
    "psi0 = np.matrix([1, 0]).T\n",
    "psi1 = np.matrix([0, 1]).T"
   ]
  },
  {
   "cell_type": "code",
   "execution_count": 16,
   "metadata": {
    "slideshow": {
     "slide_type": "fragment"
    }
   },
   "outputs": [
    {
     "name": "stdout",
     "output_type": "stream",
     "text": [
      "[matrix([[1, 0, 0, 0]]), matrix([[0, 1, 0, 0]]), matrix([[0, 0, 1, 0]]), matrix([[0, 0, 0, 1]])]\n"
     ]
    }
   ],
   "source": [
    "psi00 = np.kron(psi0, psi0)\n",
    "psi01 = np.kron(psi0, psi1)\n",
    "psi10 = np.kron(psi1, psi0)\n",
    "psi11 = np.kron(psi1, psi1)\n",
    "print([psi00.T, psi01.T, psi10.T, psi11.T])"
   ]
  },
  {
   "cell_type": "code",
   "execution_count": 17,
   "metadata": {
    "slideshow": {
     "slide_type": "fragment"
    }
   },
   "outputs": [
    {
     "data": {
      "text/plain": [
       "matrix([[ 0.5,  0.5,  0.5,  0.5],\n",
       "        [ 0.5, -0.5,  0.5, -0.5],\n",
       "        [ 0.5,  0.5, -0.5, -0.5],\n",
       "        [ 0.5, -0.5, -0.5,  0.5]])"
      ]
     },
     "execution_count": 17,
     "metadata": {},
     "output_type": "execute_result"
    }
   ],
   "source": [
    "H = (1/np.sqrt(2)) * np.matrix([[1, 1],[1, -1]])\n",
    "np.kron(H,H)"
   ]
  },
  {
   "cell_type": "markdown",
   "metadata": {
    "slideshow": {
     "slide_type": "slide"
    }
   },
   "source": [
    "## Produto tensorial\n",
    "\n",
    "* Sejam $V$ e $W$ espaços vetoriais de dimensão $m$ e $n$ e com bases $A = \\{|\\psi_1\\rangle, \\cdots |\\psi_m\\rangle\\}$ e $B = \\{|\\theta_1\\rangle, \\cdots |\\theta_m\\rangle\\}$\n",
    "* O espaço vetorial $V \\otimes W$ é o espaço cuja base é formada pelos $mn$ elementos da forma $|\\alpha_i\\rangle \\otimes |\\beta_j\\rangle$."
   ]
  },
  {
   "cell_type": "markdown",
   "metadata": {
    "slideshow": {
     "slide_type": "fragment"
    }
   },
   "source": [
    "* O produto tensorial segue as seguintes propriedades:\n",
    "    * $(|v_1\\rangle+|v_2\\rangle) \\otimes |w\\rangle = |v_1\\rangle\\otimes|w\\rangle + |v_2\\rangle\\otimes|w\\rangle$\n",
    "    * $|v\\rangle \\otimes (|w_1\\rangle+|w_2\\rangle) = |v\\rangle\\otimes|w_1\\rangle + |v\\rangle\\otimes|w_2\\rangle$\n",
    "    * $(a|v\\rangle) \\otimes |w\\rangle = |v\\rangle \\otimes (a|w\\rangle) = a(|v\\rangle \\otimes |w\\rangle)$"
   ]
  },
  {
   "cell_type": "markdown",
   "metadata": {
    "slideshow": {
     "slide_type": "fragment"
    }
   },
   "source": [
    "* Os elementos de $V \\otimes W$ podem ser escritos como\n",
    "$$\\alpha_{11} (|\\psi_1\\rangle\\otimes|\\phi_1\\rangle) + \\cdots + \\alpha_{mn}|\\psi_m\\rangle \\otimes |\\theta_n\\rangle$$\n",
    "* Escrevemos |v\\rangle|w\\rangle para $|v\\rangle \\otimes |w\\rangle$"
   ]
  },
  {
   "cell_type": "markdown",
   "metadata": {
    "slideshow": {
     "slide_type": "slide"
    }
   },
   "source": [
    "# Produto tensorial\n",
    "* Sejam $A$ e $B$ são operadores lineares sobre $V$ e $W$ e $|v\\rangle$ e $|w\\rangle$ são vetores em $V$ e $W$,  $A\\otimes B$ é definido como\n",
    "\n",
    "$$(A\\otimes B)(|v\\rangle \\otimes |w\\rangle) = A|v\\rangle \\otimes B |w\\rangle$$"
   ]
  },
  {
   "cell_type": "markdown",
   "metadata": {
    "slideshow": {
     "slide_type": "fragment"
    }
   },
   "source": [
    "### Exemplo\n",
    " * Calcule: \n",
    "     * $(H \\otimes H) (|0\\rangle \\otimes |0\\rangle)$\n",
    "     * $H|0\\rangle \\otimes H|0\\rangle$"
   ]
  },
  {
   "cell_type": "markdown",
   "metadata": {
    "slideshow": {
     "slide_type": "slide"
    }
   },
   "source": [
    "## Porta não controlada\n",
    "\n",
    "* A porta CNOT atua sobre dois qbits e inverte o segundo caso o primeiro esteja no estado $|1\\rangle$\n",
    "    * $CNOT |00\\rangle = |00\\rangle$\n",
    "    * $CNOT |01\\rangle = |01\\rangle$\n",
    "    * $CNOT |10\\rangle = |11\\rangle$\n",
    "    * $CNOT |11\\rangle = |10\\rangle$\n"
   ]
  },
  {
   "cell_type": "markdown",
   "metadata": {
    "slideshow": {
     "slide_type": "fragment"
    }
   },
   "source": [
    "### Exemplo\n",
    "* Determine a matriz do operador CNOT na base $\\{|00\\rangle, |01\\rangle, |10\\rangle, |11\\rangle\\}$"
   ]
  },
  {
   "cell_type": "markdown",
   "metadata": {
    "slideshow": {
     "slide_type": "slide"
    }
   },
   "source": [
    "## Estados emaranhados\n",
    "\n",
    "* Determine o estado $|\\psi\\rangle = CNOT(H\\otimes I)|00\\rangle$\n",
    "* Escreva este estado como o produto tensorial de dois qubits na forma $(a_0|0\\rangle+b_0|1\\rangle) \\otimes (a_1|0\\rangle+b_1|1\\rangle)$\n"
   ]
  },
  {
   "cell_type": "markdown",
   "metadata": {
    "slideshow": {
     "slide_type": "fragment"
    }
   },
   "source": [
    "* Estados com $n$ qbits que não podem ser descritos como um produto tensorial de $n$ qbits são denominados **emaranhados**"
   ]
  },
  {
   "cell_type": "markdown",
   "metadata": {
    "slideshow": {
     "slide_type": "slide"
    }
   },
   "source": [
    "## Medição de sistemas com múltiplos qbits\n",
    "* Seja $|\\psi\\rangle = a_{00}|00\\rangle + a_{01}|01\\rangle + a_{10}|10\\rangle + a_{11}|11\\rangle$\n",
    "* Que resultado obtemos ao medir os dois qbits?\n",
    "* E se medirmos apenas o primeiro qbit?\n"
   ]
  },
  {
   "cell_type": "markdown",
   "metadata": {
    "slideshow": {
     "slide_type": "slide"
    }
   },
   "source": [
    "## Referências\n",
    "- Rieffel, Eleanor G., and Wolfgang H. Polak. Quantum computing: A gentle introduction. MIT Press, 2011.\n",
    "- Nielsen, Michael A., and Isaac Chuang. \"Quantum computation and quantum information.\" (2002): 558-559.\n",
    "- https://qiskit.org/\n"
   ]
  }
 ],
 "metadata": {
  "celltoolbar": "Slideshow",
  "kernelspec": {
   "display_name": "Python 3",
   "language": "python",
   "name": "python3"
  },
  "language_info": {
   "codemirror_mode": {
    "name": "ipython",
    "version": 3
   },
   "file_extension": ".py",
   "mimetype": "text/x-python",
   "name": "python",
   "nbconvert_exporter": "python",
   "pygments_lexer": "ipython3",
   "version": "3.6.9"
  }
 },
 "nbformat": 4,
 "nbformat_minor": 2
}
