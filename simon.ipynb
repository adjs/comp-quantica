{
 "cells": [
  {
   "cell_type": "markdown",
   "metadata": {},
   "source": [
    "# Algoritmo de Simon\n",
    "\n",
    "\n",
    "Fábio Alves de Freitas  \n",
    "Raissa Camelo  \n",
    "Universidade Federal Rural de Pernambuco\n",
    "\n",
    "## Introdução\n",
    "\n",
    "O algoritmo de simon trata de encontrar padrões em funções da seguinte forma. Dado uma função  $f:${0,1}$^n$ $\\rightarrow$ {0,1}$^n$ na qual $f(x) = f(y)$ se e somente se $x = y \\oplus c$. Ou seja, teremos pares de entradas equivalentes. O objetivo do algoritmo é encontrar o valor $c$ que gera este padrão na função de entrada. $c$ é uma string binária da seguinte forma: \n",
    "$c_1,c_2,...,c_n$. Podemos analisar melhor o formato de uma função deste gênero com os exemplos abaixo.\n",
    "\n",
    "---\n",
    "Exemplo de $função$ com $n = 3:$     \n",
    "\n",
    "$f(000) = f(111) = 001$  \n",
    "$f(001) = f(110) = 010$  \n",
    "$f(010) = f(101) = 100$  \n",
    "$f(011) = f(100) = 110$  \n",
    "\n",
    "---\n",
    "\n",
    "Exemplo de mapeamento para $c = 010:$\n",
    "\n",
    "$000 \\oplus 010 = 010$  \n",
    "$001 \\oplus 010 = 011$  \n",
    "$010 \\oplus 010 = 000$        \n",
    "$011 \\oplus 010 = 001$    \n",
    "$100 \\oplus 010 = 110$   \n",
    "$101 \\oplus 010 = 111$   \n",
    "$110 \\oplus 010 = 100$  \n",
    "$111 \\oplus 010 = 101$\n",
    "\n",
    "logo a função será: \n",
    "\n",
    "$f(000) = f(010)$  \n",
    "$f(001) = f(011)$  \n",
    "$f(100) = f(110)$  \n",
    "$f(101) = f(111)$\n",
    "\n",
    "---\n",
    "\n",
    "Exemplo de mapeamento para $c = 000:$\n",
    "\n",
    "$000 \\oplus 000 = 000$  \n",
    "$001 \\oplus 000 = 001$  \n",
    "$010 \\oplus 000 = 010$        \n",
    "$011 \\oplus 000 = 011$    \n",
    "$100 \\oplus 000 = 100$   \n",
    "$101 \\oplus 000 = 101$   \n",
    "$110 \\oplus 000 = 110$  \n",
    "$111 \\oplus 000 = 111$\n",
    "\n",
    "Caso o $c$ seja uma sequência de zeros $(0^n)$, então a função será um mapeamento de um para um.\n",
    "\n",
    "---"
   ]
  },
  {
   "cell_type": "markdown",
   "metadata": {},
   "source": [
    "\n",
    "\n",
    " ## Complexidade do algoritmo\n",
    " \n",
    " Para resolver este problema da forma clássica poderíamos fazer da seguinte forma: testar muitas entradas sobre a função e anotar os resultados, se num determinado momento um valor repetido surgisse, então poderiamos descobrir o valor de $c$.\n",
    "\n",
    "$x_1 \\oplus x_2 = c$\n",
    "\n",
    "Para uma função de strings de comprimento $n$, no pior caso, teríamos que testar metade das strings, na qual todas terial valores diferentes, mais uma adicional, que garantiria que pelo menos um dos testes anteriores teria um valor igual ao último teste.\n",
    " \n",
    "$\\dfrac{2^n}{2}+1 =    2^{n-1}+1 = O(2^n)$\n",
    "\n",
    "Ou seja, a complexidade seria exponencial para o algoritmo clássico. Já o algoritmo quântico possui custo linear $O(n)$, uma vez que podemos encontrar o valor de $c$ avaliando a função $n$ vezes.\n"
   ]
  },
  {
   "cell_type": "markdown",
   "metadata": {},
   "source": [
    "## O algoritmo\n",
    "\n",
    "A solução deste problema mais eficiente utilizando a computação quântica. O funcionamento do algoritmo acontece da seguinte forma: \n",
    "\n",
    "1.) Colocamos na entrada duas strings de tamanho $n$ formadas apenas por zero.  \n",
    "$|\\psi_0\\rangle = |0\\rangle^{\\otimes n} \\otimes |0\\rangle^{\\otimes n}$  \n",
    "\n",
    "2.) Aplicamos o hadamard nos $n$ qubits do topo, deixando-os em superposição.  \n",
    "$|\\psi_1\\rangle = (H^{\\otimes n} \\otimes I^{\\otimes n}) |\\psi_0\\rangle$\n",
    "\n",
    "3.) Aplicamos o operador $U_f$ sobre os qubits e a função $f$ de entrada.  \n",
    "$|\\psi_2\\rangle = U_f |\\psi_1\\rangle$ \n",
    "\n",
    "4.) Aplicamos novamente o haddamard nos $n$ qubits do topo, tirando-os de superposição.  \n",
    "$|\\psi_3\\rangle = (H^{\\otimes n} \\otimes I^{\\otimes n}) |\\psi_2\\rangle$\n",
    "\n",
    "5.) Medimos os $n$ qubits do topo. Eles formaram um sistema linear. Resolvendo o sistema poderemos determinar o valor de $c$.\n",
    "\n",
    "\n"
   ]
  },
  {
   "cell_type": "markdown",
   "metadata": {},
   "source": [
    "## Explicação matemática\n",
    "\n",
    "O porquê o algoritmo funcionar fica mais claro observando do ponto de vista matemático. Seguindo cada etapa do algoritmo ($|\\psi_0\\rangle$ a $|\\psi_3\\rangle$) temos as seguintes formulações matemáticas:\n",
    "\n",
    "\n",
    "1.) No início temos os $(2*n)$  kats zero como inicialização. Como todos os kats estão em paraleto, então nós aplicamos a operação tensorial entre eles para formar este estado.  \n",
    "$|\\psi_0\\rangle = |0\\rangle^{\\otimes n} \\otimes |0\\rangle^{\\otimes n}$  \n",
    "\n",
    "\n",
    "2.) Iremos aplicar o hadamard nos $n$ qubits do topo e a identidade nos demais. Sabendo que todos os $n$ qubits do topo são zero, então a aplicação do hadamard irá gerar todas as combinações possíveis para strings binárias nos $n$ qubits do topo. Podemos escrever isto de forma mais compacta com um somatório. Basta repetir os $n$ qubits debaixo, pois estamos aplicando a identidade neles. O $|\\psi_1\\rangle$ ficará da seguinte forma.  \n",
    "$|\\psi_1\\rangle = \\dfrac{\\sum_{x\\in(0,1)^n} |x,0\\rangle}{\\sqrt{2^n}}$\n",
    "\n",
    "\n",
    "3.) Aplicando o operador $U_f$. Este operador leva uma entrada $|x, y\\rangle$ para $|x, y\\oplus f(x)\\rangle$. No estado atual do algoritmo podemos observar que o $n$ qubits debaixo são kats zero. Aplicando a operação temos que: $|x, 0\\oplus f(x)\\rangle$, que é igual a $|x, f(x)\\rangle$. Como devemos aplicar esta regra para todos os $n$ qubits debaixo, então podemos escrever o somatório da seguinte forma.  \n",
    "$|\\psi_2\\rangle = \\dfrac{\\sum_{x\\in(0,1)^n} |x,f(x)\\rangle}{\\sqrt{2^n}}$\n",
    "\n",
    "\n",
    "4.) Nesta etapa, precisamos aplicar novamente o hadamard nos $n$ qubits do topo. Como já temos um somatório e a aplicação do hadamard em vários qubits é representado por um somatório, então escreveremos isto utilizando dois somatórios. Nesta etapa os $n$ qubits do topo não todos kats zero, então é necessário aplicar a notação completa que utiliza o produto interno entre elementos de ambos os somatórios.  \n",
    "$|\\psi_3\\rangle = \\dfrac{  \\sum_{x\\in(0,1)^n}( \\sum_{z\\in(0,1)^n} (-1)^{\\langle z,x \\rangle}|z,f(x)\\rangle   )}{2^n}$\n",
    "\n",
    "Após todas estas etapas, iremos medir os $n$ qubits do topo. De acordo com a definição do algoritmo, caso o valor de $c$ seja diferente de zero, então sabemos que cada $f(x)$ tem outra entrada com mapeamento equivalente na função:  \n",
    "$y = x \\oplus c$, ou seja, $f(x) = f(x \\oplus c)$  \n",
    "\n",
    "Com esta informação e sabendo que na etapa quatro do algoritmo nós avaliamos todas as entradas da função (assumindo $c \\ne 0$) temos que as entradas equivalentes estão sendo somadas:\n",
    "\n",
    "$\\dfrac{(-1)^{\\langle z,x \\rangle} + (-1)^{\\langle z,y \\rangle}}{2^n}$ =\n",
    "$\\dfrac{(-1)^{\\langle z,x \\rangle} + (-1)^{\\langle z,x \\oplus c \\rangle}}{2^n}$ =\n",
    "$\\dfrac{(-1)^{\\langle z,x \\rangle} + (-1)^{\\langle z,x \\rangle \\oplus \\langle z,c \\rangle}}{2^n}$ =\n",
    "$\\dfrac{(-1)^{\\langle z,x \\rangle}( 1 + (-1)^{\\langle z,c \\rangle})}{2^n}$\n",
    "\n",
    "Após todas essas simplificações, podemos observar que $\\langle z,c \\rangle$ pode valor 0 ou 1.\n",
    "\n",
    "---\n",
    "1. caso $\\langle z,c \\rangle = 1$ \n",
    "\n",
    "$\\dfrac{(-1)^{\\langle z,x \\rangle}( 1 + (-1)^{1} )}{2^n}$ = \n",
    "$\\dfrac{(-1)^{\\langle z,x \\rangle}( 1 - 1 )}{2^n}$ = \n",
    "$\\dfrac{(-1)^{\\langle z,x \\rangle}(0)}{2^n}$ = \n",
    "$\\dfrac{0}{2^n}$ = \n",
    "$0$\n",
    "\n",
    "Se $\\langle z,c \\rangle = 1$, então não podemos extrair nada sobre o valor de $c$.\n",
    "\n",
    "---\n",
    "2. caso $\\langle z,c \\rangle = 0$ \n",
    "\n",
    "$\\dfrac{(-1)^{\\langle z,x \\rangle}( 1 + (-1)^{0} )}{2^n}$ = \n",
    "$\\dfrac{(-1)^{\\langle z,x \\rangle}( 1 + 1 )}{2^n}$ = \n",
    "$\\dfrac{(-1)^{\\langle z,x \\rangle}( 2 )}{2^n}$ \n",
    "\n",
    "Se $\\langle z,c \\rangle = 0$, então poderemos extrair informação útil para descobrir o $c$, pois o resultado não será nulo.\n",
    "\n",
    "---\n",
    "\n"
   ]
  },
  {
   "cell_type": "markdown",
   "metadata": {},
   "source": [
    "## Descobrindo o valor de $c$\n",
    "\n",
    "Para descobrir o valor de $c$ nós executamos o algoritmo diversas vezes sobre a mesma função. Após isto, caso os elementos equivalentes tiverem o $\\langle z,c \\rangle = 0$, então poderemos escrever um sistema linear. Resolvendo este sistema linear descobriremos o $c$.\n",
    "\n",
    "Exemplo:\n",
    "\n",
    "Após executar o algoritmo sobre a função: $f(00) = f(10) = 00$ e $f(01) = f(11) = 10$. Obtivemos o seguinte sistema linear:\n",
    "\n",
    "1. $\\langle 00,c \\rangle = 0$  \n",
    "1. $\\langle 01,c \\rangle = 0$  \n",
    "1. $\\langle 11,c \\rangle = 0$\n",
    "\n",
    "podemos escrever isto como:\n",
    "\n",
    "1. $0c_1 \\oplus 0c_2 = 0$  \n",
    "1. $0c_1 \\oplus 1c_2 = 0$  \n",
    "1. $1c_1 \\oplus 1c_2 = 0$  \n",
    "\n",
    "Após resolvendo o sistema temos que: $c_1 = 1$ e $c_2 = 0$.\n",
    "\n",
    "$c = c_1 c_2$, então o valor de $c = 10$\n",
    "\n",
    "---\n",
    "\n",
    "#### checando se o resultado está correto:\n",
    "\n",
    "$00 \\oplus 10 = 10$  \n",
    "$01 \\oplus 10 = 11$  \n",
    "$10 \\oplus 10 = 00$  \n",
    "$11 \\oplus 10 = 01$  \n",
    "\n",
    "$f(00) = f(10)$  \n",
    "$f(01) = f(11)$  \n",
    "\n",
    "Como pudemos a partir do valor $c$ encontrado formar a função inicial, então este é o valor de $c$ correto."
   ]
  },
  {
   "cell_type": "markdown",
   "metadata": {},
   "source": [
    "## Implementação\n",
    "\n",
    "A implementação do algoritmo é feita considerando $n = 2$ para a função abaixo:\n",
    "\n",
    "$f(00) = f(01) = 00$  \n",
    "$f(10) = f(11) = 11$  \n"
   ]
  },
  {
   "cell_type": "code",
   "execution_count": 1,
   "metadata": {},
   "outputs": [
    {
     "data": {
      "text/plain": [
       "<qiskit.backends.ibmq.ibmqprovider.IBMQProvider at 0x1d23876db38>"
      ]
     },
     "execution_count": 1,
     "metadata": {},
     "output_type": "execute_result"
    }
   ],
   "source": [
    "import qiskit as qkit\n",
    "from qiskit.tools.visualization import circuit_drawer\n",
    "from qiskit.tools.visualization import plot_histogram\n",
    "import time\n",
    "import QconfigFabio as Qconfig\n",
    "qkit.register(Qconfig.APItoken, Qconfig.config['url'])"
   ]
  },
  {
   "cell_type": "code",
   "execution_count": 2,
   "metadata": {},
   "outputs": [],
   "source": [
    "#criando 4 qubits, pois para n = 2 teremos essa quantidade como inicializaçao.\n",
    "rq = qkit.QuantumRegister(size=4)\n",
    "\n",
    "#criando 2 bits clássico, pois avaliaremos os n qubits do topo.\n",
    "rc = qkit.ClassicalRegister(size=2)"
   ]
  },
  {
   "cell_type": "code",
   "execution_count": 3,
   "metadata": {},
   "outputs": [
    {
     "name": "stderr",
     "output_type": "stream",
     "text": [
      "WARNING: Unable to compile latex. Is `pdflatex` installed? Skipping latex circuit drawing...\n"
     ]
    },
    {
     "data": {
      "image/png": "[encoded data removed]",
      "text/plain": [
       "<Figure size 662.2x481.6 with 1 Axes>"
      ]
     },
     "metadata": {},
     "output_type": "display_data"
    }
   ],
   "source": [
    "#inicializando os qubits e o bit\n",
    "simon = qkit.QuantumCircuit(rq, rc)\n",
    "\n",
    "#hadamard nos n primeiros qubits\n",
    "simon.h(rq[0])\n",
    "simon.h(rq[1])\n",
    "\n",
    "# função de entrada (Uf)\n",
    "simon.cx(rq[0], rq[2])\n",
    "simon.cx(rq[0], rq[3])\n",
    "\n",
    "#hadamard nos n primeiros qubits\n",
    "simon.h(rq[0])\n",
    "simon.h(rq[1])\n",
    "\n",
    "#medição dos n qubits do topo \n",
    "simon.measure(rq[0], rc[0])\n",
    "simon.measure(rq[1], rc[1])\n",
    "circuit_drawer(simon)"
   ]
  },
  {
   "cell_type": "markdown",
   "metadata": {},
   "source": [
    "### Simulação num Computador Clássico"
   ]
  },
  {
   "cell_type": "code",
   "execution_count": 5,
   "metadata": {},
   "outputs": [
    {
     "name": "stdout",
     "output_type": "stream",
     "text": [
      "{'status': <JobStatus.RUNNING: 'job is actively running'>, 'status_msg': None}\n",
      "waiting 0 segundos\n"
     ]
    },
    {
     "data": {
      "image/png": "[encoded data removed]",
      "text/plain": [
       "<Figure size 432x288 with 1 Axes>"
      ]
     },
     "metadata": {},
     "output_type": "display_data"
    }
   ],
   "source": [
    "backend = \"local_qasm_simulator\"\n",
    "shots = 1000\n",
    "job = qkit.execute(simon, backend=backend, shots=shots)\n",
    "k = 0\n",
    "wait_time = 1\n",
    "while not job.done:\n",
    "    print(job.status)\n",
    "    print('waiting '+ str(k) + ' segundos' )\n",
    "    k = k + wait_time\n",
    "    time.sleep(wait_time)\n",
    "    \n",
    "results_sim = job.result() \n",
    "outputs_sim = results_sim.get_counts()\n",
    "\n",
    "plot_histogram(outputs_sim)"
   ]
  },
  {
   "cell_type": "markdown",
   "metadata": {},
   "source": [
    "### Simulação num Computador Quântico"
   ]
  },
  {
   "cell_type": "code",
   "execution_count": null,
   "metadata": {},
   "outputs": [],
   "source": [
    "backend = \"ibmq_16_melbourne\"\n",
    "shots = 1000\n",
    "job = qkit.execute(simon, backend=backend, shots=shots)\n",
    "k = 0\n",
    "wait_time = 10\n",
    "while not job.done:\n",
    "    print(job.status)\n",
    "    print('waiting '+ str(k) + ' segundos' )\n",
    "    k = k + wait_time\n",
    "    time.sleep(wait_time)\n",
    "    \n",
    "results = job.result() \n",
    "outputs = results.get_counts()\n",
    "\n",
    "plot_histogram(outputs)"
   ]
  },
  {
   "cell_type": "markdown",
   "metadata": {},
   "source": [
    "### Discussão\n",
    "\n",
    "Com este algoritmo podemos ter um ganho computacional tremento em comparação ao custo de implementar este algoritmo num computador clássico, pois partimos de um custo exponencial $O(2^n)$ para um linear $O(n)$. Há pesquisas mostrando usos para o algoritmo de simon no ramo da criptografia."
   ]
  },
  {
   "cell_type": "markdown",
   "metadata": {},
   "source": [
    "***\n",
    "## Referências\n",
    "Yanofsky, Noson S. and Mirco A. MannucciQuantum computing for computer scientists. Cambridge: Cambridge University Press, 2008.  \n",
    "Nielsen, Michael A., and Isaac Chuang. \"Quantum computation and quantum information.\" (2002): 558-559."
   ]
  }
 ],
 "metadata": {
  "kernelspec": {
   "display_name": "Python 3",
   "language": "python",
   "name": "python3"
  },
  "language_info": {
   "codemirror_mode": {
    "name": "ipython",
    "version": 3
   },
   "file_extension": ".py",
   "mimetype": "text/x-python",
   "name": "python",
   "nbconvert_exporter": "python",
   "pygments_lexer": "ipython3",
   "version": "3.6.5"
  }
 },
 "nbformat": 4,
 "nbformat_minor": 2
}
