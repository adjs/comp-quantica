{
 "cells": [
  {
   "cell_type": "markdown",
   "metadata": {},
   "source": [
    "# Algoritmo de Simon\n",
    "\n",
    "\n",
    "Fábio Alves de Freiras  \n",
    "Raissa Camelo  \n",
    "Universidade Federal Rural de Pernambuco\n",
    "\n",
    "## introdução\n",
    "\n",
    "O algoritmo de simon trata de encontrar padrões em funções da seguinte forma. Dado uma função  $f:${0,1}$^n$ $\\rightarrow$ {0,1}$^n$ na qual $f(x) = f(y)\\leftrightarrow x = y \\oplus c$.\n",
    "\n",
    "exemplo para $n = 3:$     \n",
    "\n",
    "$f(000) = f(111) = 001$  \n",
    "$f(001) = f(110) = 010$  \n",
    "$f(010) = f(101) = 100$  \n",
    "$f(011) = f(100) = 110$  \n",
    "\n",
    "O objetivo do algoritmo de simon é encontrar o valor $c$ que gera este padrão na função de entrada. Desta forma, a única informação de entrada que temos é a função $f$ \n",
    "\n",
    "\n"
   ]
  },
  {
   "cell_type": "code",
   "execution_count": null,
   "metadata": {},
   "outputs": [],
   "source": []
  },
  {
   "cell_type": "code",
   "execution_count": null,
   "metadata": {},
   "outputs": [],
   "source": []
  },
  {
   "cell_type": "code",
   "execution_count": null,
   "metadata": {},
   "outputs": [],
   "source": []
  },
  {
   "cell_type": "code",
   "execution_count": null,
   "metadata": {},
   "outputs": [],
   "source": []
  },
  {
   "cell_type": "code",
   "execution_count": null,
   "metadata": {},
   "outputs": [],
   "source": []
  }
 ],
 "metadata": {
  "kernelspec": {
   "display_name": "Python 3",
   "language": "python",
   "name": "python3"
  },
  "language_info": {
   "codemirror_mode": {
    "name": "ipython",
    "version": 3
   },
   "file_extension": ".py",
   "mimetype": "text/x-python",
   "name": "python",
   "nbconvert_exporter": "python",
   "pygments_lexer": "ipython3",
   "version": "3.6.5"
  }
 },
 "nbformat": 4,
 "nbformat_minor": 2
}
