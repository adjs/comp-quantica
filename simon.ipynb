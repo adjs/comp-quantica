{
 "cells": [
  {
   "cell_type": "markdown",
   "metadata": {},
   "source": [
    "# Algoritmo de Simon\n",
    "\n",
    "\n",
    "Fábio Alves de Freiras  \n",
    "Raissa Camelo  \n",
    "Universidade Federal Rural de Pernambuco\n",
    "\n",
    "## Introdução\n",
    "\n",
    "O algoritmo de simon trata de encontrar padrões em funções da seguinte forma. Dado uma função  $f:${0,1}$^n$ $\\rightarrow$ {0,1}$^n$ na qual $f(x) = f(y)$ se e somente se $x = y \\oplus c$. Ou seja, teremos pares de entradas equivalentes. O objetivo do algoritmo é encontrar o valor $c$ que gera este padrão na função de entrada. Podemos analisar melhor o formato de uma função deste gênero com os exemplos abaixo.\n",
    "\n",
    "---\n",
    "Exemplo de $função$ com $n = 3:$     \n",
    "\n",
    "$f(000) = f(111) = 001$  \n",
    "$f(001) = f(110) = 010$  \n",
    "$f(010) = f(101) = 100$  \n",
    "$f(011) = f(100) = 110$  \n",
    "\n",
    "---\n",
    "\n",
    "Exemplo de mapeamento para $c = 010:$\n",
    "\n",
    "$000 \\oplus 010 = 010$  \n",
    "$001 \\oplus 010 = 011$  \n",
    "$010 \\oplus 010 = 000$        \n",
    "$011 \\oplus 010 = 001$    \n",
    "$100 \\oplus 010 = 110$   \n",
    "$101 \\oplus 010 = 111$   \n",
    "$110 \\oplus 010 = 100$  \n",
    "$111 \\oplus 010 = 101$\n",
    "\n",
    "logo a função será: \n",
    "\n",
    "$f(000) = f(010)$  \n",
    "$f(001) = f(011)$  \n",
    "$f(100) = f(110)$  \n",
    "$f(101) = f(111)$\n",
    "\n",
    "---\n",
    "\n",
    "Exemplo de mapeamento para $c = 000:$\n",
    "\n",
    "$000 \\oplus 000 = 000$  \n",
    "$001 \\oplus 000 = 001$  \n",
    "$010 \\oplus 000 = 010$        \n",
    "$011 \\oplus 000 = 011$    \n",
    "$100 \\oplus 000 = 100$   \n",
    "$101 \\oplus 000 = 101$   \n",
    "$110 \\oplus 000 = 110$  \n",
    "$111 \\oplus 000 = 111$\n",
    "\n",
    "Caso o $c$ seja uma sequência de zeros $(0^n)$, então a função será um mapeamento de um para um.\n",
    "\n",
    "---"
   ]
  },
  {
   "cell_type": "markdown",
   "metadata": {},
   "source": [
    "\n",
    "\n",
    " ## Complexidade do algoritmo clássico\n",
    " \n",
    " Para resolver este problema da forma clássica poderíamos fazer da seguinte forma: testar muitas entradas sobre a função e anotar os resultados, se num determinado momento um valor repetido surgisse, então poderiamos descobrir o valor de $c$.\n",
    "\n",
    "$x_1 \\oplus x_2 = c$\n",
    "\n",
    "Para uma função de strings de comprimento $n$, no pior caso, teríamos que testar metade das strings, na qual todas terial valores diferentes, mais uma adicional, que garantiria que pelo menos um dos testes anteriores teria um valor igual ao último teste.\n",
    " \n",
    "$\\dfrac{2^n}{2}+1 =    2^{n-1}+1 = O(2^n)$\n",
    "\n",
    "Ou seja, a complexidade seria exponencial\n",
    "\n"
   ]
  },
  {
   "cell_type": "markdown",
   "metadata": {},
   "source": [
    "## O algoritmo\n",
    "\n",
    "A solução deste problema mais eficiente utilizando a computação quântica. O funcionamento do algoritmo acontece da seguinte forma: \n",
    "\n",
    "1.) Colocamos na entrada duas strings de tamanho $n$ formadas apenas por zero.  \n",
    "$|\\psi_0\\rangle = |0\\rangle^{\\otimes n} \\otimes |0\\rangle^{\\otimes n}$  \n",
    "\n",
    "2.) Aplicamos o haddamard nos $n$ qubits do topo, deixando-os em superposição.  \n",
    "$|\\psi_1\\rangle = (H^{\\otimes n} \\otimes I^{\\otimes n}) |\\psi_0\\rangle$\n",
    "\n",
    "3.) Aplicamos o operador $U_f$ sobre os qubits e a função $f$ de entrada.  \n",
    "$|\\psi_2\\rangle = U_f |\\psi_1\\rangle$ \n",
    "\n",
    "4.) Aplicamos novamente o haddamard nos $n$ qubits do topo, tirando-os de superposição.  \n",
    "$|\\psi_3\\rangle = (H^{\\otimes n} \\otimes I^{\\otimes n}) |\\psi_2\\rangle$\n",
    "\n",
    "5.) Medimos os $n$ qubits do topo. Eles formaram um sistema linear. Resolvendo o sistema poderemos determinar o valor de $c$.\n",
    "\n",
    "\n"
   ]
  },
  {
   "cell_type": "markdown",
   "metadata": {},
   "source": [
    "## Explicação matemática\n",
    "\n",
    "FALTA FAZER\n",
    "\n"
   ]
  },
  {
   "cell_type": "markdown",
   "metadata": {},
   "source": [
    "## Implementação\n",
    "\n",
    "A implementação do algoritmo é feita considerando $n = 2$ para a função abaixo:\n",
    "\n",
    "$f(00) = f(01) = 00$  \n",
    "$f(10) = f(11) = 10$  \n"
   ]
  },
  {
   "cell_type": "code",
   "execution_count": 1,
   "metadata": {},
   "outputs": [
    {
     "data": {
      "text/plain": [
       "<qiskit.backends.ibmq.ibmqprovider.IBMQProvider at 0x177f16e4e48>"
      ]
     },
     "execution_count": 1,
     "metadata": {},
     "output_type": "execute_result"
    }
   ],
   "source": [
    "import qiskit as qkit\n",
    "from qiskit.tools.visualization import circuit_drawer\n",
    "from qiskit.tools.visualization import plot_histogram\n",
    "import time\n",
    "import QconfigFabio as Qconfig\n",
    "qkit.register(Qconfig.APItoken, Qconfig.config['url'])"
   ]
  },
  {
   "cell_type": "code",
   "execution_count": 3,
   "metadata": {},
   "outputs": [],
   "source": [
    "#criando 4 qubits, pois para n = 2 teremos essa quantidade como inicializaçao.\n",
    "rq = qkit.QuantumRegister(size=4)\n",
    "\n",
    "#criando 2 bits clássico, pois avaliaremos os n qubits do topo.\n",
    "rc = qkit.ClassicalRegister(size=2)"
   ]
  },
  {
   "cell_type": "code",
   "execution_count": 4,
   "metadata": {},
   "outputs": [
    {
     "name": "stderr",
     "output_type": "stream",
     "text": [
      "WARNING: Unable to compile latex. Is `pdflatex` installed? Skipping latex circuit drawing...\n"
     ]
    },
    {
     "data": {
      "image/png": "[encoded data removed]",
      "text/plain": [
       "<Figure size 421.4x481.6 with 1 Axes>"
      ]
     },
     "metadata": {},
     "output_type": "display_data"
    }
   ],
   "source": [
    "#inicializando os qubits e o bit\n",
    "simon = qkit.QuantumCircuit(rq, rc)\n",
    "\n",
    "#hadamard nos n primeiros qubits\n",
    "simon.h(rq[0])\n",
    "simon.h(rq[1])\n",
    "\n",
    "\n",
    "#função 1: deutsch.cx(rq[0], rq[1])\n",
    "#função 2: deutsch.x(rq[0])\n",
    "#          deutsch.cx(rq[0], rq[1])\n",
    "#          deutsch.x(rq[0])\n",
    "#função 3: matriz identidade, não precisa de comando.\n",
    "#função 4: deutsch.x(rq[1])\n",
    "           \n",
    "#hadamard no primeiro qubit\n",
    "\n",
    "#medição do segundo bit\n",
    "simon.measure(rq[0], rc[0])\n",
    "simon.measure(rq[1], rc[1])\n",
    "circuit_drawer(simon)"
   ]
  },
  {
   "cell_type": "code",
   "execution_count": null,
   "metadata": {},
   "outputs": [],
   "source": []
  },
  {
   "cell_type": "code",
   "execution_count": null,
   "metadata": {},
   "outputs": [],
   "source": []
  },
  {
   "cell_type": "code",
   "execution_count": null,
   "metadata": {},
   "outputs": [],
   "source": []
  },
  {
   "cell_type": "code",
   "execution_count": null,
   "metadata": {},
   "outputs": [],
   "source": []
  },
  {
   "cell_type": "code",
   "execution_count": null,
   "metadata": {},
   "outputs": [],
   "source": []
  },
  {
   "cell_type": "markdown",
   "metadata": {},
   "source": [
    "***\n",
    "## Referências\n",
    "Yanofsky, Noson S. and Mirco A. MannucciQuantum computing for computer scientists. Cambridge: Cambridge University Press, 2008.  \n",
    "Nielsen, Michael A., and Isaac Chuang. \"Quantum computation and quantum information.\" (2002): 558-559."
   ]
  }
 ],
 "metadata": {
  "kernelspec": {
   "display_name": "Python 3",
   "language": "python",
   "name": "python3"
  },
  "language_info": {
   "codemirror_mode": {
    "name": "ipython",
    "version": 3
   },
   "file_extension": ".py",
   "mimetype": "text/x-python",
   "name": "python",
   "nbconvert_exporter": "python",
   "pygments_lexer": "ipython3",
   "version": "3.6.5"
  }
 },
 "nbformat": 4,
 "nbformat_minor": 2
}
