{
 "cells": [
  {
   "cell_type": "markdown",
   "metadata": {},
   "source": [
    "# Olá mundo quântico\n",
    "\n",
    "Para executar o primeiro programa em um dispositivo quântico vamos utilizar as funções `Aer.get_backend`, `QuantumCircuit` e `execute` da biblioteca qiskit."
   ]
  },
  {
   "cell_type": "code",
   "execution_count": null,
   "metadata": {
    "slideshow": {
     "slide_type": "slide"
    }
   },
   "outputs": [],
   "source": [
    "from qiskit import Aer, QuantumCircuit, execute, IBMQ\n",
    "import numpy as np"
   ]
  },
  {
   "cell_type": "markdown",
   "metadata": {},
   "source": [
    "A função `QuantumCircuit` cria um circuito quântico com um número especificado de bits quânticos e clássicos. Por exemplo, `QuantumCircuit(1)` irá retornar um circuito com um bit quântico e `QuantumCircuit(2, 1)` irá retornar um circuito com dois bits quânticos e um bit clássico. Por exemplo, na chamada abaixo criamos um circuito com apenas um qubit."
   ]
  },
  {
   "cell_type": "code",
   "execution_count": null,
   "metadata": {},
   "outputs": [],
   "source": [
    "circuito = QuantumCircuit(1)\n",
    "circuito.draw('mpl')"
   ]
  },
  {
   "cell_type": "markdown",
   "metadata": {},
   "source": [
    "Para executar o circuito quântico devemos escolher o local onde o circuito será executado. Podendo ser em um simulador ou dispositivo quântico real. No exemplo abaixo foi utilizado o backend 'statevector_simulator' que permite visualizar o estado de um qubit. Esta visualização só é possível em um simulador. Não é possível visualizar o vetor que representa o bit quântico em um dispositivo quântico real."
   ]
  },
  {
   "cell_type": "code",
   "execution_count": null,
   "metadata": {},
   "outputs": [],
   "source": [
    "backend = Aer.get_backend('statevector_simulator')\n",
    "result = execute(circuito, backend).result()\n",
    "result.get_statevector()"
   ]
  },
  {
   "cell_type": "code",
   "execution_count": null,
   "metadata": {},
   "outputs": [],
   "source": [
    "1j * 1j # j representa o número imaginário"
   ]
  },
  {
   "cell_type": "markdown",
   "metadata": {},
   "source": [
    "# Operadores sobre um qubit\n",
    "- `circuito.x(k)` aplica o operador $X$ no bit quântico $k$."
   ]
  },
  {
   "cell_type": "code",
   "execution_count": null,
   "metadata": {},
   "outputs": [],
   "source": [
    "circuito.x(0)\n",
    "circuito.draw('mpl')"
   ]
  },
  {
   "cell_type": "markdown",
   "metadata": {},
   "source": [
    "O operador `x` tem representação matricial $\\begin{pmatrix} 0 & 1 \\\\ 1 & 0 \\end{pmatrix}$. Qual será a saída do código abaixo?"
   ]
  },
  {
   "cell_type": "code",
   "execution_count": null,
   "metadata": {},
   "outputs": [],
   "source": [
    "backend = Aer.get_backend('statevector_simulator')\n",
    "result = execute(circuito, backend).result()\n",
    "result.get_statevector()"
   ]
  },
  {
   "cell_type": "markdown",
   "metadata": {},
   "source": [
    "Outros exemplos de operadores quânticos disponíveis em `qiskit.circuit` são os operadores `y`, `z`, `h`, `rx`, `ry`, `rz` e `u`. O operador `u` é específico dos computadores da IBM. A função `QuantumCircuit.u(\\theta, \\phi, \\lamda, k)` aplica o operador `u` no bit quântico `k`. Veja a descrição destes operadores quânticos neste [link](https://qiskit.org/textbook/ch-states/single-qubit-gates.html#generalU).\n",
    "\n",
    "$$u(\\theta, \\phi, \\lambda) = \n",
    "\\begin{bmatrix} \n",
    "cos(\\theta/2) & -e^{i\\lambda }sen(\\theta/2) \\\\\n",
    "e^{i\\phi} sen(\\theta/2) & e^{i\\lambda + i\\phi}cos(\\theta/2)\n",
    "\\end{bmatrix}$$\n",
    "\n"
   ]
  },
  {
   "cell_type": "markdown",
   "metadata": {},
   "source": [
    "## Exercícios\n",
    "1. Utilizando o operador $u$ crie o estado quântico $u(\\theta, \\phi, \\lambda)|0\\rangle=\\frac{1}{\\sqrt{3}}|0\\rangle - i\\sqrt{\\frac{2}{3}}|1\\rangle$"
   ]
  },
  {
   "cell_type": "code",
   "execution_count": null,
   "metadata": {},
   "outputs": [],
   "source": [
    "import numpy as np\n",
    "circuitoq1 = QuantumCircuit(1)\n",
    "\n",
    "# seu código aqui\n",
    "\n",
    "\n",
    "\n",
    "result = execute(circuitoq1, backend).result()\n",
    "print(result.get_statevector())"
   ]
  },
  {
   "cell_type": "code",
   "execution_count": null,
   "metadata": {},
   "outputs": [],
   "source": [
    "circuitoq1.draw('mpl')"
   ]
  },
  {
   "cell_type": "markdown",
   "metadata": {},
   "source": [
    "2. Utilizando apenas os operadores Rz e Ry inicialize o estado quântico da questão 1."
   ]
  },
  {
   "cell_type": "code",
   "execution_count": null,
   "metadata": {},
   "outputs": [],
   "source": []
  },
  {
   "cell_type": "markdown",
   "metadata": {},
   "source": [
    "# Operadores sobre dois qubits"
   ]
  },
  {
   "cell_type": "markdown",
   "metadata": {},
   "source": [
    "O único operador sobre dois qubits disponível nos dispositivos quânticos utilizados na disciplina é o CNOT `QuantumCircuit.cx(k_1, k_2)`."
   ]
  },
  {
   "cell_type": "code",
   "execution_count": null,
   "metadata": {},
   "outputs": [],
   "source": [
    "circuito = QuantumCircuit(2)\n",
    "circuito.cx(0, 1)\n",
    "circuito.draw('mpl')"
   ]
  },
  {
   "cell_type": "markdown",
   "metadata": {},
   "source": [
    "Para criar um estado de Bell o circuito $CNOT_{0,1}(H\\otimes I)$"
   ]
  },
  {
   "cell_type": "code",
   "execution_count": null,
   "metadata": {},
   "outputs": [],
   "source": [
    "circuito = QuantumCircuit(2)\n",
    "circuito.h(0)\n",
    "circuito.cx(0, 1)\n",
    "circuito.draw('mpl')"
   ]
  },
  {
   "cell_type": "code",
   "execution_count": null,
   "metadata": {},
   "outputs": [],
   "source": [
    "result = execute(circuito, backend).result()\n",
    "print(result.get_statevector())"
   ]
  },
  {
   "cell_type": "markdown",
   "metadata": {},
   "source": [
    "Note que os qubits em circuitos com múltiplos bits quânticos são indexados da direita para esquerda. No circuito abaixo, ao aplicarmos o operador $X$ no qubit 0 obtemos o estado $|001\\rangle$."
   ]
  },
  {
   "cell_type": "code",
   "execution_count": null,
   "metadata": {},
   "outputs": [],
   "source": [
    "circuito = QuantumCircuit(3)\n",
    "circuito.x(0)\n",
    "\n",
    "\n",
    "result = execute(circuito, backend).result()\n",
    "print(result.get_statevector())\n",
    "circuito.draw('mpl')"
   ]
  },
  {
   "cell_type": "markdown",
   "metadata": {},
   "source": [
    "### Exercício"
   ]
  },
  {
   "cell_type": "markdown",
   "metadata": {},
   "source": [
    "Descreva a ação do circuito abaixo. Você pode resolver essa questão analiticamente utilizando bits arbitrários, ou investigar a ação do circuito nos vetores da base."
   ]
  },
  {
   "cell_type": "code",
   "execution_count": null,
   "metadata": {},
   "outputs": [],
   "source": [
    "circuito = QuantumCircuit(2)\n",
    "\n",
    "\n",
    "circuito.h(0)\n",
    "circuito.h(1)\n",
    "circuito.cx(0,1)\n",
    "circuito.h(0)\n",
    "circuito.h(1)\n",
    "\n",
    "circuito.draw('mpl')"
   ]
  },
  {
   "cell_type": "markdown",
   "metadata": {},
   "source": [
    "# Medição\n",
    "O backend 'state_vectorsimulator' permite a visualização de estados quânticos que não é uma operação possível em um dispositivo quântico real. Para simular o comportamento de um dispositivo quântico podemos utilizar o backend 'qasm_simulator'."
   ]
  },
  {
   "cell_type": "code",
   "execution_count": null,
   "metadata": {},
   "outputs": [],
   "source": [
    "backend = Aer.get_backend('qasm_simulator')"
   ]
  },
  {
   "cell_type": "markdown",
   "metadata": {},
   "source": [
    "Para obter informações sobre o estado de um sistema quântico será necessário realizar medições com a função `QuantumCircuit.measure(j, k)` que irá medir o qubit $j$ e armazenar a informação no bit $k$. "
   ]
  },
  {
   "cell_type": "code",
   "execution_count": null,
   "metadata": {},
   "outputs": [],
   "source": [
    "circuito = QuantumCircuit(1, 1)\n",
    "circuito.x(0)\n",
    "circuito.measure(0, 0)\n",
    "circuito.draw('mpl')"
   ]
  },
  {
   "cell_type": "code",
   "execution_count": null,
   "metadata": {},
   "outputs": [],
   "source": [
    "result = execute(circuito, backend, shots=1000).result()\n",
    "result.get_counts()"
   ]
  },
  {
   "cell_type": "markdown",
   "metadata": {},
   "source": [
    "### Exercícios\n",
    "Qual o resultado obtido ao executar os circuitos abaixo?"
   ]
  },
  {
   "cell_type": "code",
   "execution_count": null,
   "metadata": {},
   "outputs": [],
   "source": [
    "circuito = QuantumCircuit(1, 1)\n",
    "\n",
    "circuito.h(0)\n",
    "circuito.measure(0, 0)\n",
    "\n",
    "result = execute(circuito, backend, shots=1000).result()\n",
    "result.get_counts()"
   ]
  },
  {
   "cell_type": "code",
   "execution_count": null,
   "metadata": {},
   "outputs": [],
   "source": [
    "circuito = QuantumCircuit(2, 2)\n",
    "\n",
    "circuito.h(0)\n",
    "circuito.cx(0,1)\n",
    "\n",
    "circuito.measure(0, 0)\n",
    "circuito.measure(1, 1)\n",
    "\n",
    "circuito.draw('mpl')\n",
    "result = execute(circuito, backend, shots=1000).result()\n",
    "result.get_counts()"
   ]
  },
  {
   "cell_type": "markdown",
   "metadata": {},
   "source": [
    "### Execução em dispositivos quânticos reais"
   ]
  },
  {
   "cell_type": "code",
   "execution_count": null,
   "metadata": {},
   "outputs": [],
   "source": [
    "\n",
    "provider = IBMQ.enable_account('<seu-token>')"
   ]
  },
  {
   "cell_type": "code",
   "execution_count": null,
   "metadata": {},
   "outputs": [],
   "source": [
    "provider.backends()"
   ]
  },
  {
   "cell_type": "code",
   "execution_count": null,
   "metadata": {},
   "outputs": [],
   "source": [
    "backend = provider.get_backend('<dispositivo>')"
   ]
  },
  {
   "cell_type": "code",
   "execution_count": null,
   "metadata": {},
   "outputs": [],
   "source": [
    "backend.status().pending_jobs"
   ]
  },
  {
   "cell_type": "code",
   "execution_count": null,
   "metadata": {},
   "outputs": [],
   "source": [
    "result = execute(circuito, backend).result()\n",
    "result.get_counts()"
   ]
  },
  {
   "cell_type": "code",
   "execution_count": null,
   "metadata": {},
   "outputs": [],
   "source": []
  }
 ],
 "metadata": {
  "kernelspec": {
   "display_name": "Python 3",
   "language": "python",
   "name": "python3"
  },
  "language_info": {
   "codemirror_mode": {
    "name": "ipython",
    "version": 3
   },
   "file_extension": ".py",
   "mimetype": "text/x-python",
   "name": "python",
   "nbconvert_exporter": "python",
   "pygments_lexer": "ipython3",
   "version": "3.8.3"
  }
 },
 "nbformat": 4,
 "nbformat_minor": 4
}
